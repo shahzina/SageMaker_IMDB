{
 "cells": [
  {
   "cell_type": "markdown",
   "metadata": {},
   "source": [
    "# Creating a Sentiment Analysis Web App\n",
    "## Using PyTorch and SageMaker\n",
    "\n",
    "_Deep Learning Nanodegree Program | Deployment_\n",
    "\n",
    "---\n",
    "\n",
    "Now that we have a basic understanding of how SageMaker works we will try to use it to construct a complete project from end to end. Our goal will be to have a simple web page which a user can use to enter a movie review. The web page will then send the review off to our deployed model which will predict the sentiment of the entered review.\n",
    "\n",
    "## Instructions\n",
    "\n",
    "Some template code has already been provided for you, and you will need to implement additional functionality to successfully complete this notebook. You will not need to modify the included code beyond what is requested. Sections that begin with '**TODO**' in the header indicate that you need to complete or implement some portion within them. Instructions will be provided for each section and the specifics of the implementation are marked in the code block with a `# TODO: ...` comment. Please be sure to read the instructions carefully!\n",
    "\n",
    "In addition to implementing code, there will be questions for you to answer which relate to the task and your implementation. Each section where you will answer a question is preceded by a '**Question:**' header. Carefully read each question and provide your answer below the '**Answer:**' header by editing the Markdown cell.\n",
    "\n",
    "> **Note**: Code and Markdown cells can be executed using the **Shift+Enter** keyboard shortcut. In addition, a cell can be edited by typically clicking it (double-click for Markdown cells) or by pressing **Enter** while it is highlighted.\n",
    "\n",
    "## General Outline\n",
    "\n",
    "Recall the general outline for SageMaker projects using a notebook instance.\n",
    "\n",
    "1. Download or otherwise retrieve the data.\n",
    "2. Process / Prepare the data.\n",
    "3. Upload the processed data to S3.\n",
    "4. Train a chosen model.\n",
    "5. Test the trained model (typically using a batch transform job).\n",
    "6. Deploy the trained model.\n",
    "7. Use the deployed model.\n",
    "\n",
    "For this project, you will be following the steps in the general outline with some modifications. \n",
    "\n",
    "First, you will not be testing the model in its own step. You will still be testing the model, however, you will do it by deploying your model and then using the deployed model by sending the test data to it. One of the reasons for doing this is so that you can make sure that your deployed model is working correctly before moving forward.\n",
    "\n",
    "In addition, you will deploy and use your trained model a second time. In the second iteration you will customize the way that your trained model is deployed by including some of your own code. In addition, your newly deployed model will be used in the sentiment analysis web app."
   ]
  },
  {
   "cell_type": "markdown",
   "metadata": {},
   "source": [
    "## Step 1: Downloading the data\n",
    "\n",
    "As in the XGBoost in SageMaker notebook, we will be using the [IMDb dataset](http://ai.stanford.edu/~amaas/data/sentiment/)\n",
    "\n",
    "> Maas, Andrew L., et al. [Learning Word Vectors for Sentiment Analysis](http://ai.stanford.edu/~amaas/data/sentiment/). In _Proceedings of the 49th Annual Meeting of the Association for Computational Linguistics: Human Language Technologies_. Association for Computational Linguistics, 2011."
   ]
  },
  {
   "cell_type": "code",
   "execution_count": 1,
   "metadata": {},
   "outputs": [
    {
     "name": "stdout",
     "output_type": "stream",
     "text": [
      "--2020-05-25 06:19:33--  http://ai.stanford.edu/~amaas/data/sentiment/aclImdb_v1.tar.gz\n",
      "Resolving ai.stanford.edu (ai.stanford.edu)... 171.64.68.10\n",
      "Connecting to ai.stanford.edu (ai.stanford.edu)|171.64.68.10|:80... connected.\n",
      "HTTP request sent, awaiting response... 200 OK\n",
      "Length: 84125825 (80M) [application/x-gzip]\n",
      "Saving to: ‘../data/aclImdb_v1.tar.gz’\n",
      "\n",
      "../data/aclImdb_v1. 100%[===================>]  80.23M  22.4MB/s    in 6.0s    \n",
      "\n",
      "2020-05-25 06:19:39 (13.5 MB/s) - ‘../data/aclImdb_v1.tar.gz’ saved [84125825/84125825]\n",
      "\n"
     ]
    }
   ],
   "source": [
    "%mkdir ../data\n",
    "!wget -O ../data/aclImdb_v1.tar.gz http://ai.stanford.edu/~amaas/data/sentiment/aclImdb_v1.tar.gz\n",
    "!tar -zxf ../data/aclImdb_v1.tar.gz -C ../data"
   ]
  },
  {
   "cell_type": "markdown",
   "metadata": {},
   "source": [
    "## Step 2: Preparing and Processing the data\n",
    "\n",
    "Also, as in the XGBoost notebook, we will be doing some initial data processing. The first few steps are the same as in the XGBoost example. To begin with, we will read in each of the reviews and combine them into a single input structure. Then, we will split the dataset into a training set and a testing set."
   ]
  },
  {
   "cell_type": "code",
   "execution_count": 1,
   "metadata": {},
   "outputs": [],
   "source": [
    "import os\n",
    "import glob\n",
    "\n",
    "def read_imdb_data(data_dir='../data/aclImdb'):\n",
    "    data = {}\n",
    "    labels = {}\n",
    "    \n",
    "    for data_type in ['train', 'test']:\n",
    "        data[data_type] = {}\n",
    "        labels[data_type] = {}\n",
    "        \n",
    "        for sentiment in ['pos', 'neg']:\n",
    "            data[data_type][sentiment] = []\n",
    "            labels[data_type][sentiment] = []\n",
    "            \n",
    "            path = os.path.join(data_dir, data_type, sentiment, '*.txt')\n",
    "            files = glob.glob(path)\n",
    "            \n",
    "            for f in files:\n",
    "                with open(f) as review:\n",
    "                    data[data_type][sentiment].append(review.read())\n",
    "                    # Here we represent a positive review by '1' and a negative review by '0'\n",
    "                    labels[data_type][sentiment].append(1 if sentiment == 'pos' else 0)\n",
    "                    \n",
    "            assert len(data[data_type][sentiment]) == len(labels[data_type][sentiment]), \\\n",
    "                    \"{}/{} data size does not match labels size\".format(data_type, sentiment)\n",
    "                \n",
    "    return data, labels"
   ]
  },
  {
   "cell_type": "code",
   "execution_count": 2,
   "metadata": {},
   "outputs": [
    {
     "name": "stdout",
     "output_type": "stream",
     "text": [
      "IMDB reviews: train = 12500 pos / 12500 neg, test = 12500 pos / 12500 neg\n"
     ]
    }
   ],
   "source": [
    "data, labels = read_imdb_data()\n",
    "print(\"IMDB reviews: train = {} pos / {} neg, test = {} pos / {} neg\".format(\n",
    "            len(data['train']['pos']), len(data['train']['neg']),\n",
    "            len(data['test']['pos']), len(data['test']['neg'])))"
   ]
  },
  {
   "cell_type": "markdown",
   "metadata": {},
   "source": [
    "Now that we've read the raw training and testing data from the downloaded dataset, we will combine the positive and negative reviews and shuffle the resulting records."
   ]
  },
  {
   "cell_type": "code",
   "execution_count": 3,
   "metadata": {},
   "outputs": [],
   "source": [
    "from sklearn.utils import shuffle\n",
    "\n",
    "def prepare_imdb_data(data, labels):\n",
    "    \"\"\"Prepare training and test sets from IMDb movie reviews.\"\"\"\n",
    "    \n",
    "    #Combine positive and negative reviews and labels\n",
    "    data_train = data['train']['pos'] + data['train']['neg']\n",
    "    data_test = data['test']['pos'] + data['test']['neg']\n",
    "    labels_train = labels['train']['pos'] + labels['train']['neg']\n",
    "    labels_test = labels['test']['pos'] + labels['test']['neg']\n",
    "    \n",
    "    #Shuffle reviews and corresponding labels within training and test sets\n",
    "    data_train, labels_train = shuffle(data_train, labels_train)\n",
    "    data_test, labels_test = shuffle(data_test, labels_test)\n",
    "    \n",
    "    # Return a unified training data, test data, training labels, test labets\n",
    "    return data_train, data_test, labels_train, labels_test"
   ]
  },
  {
   "cell_type": "code",
   "execution_count": 4,
   "metadata": {},
   "outputs": [
    {
     "name": "stdout",
     "output_type": "stream",
     "text": [
      "IMDb reviews (combined): train = 25000, test = 25000\n"
     ]
    }
   ],
   "source": [
    "train_X, test_X, train_y, test_y = prepare_imdb_data(data, labels)\n",
    "print(\"IMDb reviews (combined): train = {}, test = {}\".format(len(train_X), len(test_X)))"
   ]
  },
  {
   "cell_type": "markdown",
   "metadata": {},
   "source": [
    "Now that we have our training and testing sets unified and prepared, we should do a quick check and see an example of the data our model will be trained on. This is generally a good idea as it allows you to see how each of the further processing steps affects the reviews and it also ensures that the data has been loaded correctly."
   ]
  },
  {
   "cell_type": "code",
   "execution_count": 5,
   "metadata": {},
   "outputs": [
    {
     "name": "stdout",
     "output_type": "stream",
     "text": [
      "Perhaps this could be the best movie ever made and if it's not it's certainly one of those who are burned onto your pupils as what Brian De Palma delivers here is a great piece of cinematographic artwork. First there is the director's touch of Brian De Palma who proves once again he might be one of the best directors ever, there is the superb performance from Al Pacino who is delivering an immortal hero on the big screen (Tony Montana), there are the many different (violent) scenes that you will never forget (the one with the chainsaw, the one in where Tony is sitting in a bath which is as big as most people's living rooms), there are the many superb one-liners (count how many times the word \"f*ck\" is used), there are the superb little details (the Pan American-globe that screams \"The world is yours\") or the great discomusic from Giorgio Moroder. Nothing can be named that isn't sublime here and it easily is along with \"The Godfather\", \"Good fellas\" and \"White heat\" one of the best gangstermovies ever made!\n",
      "1\n"
     ]
    }
   ],
   "source": [
    "print(train_X[100])\n",
    "print(train_y[100])"
   ]
  },
  {
   "cell_type": "markdown",
   "metadata": {},
   "source": [
    "The first step in processing the reviews is to make sure that any html tags that appear should be removed. In addition we wish to tokenize our input, that way words such as *entertained* and *entertaining* are considered the same with regard to sentiment analysis."
   ]
  },
  {
   "cell_type": "code",
   "execution_count": 6,
   "metadata": {},
   "outputs": [],
   "source": [
    "import nltk\n",
    "from nltk.corpus import stopwords\n",
    "from nltk.stem.porter import *\n",
    "\n",
    "import re\n",
    "from bs4 import BeautifulSoup\n",
    "\n",
    "def review_to_words(review):\n",
    "    nltk.download(\"stopwords\", quiet=True)\n",
    "    stemmer = PorterStemmer()\n",
    "    \n",
    "    text = BeautifulSoup(review, \"html.parser\").get_text() # Remove HTML tags\n",
    "    text = re.sub(r\"[^a-zA-Z0-9]\", \" \", text.lower()) # Convert to lower case\n",
    "    words = text.split() # Split string into words\n",
    "    words = [w for w in words if w not in stopwords.words(\"english\")] # Remove stopwords\n",
    "    words = [PorterStemmer().stem(w) for w in words] # stem\n",
    "    \n",
    "    return words"
   ]
  },
  {
   "cell_type": "markdown",
   "metadata": {},
   "source": [
    "The `review_to_words` method defined above uses `BeautifulSoup` to remove any html tags that appear and uses the `nltk` package to tokenize the reviews. As a check to ensure we know how everything is working, try applying `review_to_words` to one of the reviews in the training set."
   ]
  },
  {
   "cell_type": "code",
   "execution_count": 7,
   "metadata": {
    "scrolled": true
   },
   "outputs": [
    {
     "data": {
      "text/plain": [
       "['perhap',\n",
       " 'could',\n",
       " 'best',\n",
       " 'movi',\n",
       " 'ever',\n",
       " 'made',\n",
       " 'certainli',\n",
       " 'one',\n",
       " 'burn',\n",
       " 'onto',\n",
       " 'pupil',\n",
       " 'brian',\n",
       " 'de',\n",
       " 'palma',\n",
       " 'deliv',\n",
       " 'great',\n",
       " 'piec',\n",
       " 'cinematograph',\n",
       " 'artwork',\n",
       " 'first',\n",
       " 'director',\n",
       " 'touch',\n",
       " 'brian',\n",
       " 'de',\n",
       " 'palma',\n",
       " 'prove',\n",
       " 'might',\n",
       " 'one',\n",
       " 'best',\n",
       " 'director',\n",
       " 'ever',\n",
       " 'superb',\n",
       " 'perform',\n",
       " 'al',\n",
       " 'pacino',\n",
       " 'deliv',\n",
       " 'immort',\n",
       " 'hero',\n",
       " 'big',\n",
       " 'screen',\n",
       " 'toni',\n",
       " 'montana',\n",
       " 'mani',\n",
       " 'differ',\n",
       " 'violent',\n",
       " 'scene',\n",
       " 'never',\n",
       " 'forget',\n",
       " 'one',\n",
       " 'chainsaw',\n",
       " 'one',\n",
       " 'toni',\n",
       " 'sit',\n",
       " 'bath',\n",
       " 'big',\n",
       " 'peopl',\n",
       " 'live',\n",
       " 'room',\n",
       " 'mani',\n",
       " 'superb',\n",
       " 'one',\n",
       " 'liner',\n",
       " 'count',\n",
       " 'mani',\n",
       " 'time',\n",
       " 'word',\n",
       " 'f',\n",
       " 'ck',\n",
       " 'use',\n",
       " 'superb',\n",
       " 'littl',\n",
       " 'detail',\n",
       " 'pan',\n",
       " 'american',\n",
       " 'globe',\n",
       " 'scream',\n",
       " 'world',\n",
       " 'great',\n",
       " 'discomus',\n",
       " 'giorgio',\n",
       " 'morod',\n",
       " 'noth',\n",
       " 'name',\n",
       " 'sublim',\n",
       " 'easili',\n",
       " 'along',\n",
       " 'godfath',\n",
       " 'good',\n",
       " 'fella',\n",
       " 'white',\n",
       " 'heat',\n",
       " 'one',\n",
       " 'best',\n",
       " 'gangstermovi',\n",
       " 'ever',\n",
       " 'made']"
      ]
     },
     "execution_count": 7,
     "metadata": {},
     "output_type": "execute_result"
    }
   ],
   "source": [
    "# TODO: Apply review_to_words to a review (train_X[100] or any other review)\n",
    "review_to_words(train_X[100])"
   ]
  },
  {
   "cell_type": "markdown",
   "metadata": {},
   "source": [
    "**Question:** Above we mentioned that `review_to_words` method removes html formatting and allows us to tokenize the words found in a review, for example, converting *entertained* and *entertaining* into *entertain* so that they are treated as though they are the same word. What else, if anything, does this method do to the input?"
   ]
  },
  {
   "cell_type": "markdown",
   "metadata": {},
   "source": [
    "**Answer:**"
   ]
  },
  {
   "cell_type": "markdown",
   "metadata": {},
   "source": [
    "The method below applies the `review_to_words` method to each of the reviews in the training and testing datasets. In addition it caches the results. This is because performing this processing step can take a long time. This way if you are unable to complete the notebook in the current session, you can come back without needing to process the data a second time."
   ]
  },
  {
   "cell_type": "code",
   "execution_count": 8,
   "metadata": {},
   "outputs": [],
   "source": [
    "import pickle\n",
    "\n",
    "cache_dir = os.path.join(\"../cache\", \"sentiment_analysis\")  # where to store cache files\n",
    "os.makedirs(cache_dir, exist_ok=True)  # ensure cache directory exists\n",
    "\n",
    "def preprocess_data(data_train, data_test, labels_train, labels_test,\n",
    "                    cache_dir=cache_dir, cache_file=\"preprocessed_data.pkl\"):\n",
    "    \"\"\"Convert each review to words; read from cache if available.\"\"\"\n",
    "\n",
    "    # If cache_file is not None, try to read from it first\n",
    "    cache_data = None\n",
    "    if cache_file is not None:\n",
    "        try:\n",
    "            with open(os.path.join(cache_dir, cache_file), \"rb\") as f:\n",
    "                cache_data = pickle.load(f)\n",
    "            print(\"Read preprocessed data from cache file:\", cache_file)\n",
    "        except:\n",
    "            pass  # unable to read from cache, but that's okay\n",
    "    \n",
    "    # If cache is missing, then do the heavy lifting\n",
    "    if cache_data is None:\n",
    "        # Preprocess training and test data to obtain words for each review\n",
    "        #words_train = list(map(review_to_words, data_train))\n",
    "        #words_test = list(map(review_to_words, data_test))\n",
    "        words_train = [review_to_words(review) for review in data_train]\n",
    "        words_test = [review_to_words(review) for review in data_test]\n",
    "        \n",
    "        # Write to cache file for future runs\n",
    "        if cache_file is not None:\n",
    "            cache_data = dict(words_train=words_train, words_test=words_test,\n",
    "                              labels_train=labels_train, labels_test=labels_test)\n",
    "            with open(os.path.join(cache_dir, cache_file), \"wb\") as f:\n",
    "                pickle.dump(cache_data, f)\n",
    "            print(\"Wrote preprocessed data to cache file:\", cache_file)\n",
    "    else:\n",
    "        # Unpack data loaded from cache file\n",
    "        words_train, words_test, labels_train, labels_test = (cache_data['words_train'],\n",
    "                cache_data['words_test'], cache_data['labels_train'], cache_data['labels_test'])\n",
    "    \n",
    "    return words_train, words_test, labels_train, labels_test"
   ]
  },
  {
   "cell_type": "code",
   "execution_count": 9,
   "metadata": {},
   "outputs": [
    {
     "name": "stdout",
     "output_type": "stream",
     "text": [
      "Read preprocessed data from cache file: preprocessed_data.pkl\n"
     ]
    }
   ],
   "source": [
    "# Preprocess data\n",
    "train_X, test_X, train_y, test_y = preprocess_data(train_X, test_X, train_y, test_y)"
   ]
  },
  {
   "cell_type": "markdown",
   "metadata": {},
   "source": [
    "## Transform the data\n",
    "\n",
    "In the XGBoost notebook we transformed the data from its word representation to a bag-of-words feature representation. For the model we are going to construct in this notebook we will construct a feature representation which is very similar. To start, we will represent each word as an integer. Of course, some of the words that appear in the reviews occur very infrequently and so likely don't contain much information for the purposes of sentiment analysis. The way we will deal with this problem is that we will fix the size of our working vocabulary and we will only include the words that appear most frequently. We will then combine all of the infrequent words into a single category and, in our case, we will label it as `1`.\n",
    "\n",
    "Since we will be using a recurrent neural network, it will be convenient if the length of each review is the same. To do this, we will fix a size for our reviews and then pad short reviews with the category 'no word' (which we will label `0`) and truncate long reviews."
   ]
  },
  {
   "cell_type": "markdown",
   "metadata": {},
   "source": [
    "### (TODO) Create a word dictionary\n",
    "\n",
    "To begin with, we need to construct a way to map words that appear in the reviews to integers. Here we fix the size of our vocabulary (including the 'no word' and 'infrequent' categories) to be `5000` but you may wish to change this to see how it affects the model.\n",
    "\n",
    "> **TODO:** Complete the implementation for the `build_dict()` method below. Note that even though the vocab_size is set to `5000`, we only want to construct a mapping for the most frequently appearing `4998` words. This is because we want to reserve the special labels `0` for 'no word' and `1` for 'infrequent word'."
   ]
  },
  {
   "cell_type": "code",
   "execution_count": 10,
   "metadata": {},
   "outputs": [],
   "source": [
    "import numpy as np\n",
    "from collections import Counter\n",
    "\n",
    "def build_dict(data, vocab_size = 5000):\n",
    "    \"\"\"Construct and return a dictionary mapping each of the most frequently appearing words to a unique integer.\"\"\"\n",
    "    \n",
    "    # TODO: Determine how often each word appears in `data`. Note that `data` is a list of sentences and that a\n",
    "    #       sentence is a list of words.\n",
    "    \n",
    "    word_count = {} # A dict storing the words that appear in the reviews along with how often they occur\n",
    "    for sentence in data:\n",
    "        for words in sentence:\n",
    "            if words in word_count: ### word_count is empty dict so when it iterates through words it \n",
    "                                    ###adds them to the dict coz they're not already in it the first time. \n",
    "                word_count[words] += 1\n",
    "            else:\n",
    "                word_count[words] = 1\n",
    "#             count = words.Counter() ## error coz counter doesn't work on strings\n",
    "#             word_count[word] = words\n",
    "#             word_count[freq] = count \n",
    "            \n",
    "    # TODO: Sort the words found in `data` so that sorted_words[0] is the most frequently appearing word and\n",
    "    #       sorted_words[-1] is the least frequently appearing word.\n",
    "    \n",
    "    sorted_words = sorted(word_count, key= word_count.get,reverse=True)\n",
    "    \n",
    "    word_dict = {} # This is what we are building, a dictionary that translates words into integers\n",
    "    for idx, word in enumerate(sorted_words[:vocab_size - 2]): # The -2 is so that we save room for the 'no word'\n",
    "        word_dict[word] = idx + 2                              # 'infrequent' labels\n",
    "        \n",
    "    return word_dict"
   ]
  },
  {
   "cell_type": "code",
   "execution_count": 11,
   "metadata": {},
   "outputs": [],
   "source": [
    "word_dict = build_dict(train_X)"
   ]
  },
  {
   "cell_type": "markdown",
   "metadata": {},
   "source": [
    "**Question:** What are the five most frequently appearing (tokenized) words in the training set? Does it makes sense that these words appear frequently in the training set?"
   ]
  },
  {
   "cell_type": "markdown",
   "metadata": {},
   "source": [
    "**Answer:**"
   ]
  },
  {
   "cell_type": "code",
   "execution_count": 12,
   "metadata": {},
   "outputs": [
    {
     "name": "stdout",
     "output_type": "stream",
     "text": [
      "{'movi': 2, 'film': 3, 'one': 4, 'like': 5, 'time': 6, 'good': 7, 'make': 8, 'charact': 9, 'get': 10, 'see': 11, 'watch': 12, 'stori': 13, 'even': 14, 'would': 15, 'realli': 16, 'well': 17, 'scene': 18, 'look': 19, 'show': 20, 'much': 21, 'end': 22, 'peopl': 23, 'bad': 24, 'go': 25, 'great': 26, 'also': 27, 'first': 28, 'love': 29, 'think': 30, 'way': 31, 'act': 32, 'play': 33, 'made': 34, 'thing': 35, 'could': 36, 'know': 37, 'say': 38, 'seem': 39, 'work': 40, 'plot': 41, 'two': 42, 'actor': 43, 'year': 44, 'come': 45, 'mani': 46, 'seen': 47, 'take': 48, 'want': 49, 'life': 50, 'never': 51, 'littl': 52, 'best': 53, 'tri': 54, 'man': 55, 'ever': 56, 'give': 57, 'better': 58, 'still': 59, 'perform': 60, 'find': 61, 'feel': 62, 'part': 63, 'back': 64, 'use': 65, 'someth': 66, 'director': 67, 'actual': 68, 'interest': 69, 'lot': 70, 'real': 71, 'old': 72, 'cast': 73, 'though': 74, 'live': 75, 'star': 76, 'enjoy': 77, 'guy': 78, 'anoth': 79, 'new': 80, 'role': 81, 'noth': 82, '10': 83, 'funni': 84, 'music': 85, 'point': 86, 'start': 87, 'set': 88, 'girl': 89, 'origin': 90, 'day': 91, 'world': 92, 'everi': 93, 'believ': 94, 'turn': 95, 'quit': 96, 'us': 97, 'direct': 98, 'thought': 99, 'fact': 100, 'minut': 101, 'horror': 102, 'kill': 103, 'action': 104, 'comedi': 105, 'pretti': 106, 'young': 107, 'wonder': 108, 'happen': 109, 'around': 110, 'got': 111, 'effect': 112, 'right': 113, 'long': 114, 'howev': 115, 'big': 116, 'line': 117, 'famili': 118, 'enough': 119, 'seri': 120, 'may': 121, 'need': 122, 'fan': 123, 'bit': 124, 'script': 125, 'beauti': 126, 'person': 127, 'becom': 128, 'without': 129, 'must': 130, 'alway': 131, 'friend': 132, 'tell': 133, 'reason': 134, 'saw': 135, 'last': 136, 'final': 137, 'kid': 138, 'almost': 139, 'put': 140, 'least': 141, 'sure': 142, 'done': 143, 'whole': 144, 'place': 145, 'complet': 146, 'kind': 147, 'differ': 148, 'expect': 149, 'shot': 150, 'far': 151, 'mean': 152, 'anyth': 153, 'book': 154, 'laugh': 155, 'might': 156, 'name': 157, 'sinc': 158, 'begin': 159, '2': 160, 'probabl': 161, 'woman': 162, 'help': 163, 'entertain': 164, 'let': 165, 'screen': 166, 'call': 167, 'tv': 168, 'moment': 169, 'away': 170, 'read': 171, 'yet': 172, 'rather': 173, 'worst': 174, 'run': 175, 'fun': 176, 'lead': 177, 'hard': 178, 'audienc': 179, 'idea': 180, 'anyon': 181, 'episod': 182, 'american': 183, 'found': 184, 'appear': 185, 'bore': 186, 'especi': 187, 'although': 188, 'hope': 189, 'cours': 190, 'keep': 191, 'anim': 192, 'job': 193, 'goe': 194, 'move': 195, 'sens': 196, 'version': 197, 'dvd': 198, 'war': 199, 'money': 200, 'someon': 201, 'mind': 202, 'mayb': 203, 'problem': 204, 'true': 205, 'hous': 206, 'everyth': 207, 'nice': 208, 'second': 209, 'rate': 210, 'three': 211, 'night': 212, 'face': 213, 'follow': 214, 'recommend': 215, 'product': 216, 'main': 217, 'worth': 218, 'leav': 219, 'human': 220, 'special': 221, 'excel': 222, 'togeth': 223, 'wast': 224, 'everyon': 225, 'sound': 226, 'john': 227, 'hand': 228, '1': 229, 'father': 230, 'later': 231, 'eye': 232, 'said': 233, 'view': 234, 'instead': 235, 'review': 236, 'boy': 237, 'high': 238, 'hour': 239, 'miss': 240, 'classic': 241, 'talk': 242, 'wife': 243, 'understand': 244, 'left': 245, 'care': 246, 'black': 247, 'death': 248, 'open': 249, 'murder': 250, 'write': 251, 'half': 252, 'head': 253, 'rememb': 254, 'chang': 255, 'viewer': 256, 'fight': 257, 'gener': 258, 'surpris': 259, 'includ': 260, 'short': 261, 'die': 262, 'fall': 263, 'less': 264, 'els': 265, 'entir': 266, 'piec': 267, 'involv': 268, 'pictur': 269, 'simpli': 270, 'home': 271, 'power': 272, 'top': 273, 'total': 274, 'usual': 275, 'budget': 276, 'attempt': 277, 'suppos': 278, 'releas': 279, 'hollywood': 280, 'terribl': 281, 'song': 282, 'men': 283, 'possibl': 284, 'featur': 285, 'portray': 286, 'disappoint': 287, 'poor': 288, '3': 289, 'coupl': 290, 'camera': 291, 'stupid': 292, 'dead': 293, 'wrong': 294, 'produc': 295, 'low': 296, 'video': 297, 'either': 298, 'aw': 299, 'definit': 300, 'except': 301, 'rest': 302, 'given': 303, 'absolut': 304, 'women': 305, 'lack': 306, 'word': 307, 'writer': 308, 'titl': 309, 'talent': 310, 'decid': 311, 'full': 312, 'perfect': 313, 'along': 314, 'style': 315, 'close': 316, 'truli': 317, 'school': 318, 'save': 319, 'emot': 320, 'sex': 321, 'age': 322, 'next': 323, 'bring': 324, 'mr': 325, 'case': 326, 'killer': 327, 'heart': 328, 'comment': 329, 'sort': 330, 'creat': 331, 'perhap': 332, 'came': 333, 'brother': 334, 'sever': 335, 'joke': 336, 'art': 337, 'dialogu': 338, 'game': 339, 'small': 340, 'base': 341, 'flick': 342, 'written': 343, 'sequenc': 344, 'meet': 345, 'earli': 346, 'often': 347, 'other': 348, 'mother': 349, 'develop': 350, 'humor': 351, 'actress': 352, 'consid': 353, 'dark': 354, 'guess': 355, 'amaz': 356, 'unfortun': 357, 'light': 358, 'lost': 359, 'exampl': 360, 'cinema': 361, 'drama': 362, 'white': 363, 'ye': 364, 'experi': 365, 'imagin': 366, 'mention': 367, 'stop': 368, 'natur': 369, 'forc': 370, 'manag': 371, 'felt': 372, 'present': 373, 'cut': 374, 'children': 375, 'fail': 376, 'son': 377, 'car': 378, 'support': 379, 'qualiti': 380, 'ask': 381, 'hit': 382, 'side': 383, 'voic': 384, 'extrem': 385, 'impress': 386, 'evil': 387, 'wors': 388, 'went': 389, 'stand': 390, 'certainli': 391, 'basic': 392, 'oh': 393, 'overal': 394, 'favorit': 395, 'horribl': 396, 'mysteri': 397, 'number': 398, 'type': 399, 'danc': 400, 'wait': 401, 'hero': 402, 'alreadi': 403, '5': 404, 'learn': 405, 'matter': 406, '4': 407, 'michael': 408, 'genr': 409, 'fine': 410, 'despit': 411, 'throughout': 412, 'walk': 413, 'success': 414, 'histori': 415, 'question': 416, 'zombi': 417, 'town': 418, 'realiz': 419, 'relationship': 420, 'child': 421, 'past': 422, 'daughter': 423, 'late': 424, 'b': 425, 'wish': 426, 'credit': 427, 'hate': 428, 'event': 429, 'theme': 430, 'touch': 431, 'citi': 432, 'today': 433, 'sometim': 434, 'behind': 435, 'god': 436, 'twist': 437, 'sit': 438, 'stay': 439, 'annoy': 440, 'deal': 441, 'abl': 442, 'rent': 443, 'pleas': 444, 'edit': 445, 'blood': 446, 'deserv': 447, 'anyway': 448, 'comic': 449, 'appar': 450, 'soon': 451, 'gave': 452, 'etc': 453, 'level': 454, 'slow': 455, 'chanc': 456, 'score': 457, 'bodi': 458, 'brilliant': 459, 'incred': 460, 'figur': 461, 'situat': 462, 'major': 463, 'self': 464, 'stuff': 465, 'decent': 466, 'element': 467, 'return': 468, 'dream': 469, 'obvious': 470, 'continu': 471, 'order': 472, 'pace': 473, 'ridicul': 474, 'happi': 475, 'add': 476, 'group': 477, 'highli': 478, 'thank': 479, 'ladi': 480, 'novel': 481, 'speak': 482, 'pain': 483, 'career': 484, 'shoot': 485, 'strang': 486, 'heard': 487, 'sad': 488, 'husband': 489, 'polic': 490, 'import': 491, 'break': 492, 'took': 493, 'cannot': 494, 'strong': 495, 'predict': 496, 'robert': 497, 'violenc': 498, 'hilari': 499, 'recent': 500, 'countri': 501, 'known': 502, 'particularli': 503, 'pick': 504, 'documentari': 505, 'season': 506, 'critic': 507, 'jame': 508, 'compar': 509, 'alon': 510, 'obviou': 511, 'told': 512, 'state': 513, 'visual': 514, 'rock': 515, 'offer': 516, 'exist': 517, 'theater': 518, 'opinion': 519, 'gore': 520, 'crap': 521, 'hold': 522, 'result': 523, 'room': 524, 'hear': 525, 'realiti': 526, 'clich': 527, 'effort': 528, 'thriller': 529, 'caus': 530, 'explain': 531, 'serious': 532, 'sequel': 533, 'king': 534, 'local': 535, 'ago': 536, 'hell': 537, 'none': 538, 'note': 539, 'allow': 540, 'david': 541, 'sister': 542, 'simpl': 543, 'femal': 544, 'deliv': 545, 'ok': 546, 'class': 547, 'convinc': 548, 'check': 549, 'suspens': 550, 'win': 551, 'oscar': 552, 'buy': 553, 'huge': 554, 'valu': 555, 'sexual': 556, 'cool': 557, 'scari': 558, 'similar': 559, 'excit': 560, 'exactli': 561, 'apart': 562, 'provid': 563, 'avoid': 564, 'shown': 565, 'seriou': 566, 'english': 567, 'taken': 568, 'whose': 569, 'cinematographi': 570, 'shock': 571, 'polit': 572, 'spoiler': 573, 'offic': 574, 'across': 575, 'middl': 576, 'street': 577, 'pass': 578, 'messag': 579, 'silli': 580, 'somewhat': 581, 'charm': 582, 'modern': 583, 'filmmak': 584, 'confus': 585, 'form': 586, 'tale': 587, 'singl': 588, 'jack': 589, 'mostli': 590, 'william': 591, 'carri': 592, 'attent': 593, 'sing': 594, 'subject': 595, 'five': 596, 'richard': 597, 'prove': 598, 'team': 599, 'stage': 600, 'cop': 601, 'unlik': 602, 'georg': 603, 'televis': 604, 'monster': 605, 'earth': 606, 'cover': 607, 'villain': 608, 'pay': 609, 'marri': 610, 'toward': 611, 'build': 612, 'pull': 613, 'parent': 614, 'due': 615, 'respect': 616, 'fill': 617, 'four': 618, 'dialog': 619, 'remind': 620, 'futur': 621, 'weak': 622, 'typic': 623, '7': 624, 'cheap': 625, 'intellig': 626, 'british': 627, 'atmospher': 628, 'clearli': 629, '80': 630, 'dog': 631, 'non': 632, 'paul': 633, 'fast': 634, '8': 635, 'artist': 636, 'knew': 637, 'crime': 638, 'easili': 639, 'escap': 640, 'adult': 641, 'doubt': 642, 'detail': 643, 'date': 644, 'fire': 645, 'member': 646, 'romant': 647, 'gun': 648, 'drive': 649, 'straight': 650, 'fit': 651, 'beyond': 652, 'attack': 653, 'imag': 654, 'upon': 655, 'posit': 656, 'whether': 657, 'peter': 658, 'fantast': 659, 'captur': 660, 'aspect': 661, 'appreci': 662, 'ten': 663, 'plan': 664, 'discov': 665, 'remain': 666, 'period': 667, 'near': 668, 'air': 669, 'realist': 670, 'mark': 671, 'red': 672, 'dull': 673, 'adapt': 674, 'within': 675, 'spend': 676, 'lose': 677, 'materi': 678, 'color': 679, 'chase': 680, 'mari': 681, 'storylin': 682, 'forget': 683, 'bunch': 684, 'clear': 685, 'lee': 686, 'victim': 687, 'nearli': 688, 'box': 689, 'york': 690, 'inspir': 691, 'match': 692, 'mess': 693, 'finish': 694, 'standard': 695, 'easi': 696, 'truth': 697, 'busi': 698, 'suffer': 699, 'space': 700, 'dramat': 701, 'bill': 702, 'western': 703, 'e': 704, 'list': 705, 'battl': 706, 'notic': 707, 'de': 708, 'french': 709, 'ad': 710, '9': 711, 'tom': 712, 'larg': 713, 'among': 714, 'eventu': 715, 'accept': 716, 'train': 717, 'agre': 718, 'spirit': 719, 'soundtrack': 720, 'third': 721, 'teenag': 722, 'adventur': 723, 'soldier': 724, 'sorri': 725, 'drug': 726, 'famou': 727, 'suggest': 728, 'cri': 729, 'babi': 730, 'normal': 731, 'ultim': 732, 'troubl': 733, 'contain': 734, 'certain': 735, 'cultur': 736, 'romanc': 737, 'rare': 738, 'lame': 739, 'somehow': 740, 'mix': 741, 'disney': 742, 'gone': 743, 'cartoon': 744, 'student': 745, 'reveal': 746, 'fear': 747, 'suck': 748, 'kept': 749, 'attract': 750, 'appeal': 751, 'premis': 752, 'greatest': 753, 'secret': 754, 'design': 755, 'shame': 756, 'throw': 757, 'scare': 758, 'copi': 759, 'wit': 760, 'america': 761, 'admit': 762, 'brought': 763, 'particular': 764, 'relat': 765, 'screenplay': 766, 'whatev': 767, 'pure': 768, '70': 769, 'averag': 770, 'harri': 771, 'master': 772, 'describ': 773, 'male': 774, 'treat': 775, '20': 776, 'fantasi': 777, 'issu': 778, 'warn': 779, 'inde': 780, 'background': 781, 'forward': 782, 'free': 783, 'project': 784, 'memor': 785, 'japanes': 786, 'poorli': 787, 'award': 788, 'locat': 789, 'amus': 790, 'potenti': 791, 'struggl': 792, 'magic': 793, 'weird': 794, 'societi': 795, 'okay': 796, 'accent': 797, 'doctor': 798, 'imdb': 799, 'hot': 800, 'water': 801, 'alien': 802, '30': 803, 'express': 804, 'dr': 805, 'odd': 806, 'crazi': 807, 'choic': 808, 'studio': 809, 'fiction': 810, 'control': 811, 'becam': 812, 'masterpiec': 813, 'fli': 814, 'difficult': 815, 'joe': 816, 'scream': 817, 'costum': 818, 'lover': 819, 'uniqu': 820, 'refer': 821, 'remak': 822, 'girlfriend': 823, 'vampir': 824, 'prison': 825, 'execut': 826, 'wear': 827, 'jump': 828, 'unless': 829, 'wood': 830, 'creepi': 831, 'cheesi': 832, 'superb': 833, 'otherwis': 834, 'parti': 835, 'roll': 836, 'ghost': 837, 'public': 838, 'mad': 839, 'depict': 840, 'moral': 841, 'badli': 842, 'week': 843, 'jane': 844, 'earlier': 845, 'fi': 846, 'dumb': 847, 'flaw': 848, 'grow': 849, 'sci': 850, 'deep': 851, 'maker': 852, 'cat': 853, 'older': 854, 'footag': 855, 'connect': 856, 'plenti': 857, 'bother': 858, 'outsid': 859, 'stick': 860, 'gay': 861, 'catch': 862, 'co': 863, 'plu': 864, 'popular': 865, 'equal': 866, 'social': 867, 'quickli': 868, 'disturb': 869, 'perfectli': 870, 'dress': 871, 'era': 872, '90': 873, 'mistak': 874, 'lie': 875, 'previou': 876, 'ride': 877, 'combin': 878, 'concept': 879, 'band': 880, 'surviv': 881, 'rich': 882, 'answer': 883, 'front': 884, 'sweet': 885, 'christma': 886, 'insid': 887, 'concern': 888, 'eat': 889, 'bare': 890, 'listen': 891, 'beat': 892, 'ben': 893, 'c': 894, 'term': 895, 'serv': 896, 'meant': 897, 'la': 898, 'german': 899, 'stereotyp': 900, 'hardli': 901, 'law': 902, 'innoc': 903, 'desper': 904, 'promis': 905, 'memori': 906, 'cute': 907, 'intent': 908, 'variou': 909, 'inform': 910, 'steal': 911, 'brain': 912, 'post': 913, 'tone': 914, 'island': 915, 'amount': 916, 'compani': 917, 'track': 918, 'nuditi': 919, 'claim': 920, 'store': 921, 'flat': 922, '50': 923, 'hair': 924, 'land': 925, 'univers': 926, 'danger': 927, 'scott': 928, 'fairli': 929, 'kick': 930, 'player': 931, 'plain': 932, 'step': 933, 'crew': 934, 'toni': 935, 'share': 936, 'centuri': 937, 'tast': 938, 'achiev': 939, 'engag': 940, 'travel': 941, 'cold': 942, 'record': 943, 'suit': 944, 'rip': 945, 'manner': 946, 'sadli': 947, 'spot': 948, 'tension': 949, 'wrote': 950, 'intens': 951, 'fascin': 952, 'familiar': 953, 'depth': 954, 'burn': 955, 'remark': 956, 'histor': 957, 'destroy': 958, 'sleep': 959, 'purpos': 960, 'languag': 961, 'ruin': 962, 'ignor': 963, 'delight': 964, 'italian': 965, 'unbeliev': 966, 'abil': 967, 'collect': 968, 'soul': 969, 'clever': 970, 'detect': 971, 'violent': 972, 'rape': 973, 'reach': 974, 'door': 975, 'trash': 976, 'liter': 977, 'scienc': 978, 'reveng': 979, 'caught': 980, 'commun': 981, 'creatur': 982, 'approach': 983, 'trip': 984, 'intrigu': 985, 'fashion': 986, 'introduc': 987, 'skill': 988, 'paint': 989, 'channel': 990, 'complex': 991, 'camp': 992, 'christian': 993, 'hole': 994, 'extra': 995, 'immedi': 996, 'ann': 997, 'limit': 998, 'mental': 999, 'million': 1000, 'slightli': 1001, 'mere': 1002, '6': 1003, 'comput': 1004, 'conclus': 1005, 'slasher': 1006, 'suddenli': 1007, 'imposs': 1008, 'neither': 1009, 'crimin': 1010, 'teen': 1011, 'spent': 1012, 'nation': 1013, 'physic': 1014, 'respons': 1015, 'planet': 1016, 'fake': 1017, 'receiv': 1018, 'blue': 1019, 'sick': 1020, 'bizarr': 1021, 'embarrass': 1022, 'indian': 1023, '15': 1024, 'ring': 1025, 'pop': 1026, 'drop': 1027, 'drag': 1028, 'haunt': 1029, 'pointless': 1030, 'suspect': 1031, 'search': 1032, 'edg': 1033, 'handl': 1034, 'common': 1035, 'biggest': 1036, 'faith': 1037, 'arriv': 1038, 'hurt': 1039, 'technic': 1040, 'angel': 1041, 'genuin': 1042, 'dad': 1043, 'solid': 1044, 'f': 1045, 'awesom': 1046, 'focu': 1047, 'van': 1048, 'colleg': 1049, 'former': 1050, 'count': 1051, 'heavi': 1052, 'tear': 1053, 'wall': 1054, 'rais': 1055, 'younger': 1056, 'laughabl': 1057, 'visit': 1058, 'excus': 1059, 'sign': 1060, 'fair': 1061, 'cult': 1062, 'motion': 1063, 'key': 1064, 'tough': 1065, 'desir': 1066, 'super': 1067, 'stun': 1068, 'addit': 1069, 'cloth': 1070, 'exploit': 1071, 'smith': 1072, 'tortur': 1073, 'race': 1074, 'davi': 1075, 'author': 1076, 'cross': 1077, 'jim': 1078, 'minor': 1079, 'focus': 1080, 'compel': 1081, 'consist': 1082, 'pathet': 1083, 'chemistri': 1084, 'commit': 1085, 'park': 1086, 'tradit': 1087, 'obsess': 1088, 'frank': 1089, 'grade': 1090, 'asid': 1091, '60': 1092, 'brutal': 1093, 'somewher': 1094, 'steve': 1095, 'opportun': 1096, 'explor': 1097, 'depress': 1098, 'rule': 1099, 'grant': 1100, 'u': 1101, 'besid': 1102, 'honest': 1103, 'dub': 1104, 'anti': 1105, 'intend': 1106, 'trailer': 1107, 'bar': 1108, 'regard': 1109, 'longer': 1110, 'scientist': 1111, 'west': 1112, 'decad': 1113, 'judg': 1114, 'silent': 1115, 'creativ': 1116, 'armi': 1117, 'wild': 1118, 'south': 1119, 'g': 1120, 'stewart': 1121, 'draw': 1122, 'road': 1123, 'govern': 1124, 'ex': 1125, 'boss': 1126, 'practic': 1127, 'gang': 1128, 'club': 1129, 'motiv': 1130, 'festiv': 1131, 'surprisingli': 1132, 'green': 1133, 'london': 1134, 'redeem': 1135, 'page': 1136, 'machin': 1137, 'idiot': 1138, 'aliv': 1139, 'militari': 1140, 'display': 1141, 'repeat': 1142, 'thrill': 1143, 'yeah': 1144, 'folk': 1145, 'nobodi': 1146, '100': 1147, '40': 1148, 'journey': 1149, 'garbag': 1150, 'smile': 1151, 'ground': 1152, 'tire': 1153, 'mood': 1154, 'bought': 1155, 'sam': 1156, 'stone': 1157, 'cost': 1158, 'mouth': 1159, 'noir': 1160, 'agent': 1161, 'terrif': 1162, 'utterli': 1163, 'requir': 1164, 'honestli': 1165, 'area': 1166, 'sexi': 1167, 'geniu': 1168, 'report': 1169, 'enter': 1170, 'glad': 1171, 'humour': 1172, 'investig': 1173, 'serial': 1174, 'passion': 1175, 'occasion': 1176, 'narr': 1177, 'marriag': 1178, 'climax': 1179, 'industri': 1180, 'studi': 1181, 'center': 1182, 'ship': 1183, 'nowher': 1184, 'charli': 1185, 'demon': 1186, 'hors': 1187, 'loos': 1188, 'bear': 1189, 'wow': 1190, 'hang': 1191, 'graphic': 1192, 'giant': 1193, 'admir': 1194, 'send': 1195, 'loud': 1196, 'damn': 1197, 'subtl': 1198, 'profession': 1199, 'rel': 1200, 'nake': 1201, 'blow': 1202, 'bottom': 1203, 'insult': 1204, 'batman': 1205, 'kelli': 1206, 'doubl': 1207, 'boyfriend': 1208, 'r': 1209, 'initi': 1210, 'frame': 1211, 'opera': 1212, 'gem': 1213, 'affect': 1214, 'challeng': 1215, 'church': 1216, 'cinemat': 1217, 'drawn': 1218, 'evid': 1219, 'fulli': 1220, 'j': 1221, 'seek': 1222, 'nightmar': 1223, 'l': 1224, 'arm': 1225, 'essenti': 1226, 'conflict': 1227, 'wind': 1228, 'grace': 1229, 'christoph': 1230, 'henri': 1231, 'witch': 1232, 'assum': 1233, 'narrat': 1234, 'push': 1235, 'hunt': 1236, 'chri': 1237, 'wise': 1238, 'nomin': 1239, 'repres': 1240, 'month': 1241, 'hide': 1242, 'affair': 1243, 'avail': 1244, 'sceneri': 1245, 'bond': 1246, 'smart': 1247, 'justic': 1248, 'thu': 1249, 'flashback': 1250, 'interview': 1251, 'outstand': 1252, 'satisfi': 1253, 'presenc': 1254, 'constantli': 1255, 'central': 1256, 'bed': 1257, 'content': 1258, 'iron': 1259, 'sell': 1260, 'everybodi': 1261, 'gag': 1262, 'hotel': 1263, 'slowli': 1264, 'hire': 1265, 'system': 1266, 'individu': 1267, 'hey': 1268, 'thrown': 1269, 'adam': 1270, 'charl': 1271, 'jone': 1272, 'allen': 1273, 'mediocr': 1274, 'billi': 1275, 'ray': 1276, 'lesson': 1277, 'photographi': 1278, 'cameo': 1279, 'fellow': 1280, 'pari': 1281, 'strike': 1282, 'absurd': 1283, 'rise': 1284, 'brief': 1285, 'independ': 1286, 'neg': 1287, 'impact': 1288, 'phone': 1289, 'born': 1290, 'model': 1291, 'ill': 1292, 'fresh': 1293, 'angl': 1294, 'spoil': 1295, 'abus': 1296, 'likabl': 1297, 'hill': 1298, 'discuss': 1299, 'ahead': 1300, 'sight': 1301, 'photograph': 1302, 'sent': 1303, 'logic': 1304, 'blame': 1305, 'occur': 1306, 'shine': 1307, 'bruce': 1308, 'mainli': 1309, 'commerci': 1310, 'skip': 1311, 'forev': 1312, 'teacher': 1313, 'segment': 1314, 'held': 1315, 'surround': 1316, 'zero': 1317, 'blond': 1318, 'satir': 1319, 'summer': 1320, 'trap': 1321, 'resembl': 1322, 'six': 1323, 'ball': 1324, 'fool': 1325, 'queen': 1326, 'twice': 1327, 'tragedi': 1328, 'sub': 1329, 'reaction': 1330, 'pack': 1331, 'bomb': 1332, 'protagonist': 1333, 'will': 1334, 'hospit': 1335, 'mile': 1336, 'sport': 1337, 'drink': 1338, 'mom': 1339, 'jerri': 1340, 'trust': 1341, 'vote': 1342, 'encount': 1343, 'plane': 1344, 'al': 1345, 'program': 1346, 'current': 1347, 'station': 1348, 'celebr': 1349, 'choos': 1350, 'martin': 1351, 'join': 1352, 'favourit': 1353, 'round': 1354, 'lord': 1355, 'tragic': 1356, 'field': 1357, 'robot': 1358, 'jean': 1359, 'vision': 1360, 'tie': 1361, 'arthur': 1362, 'roger': 1363, 'random': 1364, 'fortun': 1365, 'intern': 1366, 'psycholog': 1367, 'dread': 1368, 'nonsens': 1369, 'epic': 1370, 'prefer': 1371, 'improv': 1372, 'formula': 1373, 'highlight': 1374, 'legend': 1375, 'pleasur': 1376, '11': 1377, 'dollar': 1378, 'tape': 1379, 'wide': 1380, 'fox': 1381, 'object': 1382, 'thin': 1383, 'porn': 1384, 'gorgeou': 1385, 'influenc': 1386, 'buddi': 1387, 'ugli': 1388, 'nasti': 1389, 'ii': 1390, 'prepar': 1391, 'reflect': 1392, 'warm': 1393, 'progress': 1394, 'supposedli': 1395, 'youth': 1396, 'worthi': 1397, 'length': 1398, 'unusu': 1399, 'latter': 1400, 'crash': 1401, 'childhood': 1402, 'shop': 1403, 'superior': 1404, 'seven': 1405, 'remot': 1406, 'theatr': 1407, 'disgust': 1408, 'pilot': 1409, 'funniest': 1410, 'paid': 1411, 'convers': 1412, 'trick': 1413, 'fell': 1414, 'castl': 1415, 'rob': 1416, 'gangster': 1417, 'disast': 1418, 'establish': 1419, 'ident': 1420, 'mine': 1421, 'heaven': 1422, 'suicid': 1423, 'disappear': 1424, 'tend': 1425, 'forgotten': 1426, 'heroin': 1427, 'decis': 1428, 'mask': 1429, 'singer': 1430, 'brian': 1431, 'partner': 1432, 'alan': 1433, 'desert': 1434, 'recogn': 1435, 'sky': 1436, 'thoroughli': 1437, 'p': 1438, 'stuck': 1439, 'ms': 1440, 'accur': 1441, 'replac': 1442, 'market': 1443, 'seemingli': 1444, 'commentari': 1445, 'andi': 1446, 'danni': 1447, 'clue': 1448, 'uncl': 1449, 'eddi': 1450, 'jackson': 1451, 'devil': 1452, 'pair': 1453, 'therefor': 1454, 'refus': 1455, 'that': 1456, 'ed': 1457, 'fate': 1458, 'river': 1459, 'accid': 1460, 'fault': 1461, 'unit': 1462, 'tune': 1463, 'afraid': 1464, 'hidden': 1465, 'russian': 1466, 'clean': 1467, 'stephen': 1468, 'readi': 1469, 'test': 1470, 'quick': 1471, 'instanc': 1472, 'captain': 1473, 'irrit': 1474, 'convey': 1475, 'european': 1476, 'daniel': 1477, 'insan': 1478, 'frustrat': 1479, 'food': 1480, 'wed': 1481, '1950': 1482, 'chines': 1483, 'rescu': 1484, 'dirti': 1485, 'angri': 1486, 'lock': 1487, 'joy': 1488, 'steven': 1489, 'price': 1490, 'bland': 1491, 'cage': 1492, 'anymor': 1493, 'rang': 1494, 'wooden': 1495, 'news': 1496, 'rush': 1497, 'n': 1498, 'jason': 1499, 'board': 1500, 'worri': 1501, 'twenti': 1502, '12': 1503, 'martial': 1504, 'led': 1505, 'symbol': 1506, 'hunter': 1507, 'cgi': 1508, 'transform': 1509, 'invent': 1510, 'x': 1511, 'piti': 1512, 'onto': 1513, 'johnni': 1514, 'sentiment': 1515, 'process': 1516, 'attitud': 1517, 'explan': 1518, 'awar': 1519, 'owner': 1520, 'aim': 1521, 'favor': 1522, 'floor': 1523, 'target': 1524, 'necessari': 1525, 'energi': 1526, 'religi': 1527, 'opposit': 1528, 'chick': 1529, 'blind': 1530, 'insight': 1531, 'window': 1532, 'movement': 1533, 'mountain': 1534, 'deepli': 1535, 'possess': 1536, 'research': 1537, 'comparison': 1538, 'comed': 1539, 'whatsoev': 1540, 'grand': 1541, 'rain': 1542, 'bank': 1543, 'began': 1544, 'mid': 1545, 'shadow': 1546, 'parodi': 1547, 'princ': 1548, 'pre': 1549, 'weapon': 1550, 'friendship': 1551, 'credibl': 1552, 'taylor': 1553, 'teach': 1554, 'dougla': 1555, 'flesh': 1556, 'terror': 1557, 'hint': 1558, 'bloodi': 1559, 'protect': 1560, 'marvel': 1561, 'accord': 1562, 'drunk': 1563, 'anybodi': 1564, 'superman': 1565, 'load': 1566, 'watchabl': 1567, 'leader': 1568, 'brown': 1569, 'freddi': 1570, 'seat': 1571, 'hitler': 1572, 'appropri': 1573, 'tim': 1574, 'jeff': 1575, 'keaton': 1576, 'unknown': 1577, 'villag': 1578, 'charg': 1579, 'knock': 1580, 'media': 1581, 'enemi': 1582, 'england': 1583, 'empti': 1584, 'unnecessari': 1585, 'perspect': 1586, 'strength': 1587, 'utter': 1588, 'buck': 1589, 'craft': 1590, 'wave': 1591, 'dare': 1592, 'correct': 1593, 'nativ': 1594, 'contrast': 1595, 'kiss': 1596, 'ford': 1597, 'magnific': 1598, 'speed': 1599, 'knowledg': 1600, 'chill': 1601, 'soap': 1602, 'anywher': 1603, 'distract': 1604, 'nazi': 1605, 'mission': 1606, '1980': 1607, 'breath': 1608, 'ice': 1609, 'fred': 1610, 'jr': 1611, 'joan': 1612, 'crowd': 1613, 'moon': 1614, '000': 1615, 'soft': 1616, 'kate': 1617, 'frighten': 1618, 'nick': 1619, 'dick': 1620, 'dan': 1621, 'hundr': 1622, 'radio': 1623, 'dozen': 1624, 'simon': 1625, 'somebodi': 1626, 'andrew': 1627, 'academi': 1628, 'shakespear': 1629, 'loss': 1630, 'thousand': 1631, 'quot': 1632, 'root': 1633, 'vehicl': 1634, 'account': 1635, 'sum': 1636, 'leg': 1637, '1970': 1638, 'behavior': 1639, 'convent': 1640, 'gold': 1641, 'regular': 1642, 'worker': 1643, 'compet': 1644, 'demand': 1645, 'pretenti': 1646, 'privat': 1647, 'explos': 1648, 'candi': 1649, 'notabl': 1650, 'lynch': 1651, 'japan': 1652, 'stretch': 1653, 'interpret': 1654, 'constant': 1655, 'debut': 1656, 'tarzan': 1657, 'spi': 1658, 'revolv': 1659, 'translat': 1660, 'prais': 1661, 'sea': 1662, 'sat': 1663, 'threaten': 1664, 'technolog': 1665, 'ass': 1666, 'franc': 1667, 'quiet': 1668, 'failur': 1669, 'jesu': 1670, 'higher': 1671, 'met': 1672, 'punch': 1673, 'aid': 1674, 'toy': 1675, 'kevin': 1676, 'interact': 1677, 'abandon': 1678, 'vh': 1679, 'mike': 1680, 'separ': 1681, 'bet': 1682, 'command': 1683, 'confront': 1684, 'servic': 1685, 'techniqu': 1686, 'gotten': 1687, 'stunt': 1688, 'site': 1689, 'belong': 1690, 'recal': 1691, 'freak': 1692, 'foot': 1693, 'bug': 1694, 'cabl': 1695, 'bright': 1696, 'african': 1697, 'capabl': 1698, 'jimmi': 1699, 'fu': 1700, 'presid': 1701, 'succeed': 1702, 'fat': 1703, 'stock': 1704, 'clark': 1705, 'boat': 1706, 'gene': 1707, 'structur': 1708, 'spanish': 1709, 'kidnap': 1710, 'paper': 1711, 'factor': 1712, 'whilst': 1713, 'belief': 1714, 'realis': 1715, 'bob': 1716, 'complic': 1717, 'realism': 1718, 'attend': 1719, 'witti': 1720, 'educ': 1721, 'tree': 1722, 'assist': 1723, 'santa': 1724, 'broken': 1725, 'finest': 1726, 'smoke': 1727, 'depart': 1728, 'observ': 1729, 'up': 1730, 'v': 1731, 'determin': 1732, 'lewi': 1733, 'rubbish': 1734, 'domin': 1735, 'oper': 1736, 'hat': 1737, 'fame': 1738, 'routin': 1739, 'morgan': 1740, 'safe': 1741, 'advanc': 1742, 'foreign': 1743, 'hook': 1744, 'kinda': 1745, 'lone': 1746, 'numer': 1747, 'rank': 1748, 'shape': 1749, 'civil': 1750, 'rose': 1751, 'vs': 1752, 'shallow': 1753, 'washington': 1754, 'werewolf': 1755, 'morn': 1756, 'gari': 1757, 'winner': 1758, 'ordinari': 1759, 'accomplish': 1760, 'kong': 1761, 'peac': 1762, 'grab': 1763, 'whenev': 1764, 'virtual': 1765, 'h': 1766, 'offens': 1767, 'luck': 1768, 'welcom': 1769, 'unfunni': 1770, 'patient': 1771, 'activ': 1772, 'complain': 1773, 'contriv': 1774, 'bigger': 1775, 'pretend': 1776, 'dimension': 1777, 'trek': 1778, 'con': 1779, 'eric': 1780, 'code': 1781, 'lesbian': 1782, 'dri': 1783, 'flash': 1784, 'cain': 1785, 'wake': 1786, 'manipul': 1787, 'albert': 1788, 'statu': 1789, 'corrupt': 1790, 'guard': 1791, 'dancer': 1792, 'awkward': 1793, 'speech': 1794, 'context': 1795, 'gain': 1796, 'sourc': 1797, 'signific': 1798, 'sean': 1799, 'clip': 1800, 'psycho': 1801, '13': 1802, 'corni': 1803, 'anthoni': 1804, 'curiou': 1805, 'w': 1806, 'reli': 1807, 'advic': 1808, 'priest': 1809, 'religion': 1810, 'theatric': 1811, 'addict': 1812, 'flow': 1813, 'howard': 1814, 'asian': 1815, 'specif': 1816, 'skin': 1817, 'secur': 1818, 'jennif': 1819, 'core': 1820, 'promot': 1821, 'organ': 1822, 'golden': 1823, 'luke': 1824, 'comfort': 1825, 'lucki': 1826, 'cash': 1827, 'cheat': 1828, 'lower': 1829, 'associ': 1830, 'dislik': 1831, 'devic': 1832, 'frequent': 1833, 'balanc': 1834, 'regret': 1835, 'wing': 1836, 'degre': 1837, 'frankli': 1838, 'contribut': 1839, 'spell': 1840, 'lake': 1841, 'forgiv': 1842, 'print': 1843, 'sake': 1844, 'mass': 1845, 'thoma': 1846, 'betti': 1847, 'unexpect': 1848, 'gordon': 1849, 'crack': 1850, 'invit': 1851, 'unfold': 1852, 'categori': 1853, 'depend': 1854, 'construct': 1855, 'grown': 1856, 'amateur': 1857, 'honor': 1858, 'walter': 1859, 'matur': 1860, 'intellectu': 1861, 'grew': 1862, 'anna': 1863, 'condit': 1864, 'mirror': 1865, 'veteran': 1866, 'sole': 1867, 'spectacular': 1868, 'sudden': 1869, 'gift': 1870, 'overli': 1871, 'experienc': 1872, 'grip': 1873, 'meanwhil': 1874, 'liner': 1875, 'freedom': 1876, 'demonstr': 1877, 'robin': 1878, 'card': 1879, 'unabl': 1880, 'section': 1881, 'theori': 1882, 'circumst': 1883, 'oliv': 1884, 'subtitl': 1885, 'crappi': 1886, 'brilliantli': 1887, 'sheriff': 1888, 'drew': 1889, 'colour': 1890, 'altern': 1891, 'path': 1892, 'laughter': 1893, 'cook': 1894, 'sheer': 1895, 'matt': 1896, 'parker': 1897, 'pile': 1898, 'wander': 1899, 'hall': 1900, 'treatment': 1901, 'lawyer': 1902, 'accident': 1903, 'defin': 1904, 'sinatra': 1905, 'relief': 1906, 'captiv': 1907, 'hank': 1908, 'dragon': 1909, 'gratuit': 1910, 'moor': 1911, 'halloween': 1912, 'barbara': 1913, 'broadway': 1914, 'wayn': 1915, 'k': 1916, 'cowboy': 1917, 'wound': 1918, 'unintent': 1919, 'jacki': 1920, 'kung': 1921, 'surreal': 1922, 'canadian': 1923, 'winter': 1924, 'spoof': 1925, 'statement': 1926, 'fare': 1927, 'fish': 1928, 'compos': 1929, 'gonna': 1930, 'cheer': 1931, 'treasur': 1932, 'sensit': 1933, 'emerg': 1934, 'unrealist': 1935, 'woodi': 1936, 'victor': 1937, 'ran': 1938, 'neighbor': 1939, 'sympathet': 1940, 'driven': 1941, 'topic': 1942, 'authent': 1943, 'menac': 1944, 'overlook': 1945, 'glass': 1946, 'expos': 1947, 'gross': 1948, 'michel': 1949, 'ancient': 1950, 'chief': 1951, 'handsom': 1952, 'built': 1953, 'feet': 1954, 'stranger': 1955, 'network': 1956, 'comedian': 1957, 'pleasant': 1958, 'nevertheless': 1959, 'russel': 1960, 'contemporari': 1961, 'cinderella': 1962, 'miser': 1963, 'blockbust': 1964, 'earn': 1965, 'endless': 1966, 'consider': 1967, 'gori': 1968, 'letter': 1969, 'underr': 1970, 'brook': 1971, 'switch': 1972, 'solv': 1973, 'bullet': 1974, 'convict': 1975, 'edward': 1976, 'victoria': 1977, 'virgin': 1978, 'joseph': 1979, 'scenario': 1980, 'chosen': 1981, '0': 1982, 'cynic': 1983, 'alex': 1984, 'scale': 1985, 'curs': 1986, 'sword': 1987, 'gut': 1988, 'outrag': 1989, 'com': 1990, 'substanc': 1991, 'uk': 1992, 'proper': 1993, 'monkey': 1994, 'screenwrit': 1995, 'driver': 1996, 'juli': 1997, 'wrap': 1998, 'par': 1999, 'indic': 2000, 'remov': 2001, 'court': 2002, 'bird': 2003, 'naiv': 2004, 'consequ': 2005, 'rental': 2006, 'nanci': 2007, 'loser': 2008, 'inevit': 2009, 'grave': 2010, 'advertis': 2011, 'roy': 2012, 'bridg': 2013, 'invis': 2014, 'germani': 2015, 'slap': 2016, 'brave': 2017, 'le': 2018, 'fatal': 2019, 'loui': 2020, 'provok': 2021, 'ador': 2022, 'anger': 2023, 'footbal': 2024, 'anderson': 2025, 'alcohol': 2026, 'chan': 2027, 'willi': 2028, 'ryan': 2029, 'professor': 2030, 'stumbl': 2031, '1930': 2032, 'sharp': 2033, 'assassin': 2034, 'bat': 2035, 'australian': 2036, 'patrick': 2037, 'liber': 2038, 'deni': 2039, 'refresh': 2040, 'lousi': 2041, 'cell': 2042, 'amateurish': 2043, 'heck': 2044, 'eight': 2045, 'trilog': 2046, 'ape': 2047, 'strongli': 2048, 'saturday': 2049, 'sin': 2050, 'san': 2051, 'justifi': 2052, 'vagu': 2053, 'resid': 2054, 'reput': 2055, 'terrifi': 2056, 'indi': 2057, 'creator': 2058, 'sympathi': 2059, 'defeat': 2060, 'mini': 2061, 'tabl': 2062, 'task': 2063, 'expert': 2064, 'prevent': 2065, 'endur': 2066, 'tediou': 2067, 'employ': 2068, 'offend': 2069, 'trial': 2070, 'rival': 2071, 'basebal': 2072, 'imit': 2073, 'che': 2074, 'europ': 2075, 'fairi': 2076, 'beach': 2077, 'dig': 2078, 'complaint': 2079, 'weekend': 2080, 'max': 2081, 'pitch': 2082, 'purchas': 2083, 'murphi': 2084, 'risk': 2085, 'format': 2086, 'tini': 2087, 'reminisc': 2088, 'bite': 2089, 'harsh': 2090, 'nois': 2091, 'hype': 2092, 'powel': 2093, 'glimps': 2094, 'titan': 2095, 'north': 2096, 'asleep': 2097, 'prime': 2098, 'till': 2099, '14': 2100, 'strip': 2101, 'fals': 2102, 'revel': 2103, 'descript': 2104, 'africa': 2105, 'destruct': 2106, 'texa': 2107, 'arrest': 2108, 'semi': 2109, 'surfac': 2110, 'uninterest': 2111, 'sitcom': 2112, 'excess': 2113, 'inner': 2114, 'spin': 2115, 'maintain': 2116, 'controversi': 2117, 'dinosaur': 2118, 'argu': 2119, 'twin': 2120, 'massiv': 2121, 'makeup': 2122, 'hitchcock': 2123, 'stare': 2124, 'reject': 2125, 'melodrama': 2126, 'ludicr': 2127, 'ideal': 2128, 'expens': 2129, 'insist': 2130, 'kim': 2131, 'subplot': 2132, 'forest': 2133, 'ala': 2134, 'nail': 2135, 'ga': 2136, 'atroci': 2137, 'erot': 2138, 'host': 2139, 'supernatur': 2140, 'press': 2141, 'columbo': 2142, 'cant': 2143, 'identifi': 2144, 'presum': 2145, 'dude': 2146, 'notch': 2147, 'guest': 2148, 'crude': 2149, 'forgett': 2150, 'method': 2151, 'closer': 2152, 'character': 2153, 'plagu': 2154, 'border': 2155, 'princess': 2156, 'landscap': 2157, 'foster': 2158, 'beast': 2159, 'ear': 2160, 'lion': 2161, 'birth': 2162, 'pacino': 2163, 'previous': 2164, 'urban': 2165, 'bound': 2166, 'damag': 2167, 'storytel': 2168, 'accus': 2169, 'aunt': 2170, 'jungl': 2171, 'nude': 2172, 'guid': 2173, 'thirti': 2174, 'doll': 2175, 'jess': 2176, 'propaganda': 2177, 'chose': 2178, 'emma': 2179, 'whoever': 2180, 'mate': 2181, 'mainstream': 2182, 'warrior': 2183, 'pet': 2184, '25': 2185, 'size': 2186, 'poster': 2187, 'merit': 2188, 'gritti': 2189, 'latest': 2190, 'exact': 2191, 'friday': 2192, 'deadli': 2193, 'cooper': 2194, 'upset': 2195, 'popul': 2196, 'citizen': 2197, 'buff': 2198, 'sun': 2199, 'settl': 2200, 'warner': 2201, 'contest': 2202, 'contact': 2203, 'wilson': 2204, '1990': 2205, 'blend': 2206, 'corps': 2207, 'ton': 2208, 'rough': 2209, 'pitt': 2210, 'environ': 2211, 'mgm': 2212, 'widow': 2213, 'bu': 2214, 'overcom': 2215, 'select': 2216, 'metal': 2217, 'alic': 2218, 'rat': 2219, 'link': 2220, 'ted': 2221, 'particip': 2222, 'guilti': 2223, 'revolut': 2224, 'lift': 2225, 'prostitut': 2226, 'moron': 2227, 'afternoon': 2228, '1960': 2229, 'corpor': 2230, 'johnson': 2231, 'corner': 2232, 'accompani': 2233, 'exagger': 2234, 'matrix': 2235, 'friendli': 2236, 'doom': 2237, 'instal': 2238, 'holm': 2239, 'leagu': 2240, 'hood': 2241, 'sincer': 2242, 'multipl': 2243, 'clair': 2244, 'campi': 2245, 'examin': 2246, 'advis': 2247, 'hip': 2248, 'string': 2249, 'junk': 2250, 'defend': 2251, 'lugosi': 2252, 'sunday': 2253, 'aka': 2254, 'grim': 2255, 'irish': 2256, 'blah': 2257, 'tight': 2258, 'pro': 2259, 'shake': 2260, 'rachel': 2261, 'varieti': 2262, 'shut': 2263, 'icon': 2264, 'confid': 2265, 'mexican': 2266, 'attach': 2267, 'jaw': 2268, 'goal': 2269, 'medic': 2270, 'directli': 2271, 'denni': 2272, 'sullivan': 2273, 'sentenc': 2274, 'legendari': 2275, 'truck': 2276, 'courag': 2277, 'vietnam': 2278, 'dean': 2279, 'prior': 2280, 'duke': 2281, 'sarah': 2282, 'bourn': 2283, 'terrorist': 2284, 'breast': 2285, 'donald': 2286, 'behav': 2287, 'entri': 2288, 'proceed': 2289, 'nose': 2290, 'split': 2291, 'hong': 2292, 'un': 2293, 'yell': 2294, 'buri': 2295, 'borrow': 2296, 'concentr': 2297, 'confess': 2298, 'crush': 2299, 'swim': 2300, 'jerk': 2301, 'lifetim': 2302, 'gather': 2303, 'forth': 2304, 'unconvinc': 2305, 'stolen': 2306, 'everywher': 2307, 'turkey': 2308, 'deliveri': 2309, 'california': 2310, 'lip': 2311, 'spite': 2312, 'julia': 2313, 'pan': 2314, 'proud': 2315, 'quest': 2316, 'hoffman': 2317, 'freeman': 2318, 'flight': 2319, 'offici': 2320, 'reward': 2321, 'china': 2322, 'downright': 2323, 'jail': 2324, 'fade': 2325, 'notori': 2326, 'encourag': 2327, 'fabul': 2328, 'inept': 2329, 'worthwhil': 2330, 'jon': 2331, 'lazi': 2332, 'sir': 2333, 'sink': 2334, 'betray': 2335, 'susan': 2336, 'bag': 2337, 'shower': 2338, 'cousin': 2339, 'storm': 2340, 'lisa': 2341, 'bell': 2342, 'survivor': 2343, 'imageri': 2344, 'retard': 2345, 'teeth': 2346, 'branagh': 2347, 'relev': 2348, 'mexico': 2349, 'alright': 2350, 'hugh': 2351, 'toler': 2352, 'summari': 2353, 'trade': 2354, 'stab': 2355, 'quirki': 2356, 'tremend': 2357, 'shark': 2358, 'finger': 2359, 'bride': 2360, 'facial': 2361, 'bitter': 2362, 'blown': 2363, 'hyster': 2364, 'von': 2365, 'ha': 2366, 'pose': 2367, 'larri': 2368, 'address': 2369, 'ron': 2370, 'ned': 2371, 'bone': 2372, 'cruel': 2373, 'christ': 2374, 'afterward': 2375, 'scheme': 2376, 'tour': 2377, 'distinct': 2378, 'traci': 2379, 'beg': 2380, 'snake': 2381, 'pursu': 2382, 'screw': 2383, 'thumb': 2384, 'feed': 2385, 'swear': 2386, 'obscur': 2387, 'photo': 2388, 'raw': 2389, 'occas': 2390, 'chair': 2391, 'mechan': 2392, 'stomach': 2393, 'chain': 2394, 'holiday': 2395, 'heavili': 2396, 'cabin': 2397, 'southern': 2398, 'sidney': 2399, 'argument': 2400, 'necessarili': 2401, 'resist': 2402, 'hardi': 2403, 'gruesom': 2404, 'render': 2405, 'satan': 2406, 'india': 2407, 'philip': 2408, 'indulg': 2409, 'racist': 2410, 'understood': 2411, 'forgot': 2412, 'midnight': 2413, 'obnoxi': 2414, 'outfit': 2415, 'fourth': 2416, 'belov': 2417, 'tongu': 2418, 'lay': 2419, 'stalk': 2420, 'integr': 2421, 'pregnant': 2422, 'inhabit': 2423, 'magazin': 2424, 'carol': 2425, 'deeper': 2426, 'ticket': 2427, 'restor': 2428, 'slapstick': 2429, 'garden': 2430, '17': 2431, 'brad': 2432, 'shoe': 2433, 'incid': 2434, 'devot': 2435, 'lincoln': 2436, 'divorc': 2437, 'guarante': 2438, 'lili': 2439, 'anticip': 2440, 'underground': 2441, 'disbelief': 2442, 'sandler': 2443, 'benefit': 2444, 'elizabeth': 2445, 'maria': 2446, 'amazingli': 2447, 'princip': 2448, 'capit': 2449, 'bbc': 2450, 'explod': 2451, 'greater': 2452, 'mildli': 2453, 'creation': 2454, 'slave': 2455, 'cring': 2456, 'funnier': 2457, 'extraordinari': 2458, 'halfway': 2459, 'lesli': 2460, 'introduct': 2461, 'text': 2462, 'extent': 2463, 'overwhelm': 2464, 'punish': 2465, 'enhanc': 2466, 'transfer': 2467, 'advantag': 2468, 'wreck': 2469, 'tap': 2470, 'deliber': 2471, 'jessica': 2472, 'lo': 2473, 'dynam': 2474, 'plant': 2475, 'east': 2476, 'preview': 2477, 'lane': 2478, 'horrif': 2479, 'error': 2480, 'appli': 2481, 'miscast': 2482, 'sophist': 2483, 'ensu': 2484, 'miller': 2485, 'vincent': 2486, 'basi': 2487, '2000': 2488, 'vacat': 2489, 'homosexu': 2490, 'sleazi': 2491, 'elev': 2492, 'bollywood': 2493, 'reed': 2494, 'spoken': 2495, 'extend': 2496, 'uncomfort': 2497, 'steel': 2498, 'mansion': 2499, 'measur': 2500, 'via': 2501, 'hippi': 2502, 'daili': 2503, 'alter': 2504, 'assign': 2505, 'fix': 2506, 'mous': 2507, 'breathtak': 2508, 'conceiv': 2509, 'cathol': 2510, 'overact': 2511, 'stanley': 2512, 'blair': 2513, 'beer': 2514, 'savag': 2515, 'goofi': 2516, 'melt': 2517, 'dentist': 2518, 'sacrific': 2519, 'properli': 2520, 'everyday': 2521, 'oppos': 2522, 'succe': 2523, 'nowaday': 2524, 'carpent': 2525, 'inspector': 2526, 'subsequ': 2527, 'burt': 2528, 'block': 2529, 'circl': 2530, 'massacr': 2531, 'neck': 2532, 'laura': 2533, 'pool': 2534, 'christi': 2535, 'grey': 2536, 'mob': 2537, 'seagal': 2538, 'concert': 2539, 'lesser': 2540, 'access': 2541, 'fay': 2542, 'fallen': 2543, 'portrait': 2544, 'react': 2545, 'chees': 2546, 'usa': 2547, 'jewish': 2548, 'competit': 2549, 'sinist': 2550, 'relax': 2551, 'jake': 2552, 'isol': 2553, 'suitabl': 2554, 'chop': 2555, 'lyric': 2556, 'immens': 2557, 'stink': 2558, 'appal': 2559, 'creep': 2560, 'nine': 2561, 'spiritu': 2562, 'ironi': 2563, '2006': 2564, 'nonetheless': 2565, 'retir': 2566, 'adopt': 2567, 'spring': 2568, 'reduc': 2569, 'nut': 2570, 'showcas': 2571, 'franchis': 2572, 'navi': 2573, 'rage': 2574, 'needless': 2575, 'sold': 2576, 'luci': 2577, 'shirt': 2578, 'user': 2579, 'bath': 2580, 'nurs': 2581, 'stanwyck': 2582, 'per': 2583, 'asham': 2584, 'bulli': 2585, 'jay': 2586, 'uninspir': 2587, 'zone': 2588, 'digit': 2589, 'laid': 2590, 'illustr': 2591, 'sutherland': 2592, 'upper': 2593, 'broadcast': 2594, 'amongst': 2595, '1940': 2596, 'oddli': 2597, '2001': 2598, 'fulfil': 2599, 'stylish': 2600, 'brando': 2601, 'aspir': 2602, 'disguis': 2603, 'throat': 2604, 'baker': 2605, 'endear': 2606, '18': 2607, 'neighborhood': 2608, 'pride': 2609, 'nobl': 2610, 'em': 2611, 'wwii': 2612, 'impli': 2613, 'wanna': 2614, 'thief': 2615, 'pound': 2616, 'bo': 2617, 'tens': 2618, 'shift': 2619, 'dawn': 2620, '16': 2621, 'diseas': 2622, 'albeit': 2623, 'cinematograph': 2624, 'bett': 2625, 'coher': 2626, 'shoulder': 2627, 'distribut': 2628, 'rochest': 2629, 'dinner': 2630, 'prop': 2631, 'knife': 2632, 'wash': 2633, 'shout': 2634, 'contract': 2635, 'function': 2636, 'silenc': 2637, 'poignant': 2638, 'snow': 2639, 'rebel': 2640, 'forti': 2641, 'matthau': 2642, 'surf': 2643, 'heat': 2644, 'silver': 2645, 'internet': 2646, 'eeri': 2647, 'cancel': 2648, 'proof': 2649, 'derek': 2650, 'duti': 2651, 'horrend': 2652, 'instinct': 2653, 'reunion': 2654, 'henc': 2655, 'mindless': 2656, 'cannib': 2657, 'widmark': 2658, 'chuck': 2659, 'height': 2660, 'elvira': 2661, 'absorb': 2662, 'glori': 2663, 'musician': 2664, 'repetit': 2665, 'pie': 2666, 'alik': 2667, 'greatli': 2668, 'premier': 2669, 'innov': 2670, 'mill': 2671, 'torn': 2672, 'spielberg': 2673, 'etern': 2674, 'elvi': 2675, 'incoher': 2676, 'neat': 2677, 'britain': 2678, 'racism': 2679, 'wealthi': 2680, 'diamond': 2681, 'announc': 2682, 'bang': 2683, 'nelson': 2684, 'redempt': 2685, 'trite': 2686, 'itali': 2687, 'precis': 2688, 'blank': 2689, 'infam': 2690, 'lovabl': 2691, 'crisi': 2692, 'fbi': 2693, 'homag': 2694, 'horrifi': 2695, 'burton': 2696, 'pat': 2697, 'wilder': 2698, 'resolut': 2699, 'chaplin': 2700, 'hammer': 2701, 'happili': 2702, 'ensembl': 2703, 'flop': 2704, 'helen': 2705, 'parallel': 2706, 'dedic': 2707, 'streisand': 2708, 'oil': 2709, 'cube': 2710, 'carter': 2711, 'broke': 2712, 'plastic': 2713, 'st': 2714, 'disagre': 2715, 'triumph': 2716, 'conclud': 2717, 'mar': 2718, 'factori': 2719, 'bush': 2720, 'weight': 2721, 'rocket': 2722, 'fighter': 2723, 'vega': 2724, 'march': 2725, 'own': 2726, 'chuckl': 2727, 'climb': 2728, 'row': 2729, 'wherea': 2730, 'boot': 2731, 'thug': 2732, 'luca': 2733, 'spare': 2734, 'lust': 2735, 'unforgett': 2736, 'sensibl': 2737, 'mst3k': 2738, 'meaning': 2739, 'kurt': 2740, 'dump': 2741, 'dane': 2742, 'enorm': 2743, 'dear': 2744, 'caricatur': 2745, 'adequ': 2746, 'stress': 2747, 'butt': 2748, 'threat': 2749, 'karloff': 2750, 'arnold': 2751, 'engin': 2752, 'brand': 2753, 'fifti': 2754, 'bobbi': 2755, 'rap': 2756, 'difficulti': 2757, 'arrog': 2758, 'polish': 2759, 'elabor': 2760, 'ralph': 2761, 'fest': 2762, 'journalist': 2763, 'barri': 2764, 'ego': 2765, 'swing': 2766, 'homeless': 2767, 'secretari': 2768, 'flynn': 2769, 'hamlet': 2770, 'resort': 2771, 'conspiraci': 2772, 'tool': 2773, 'unbear': 2774, 'float': 2775, 'induc': 2776, 'grate': 2777, 'arrang': 2778, 'fanci': 2779, 'puppet': 2780, 'simpson': 2781, 'spike': 2782, 'phillip': 2783, 'tribut': 2784, 'choreograph': 2785, 'exercis': 2786, 'pig': 2787, 'basement': 2788, 'boll': 2789, 'muppet': 2790, 'guilt': 2791, 'cruis': 2792, 'editor': 2793, 'fianc': 2794, 'file': 2795, 'layer': 2796, 'toilet': 2797, 'babe': 2798, 'item': 2799, 'slip': 2800, 'medium': 2801, 'ward': 2802, 'stan': 2803, 'tower': 2804, 'korean': 2805, 'ham': 2806, 'scarecrow': 2807, 'puzzl': 2808, '24': 2809, 'document': 2810, 'persona': 2811, 'philosoph': 2812, 'portion': 2813, 'spark': 2814, 'transit': 2815, 'larger': 2816, 'assur': 2817, 'territori': 2818, 'minim': 2819, 'superfici': 2820, 'librari': 2821, 'glover': 2822, 'slaughter': 2823, 'inexplic': 2824, 'denzel': 2825, 'catherin': 2826, 'doc': 2827, 'orient': 2828, 'financi': 2829, 'jet': 2830, 'ban': 2831, 'jeremi': 2832, 'wolf': 2833, 'curti': 2834, 'boredom': 2835, 'shi': 2836, 'walken': 2837, 'owe': 2838, 'dorothi': 2839, 'sneak': 2840, 'pg': 2841, 'profound': 2842, 'backdrop': 2843, 'whale': 2844, 'multi': 2845, 'ambigu': 2846, 'metaphor': 2847, 'eleph': 2848, 'hudson': 2849, 'cusack': 2850, 'implaus': 2851, 'hack': 2852, 'elsewher': 2853, 'gadget': 2854, 'stiff': 2855, 'viru': 2856, 'birthday': 2857, 'notion': 2858, 'ultra': 2859, 'rave': 2860, '2005': 2861, 'union': 2862, 'canada': 2863, 'deriv': 2864, 'distanc': 2865, 'eva': 2866, 'hawk': 2867, 'reader': 2868, '1st': 2869, 'eastwood': 2870, 'urg': 2871, 'lloyd': 2872, 'afford': 2873, 'superhero': 2874, 'poison': 2875, 'disc': 2876, 'slight': 2877, 'newspap': 2878, 'squar': 2879, 'bibl': 2880, 'pad': 2881, 'heston': 2882, 'sadist': 2883, 'spread': 2884, 'button': 2885, 'skit': 2886, 'montag': 2887, 'drown': 2888, 'huh': 2889, 'essenc': 2890, 'restaur': 2891, 'cure': 2892, 'health': 2893, 'charisma': 2894, 'fetch': 2895, 'dealt': 2896, 'lab': 2897, 'gradual': 2898, 'estat': 2899, 'invest': 2900, 'godfath': 2901, 'companion': 2902, 'maniac': 2903, 'muslim': 2904, 'peak': 2905, 'scoobi': 2906, 'countless': 2907, 'subtleti': 2908, 'servant': 2909, 'alli': 2910, 'gothic': 2911, 'kane': 2912, 'miik': 2913, 'ritter': 2914, 'cup': 2915, 'tea': 2916, 'elect': 2917, 'electr': 2918, 'heroic': 2919, 'charismat': 2920, 'briefli': 2921, 'salli': 2922, 'iii': 2923, 'nuanc': 2924, 'cole': 2925, 'wannab': 2926, 'resourc': 2927, 'admittedli': 2928, 'tender': 2929, 'toss': 2930, 'reel': 2931, 'neil': 2932, 'ingredi': 2933, 'bud': 2934, 'grandmoth': 2935, 'pauli': 2936, 'poverti': 2937, 'stronger': 2938, 'punk': 2939, 'mild': 2940, 'kubrick': 2941, 'carrey': 2942, 'label': 2943, 'shall': 2944, 'gate': 2945, 'dawson': 2946, 'pit': 2947, 'mafia': 2948, 'stood': 2949, 'reev': 2950, 'terri': 2951, 'smooth': 2952, 'bakshi': 2953, 'cox': 2954, 'outcom': 2955, 'updat': 2956, 'tag': 2957, 'easier': 2958, 'burst': 2959, 'fond': 2960, 'cardboard': 2961, 'astair': 2962, 'useless': 2963, 'smash': 2964, 'ian': 2965, 'assault': 2966, 'sketch': 2967, 'exchang': 2968, 'qualifi': 2969, 'vulner': 2970, 'resolv': 2971, 'melodramat': 2972, 'coincid': 2973, 'increasingli': 2974, 'fist': 2975, 'rex': 2976, 'divers': 2977, 'vari': 2978, '2002': 2979, 'samurai': 2980, 'templ': 2981, 'scratch': 2982, 'insert': 2983, 'tame': 2984, 'blast': 2985, 'luckili': 2986, 'conveni': 2987, 'suspend': 2988, 'be': 2989, 'brillianc': 2990, 'reynold': 2991, 'matthew': 2992, 'hamilton': 2993, 'gotta': 2994, 'meat': 2995, 'seventi': 2996, 'walker': 2997, 'nuclear': 2998, 'farm': 2999, 'fisher': 3000, 'pin': 3001, 'ambiti': 3002, 'jami': 3003, 'coach': 3004, 'soprano': 3005, 'strictli': 3006, 'worthless': 3007, 'brosnan': 3008, 'recreat': 3009, 'kudo': 3010, 'discoveri': 3011, 'eccentr': 3012, 'butcher': 3013, 'instantli': 3014, 'convolut': 3015, 'closet': 3016, 'grasp': 3017, 'ninja': 3018, 'joey': 3019, 'cave': 3020, 'spooki': 3021, 'empir': 3022, 'timeless': 3023, 'clock': 3024, 'revers': 3025, 'monk': 3026, 'struck': 3027, 'miracl': 3028, 'sloppi': 3029, 'partli': 3030, 'clown': 3031, 'declar': 3032, 'eighti': 3033, 'selfish': 3034, 'pal': 3035, 'wipe': 3036, 'fifteen': 3037, 'cliff': 3038, 'gray': 3039, 'importantli': 3040, 'mitchel': 3041, 'norman': 3042, 'bleak': 3043, 'seller': 3044, 'sidekick': 3045, 'evok': 3046, 'communist': 3047, 'inconsist': 3048, 'farc': 3049, 'superbl': 3050, 'destin': 3051, 'chew': 3052, 'aforement': 3053, 'websit': 3054, '45': 3055, 'psychiatrist': 3056, 'australia': 3057, 'stoog': 3058, 'debat': 3059, 'cheek': 3060, 'piano': 3061, 'ho': 3062, 'lifestyl': 3063, 'enthusiast': 3064, 'flawless': 3065, 'seed': 3066, 'bash': 3067, 'drivel': 3068, 'kitchen': 3069, 'anni': 3070, 'dire': 3071, 'slice': 3072, 'directori': 3073, 'emili': 3074, 'incompet': 3075, 'soviet': 3076, 'abc': 3077, 'dash': 3078, 'akshay': 3079, 'pressur': 3080, 'splatter': 3081, 'wick': 3082, 'regardless': 3083, 'wrestl': 3084, 'boil': 3085, 'beaten': 3086, 'recov': 3087, 'prize': 3088, 'distant': 3089, 'duo': 3090, 'chapter': 3091, 'seduc': 3092, 'helicopt': 3093, 'curios': 3094, 'jar': 3095, 'increas': 3096, 'cagney': 3097, 'suppli': 3098, 'artifici': 3099, 'cia': 3100, 'dave': 3101, 'blob': 3102, 'ken': 3103, 'flower': 3104, 'mann': 3105, 'glow': 3106, 'judi': 3107, 'pleasantli': 3108, 'lou': 3109, 'cameron': 3110, 'doo': 3111, 'ellen': 3112, 'craig': 3113, 'favour': 3114, 'goldberg': 3115, 'francisco': 3116, 'hop': 3117, 'combat': 3118, 'web': 3119, 'craven': 3120, 'drunken': 3121, 'splendid': 3122, 'glenn': 3123, 'perri': 3124, 'laurel': 3125, 'turner': 3126, 'psychot': 3127, 'panic': 3128, 'eleg': 3129, 'ranger': 3130, 'gandhi': 3131, 'shortli': 3132, 'rid': 3133, 'flip': 3134, 'graduat': 3135, 'gentl': 3136, 'philosophi': 3137, 'min': 3138, 'plausibl': 3139, 'slightest': 3140, 'fx': 3141, 'ruth': 3142, 'alexand': 3143, '20th': 3144, 'hatr': 3145, 'modesti': 3146, 'wizard': 3147, 'falk': 3148, 'greek': 3149, 'harm': 3150, 'knight': 3151, 'tall': 3152, 'futurist': 3153, 'we': 3154, 'holi': 3155, 'lend': 3156, 'ocean': 3157, 'felix': 3158, 'manhattan': 3159, 'jealou': 3160, 'unpleas': 3161, 'preciou': 3162, 'legal': 3163, 'dracula': 3164, 'fund': 3165, 'ami': 3166, 'reviv': 3167, 'childish': 3168, 'mock': 3169, 'explicit': 3170, 'bless': 3171, 'scientif': 3172, 'forbidden': 3173, 'overdon': 3174, 'digniti': 3175, 'thread': 3176, 'tank': 3177, 'nod': 3178, 'giallo': 3179, 'unwatch': 3180, 'nerv': 3181, 'margaret': 3182, 'verhoeven': 3183, 'mel': 3184, 'elderli': 3185, '99': 3186, 'torment': 3187, 'awe': 3188, 'repeatedli': 3189, 'thick': 3190, 'awaken': 3191, 'broad': 3192, 'yesterday': 3193, 'eve': 3194, 'pirat': 3195, '2004': 3196, 'fever': 3197, 'royal': 3198, 'publish': 3199, 'rivet': 3200, 'politician': 3201, 'uniform': 3202, 'custom': 3203, 'ah': 3204, 'ambit': 3205, 'absenc': 3206, 'eas': 3207, 'kay': 3208, 'griffith': 3209, 'acclaim': 3210, 'stiller': 3211, 'roman': 3212, 'automat': 3213, 'romero': 3214, 'bin': 3215, 'lean': 3216, 'launch': 3217, 'timothi': 3218, 'pierc': 3219, 'warren': 3220, 'homicid': 3221, 'pulp': 3222, 'darker': 3223, 'transport': 3224, 'stinker': 3225, 'termin': 3226, 'antic': 3227, 'foul': 3228, 'purpl': 3229, 'gabriel': 3230, 'bathroom': 3231, 'crook': 3232, 'phrase': 3233, 'sunshin': 3234, 'tomato': 3235, 'wallac': 3236, 'pray': 3237, 'brazil': 3238, '2003': 3239, 'awak': 3240, 'rambo': 3241, 'saint': 3242, 'sixti': 3243, 'li': 3244, 'coloni': 3245, 'viciou': 3246, 'ought': 3247, 'prom': 3248, 'hollow': 3249, 'horrid': 3250, 'contrari': 3251, 'donna': 3252, 'packag': 3253, 'revolutionari': 3254, 'juvenil': 3255, 'marin': 3256, 'q': 3257, 'choreographi': 3258, 'kenneth': 3259, 'evolv': 3260, 'eyr': 3261, 'karen': 3262, 'album': 3263, 'boast': 3264, 'twelv': 3265, 'conserv': 3266, 'kapoor': 3267, 'option': 3268, 'mummi': 3269, 'ramon': 3270, 'nerd': 3271, 'candid': 3272, 'blade': 3273, 'defi': 3274, 'stole': 3275, 'dose': 3276, 'ireland': 3277, 'overr': 3278, 'mildr': 3279, 'beatti': 3280, 'confirm': 3281, 'collabor': 3282, 'flame': 3283, 'jazz': 3284, 'astonish': 3285, 'protest': 3286, 'trio': 3287, 'detract': 3288, 'kirk': 3289, 'global': 3290, 'fulci': 3291, 'altman': 3292, 'funer': 3293, 'natali': 3294, 'mystic': 3295, 'audio': 3296, 'spit': 3297, 'racial': 3298, 'bull': 3299, 'leap': 3300, 'nicholson': 3301, 'destini': 3302, 'bottl': 3303, 'whip': 3304, 'tommi': 3305, 'blake': 3306, 'delici': 3307, 'yellow': 3308, 'shade': 3309, 'enterpris': 3310, 'bedroom': 3311, 'inherit': 3312, 'harder': 3313, 'adolesc': 3314, 'reunit': 3315, 'swedish': 3316, 'fonda': 3317, 'popcorn': 3318, 'enchant': 3319, 'merci': 3320, 'todd': 3321, 'altogeth': 3322, 'meaningless': 3323, 'vivid': 3324, 'visibl': 3325, 'staff': 3326, 'threw': 3327, 'pseudo': 3328, 'neo': 3329, 'reserv': 3330, 'roommat': 3331, 'suspici': 3332, 'synopsi': 3333, 'atlanti': 3334, 'ruthless': 3335, 'befriend': 3336, 'bust': 3337, 'uneven': 3338, 'moodi': 3339, 'kennedi': 3340, 'wire': 3341, 'lawrenc': 3342, 'exhibit': 3343, 'jew': 3344, 'madonna': 3345, 'await': 3346, 'fanat': 3347, 'respond': 3348, 'decor': 3349, 'tip': 3350, 'leonard': 3351, 'edi': 3352, 'lemmon': 3353, 'voight': 3354, 'crocodil': 3355, 'clumsi': 3356, 'unsettl': 3357, 'centr': 3358, 'holli': 3359, 'incident': 3360, 'dimens': 3361, 'voyag': 3362, 'audit': 3363, 'clint': 3364, 'bargain': 3365, 'ventur': 3366, 'abysm': 3367, 'carl': 3368, 'chao': 3369, 'bold': 3370, 'rural': 3371, '2007': 3372, 'garner': 3373, 'palma': 3374, 'bradi': 3375, 'trail': 3376, 'immigr': 3377, 'wealth': 3378, 'versu': 3379, 'characterist': 3380, 'neglect': 3381, 'acknowledg': 3382, 'echo': 3383, 'cari': 3384, 'cuba': 3385, 'mall': 3386, 'troop': 3387, 'poetic': 3388, 'daddi': 3389, 'nearbi': 3390, 'elimin': 3391, 'cd': 3392, 'ant': 3393, 'imperson': 3394, '2nd': 3395, 'tiger': 3396, 'hart': 3397, 'humili': 3398, 'timon': 3399, 'lit': 3400, 'pun': 3401, 'celluloid': 3402, 'marshal': 3403, 'prejudic': 3404, 'paus': 3405, 'infect': 3406, 'jeffrey': 3407, 'mistaken': 3408, 'solo': 3409, 'repuls': 3410, 'saga': 3411, 'collaps': 3412, 'mickey': 3413, 'domest': 3414, 'homer': 3415, 'coat': 3416, 'tribe': 3417, 'undoubtedli': 3418, 'equip': 3419, 'assembl': 3420, 'coffe': 3421, 'interrupt': 3422, 'sore': 3423, 'gear': 3424, 'hbo': 3425, 'olivi': 3426, 'promin': 3427, 'harvey': 3428, 'pant': 3429, 'cake': 3430, 'ginger': 3431, 'milk': 3432, '1996': 3433, 'inan': 3434, 'apolog': 3435, 'inappropri': 3436, 'chest': 3437, 'leon': 3438, 'pot': 3439, 'airplan': 3440, 'pen': 3441, 'devast': 3442, 'highest': 3443, 'trace': 3444, 'vulgar': 3445, 'solut': 3446, 'humbl': 3447, 'instant': 3448, 'furthermor': 3449, 'primari': 3450, 'polanski': 3451, 'institut': 3452, 'maggi': 3453, 'florida': 3454, 'consum': 3455, 'brooklyn': 3456, 'embrac': 3457, 'colleagu': 3458, 'colonel': 3459, 'jenni': 3460, 'aveng': 3461, 'retain': 3462, 'exot': 3463, 'linda': 3464, 'outer': 3465, 'dutch': 3466, 'principl': 3467, 'seduct': 3468, 'dian': 3469, 'godzilla': 3470, '1999': 3471, 'smaller': 3472, 'ya': 3473, 'rick': 3474, '3rd': 3475, 'strain': 3476, 'gender': 3477, 'sale': 3478, 'bowl': 3479, 'disabl': 3480, 'cope': 3481, 'wive': 3482, 'illog': 3483, 'descend': 3484, 'poke': 3485, 'dud': 3486, 'gloriou': 3487, 'yard': 3488, 'beneath': 3489, 'inferior': 3490, 'cue': 3491, 'bubbl': 3492, 'scope': 3493, 'dive': 3494, 'hal': 3495, 'predecessor': 3496, 'gundam': 3497, 'lol': 3498, 'glamor': 3499, 'blatant': 3500, 'vast': 3501, 'mixtur': 3502, 'secondli': 3503, 'rabbit': 3504, 'primarili': 3505, 'devoid': 3506, 'alert': 3507, 'alfr': 3508, 'trademark': 3509, 'breed': 3510, 'shelf': 3511, 'april': 3512, 'disjoint': 3513, 'hideou': 3514, 'aggress': 3515, 'simplist': 3516, 'senseless': 3517, 'casual': 3518, 'myer': 3519, 'z': 3520, 'arab': 3521, 'museum': 3522, 'countrysid': 3523, 'shirley': 3524, 'streep': 3525, 'invas': 3526, 'pearl': 3527, 'et': 3528, 'garbo': 3529, 'talki': 3530, 'grinch': 3531, 'domino': 3532, 'illeg': 3533, 'unhappi': 3534, 'maci': 3535, 'khan': 3536, 'robberi': 3537, 'experiment': 3538, 'stir': 3539, 'robinson': 3540, 'mail': 3541, 'acid': 3542, 'rendit': 3543, 'stellar': 3544, 'vanish': 3545, 'hopeless': 3546, 'obtain': 3547, 'hardcor': 3548, 'sh': 3549, 'boom': 3550, 'uwe': 3551, 'defens': 3552, 'applaud': 3553, 'disgrac': 3554, 'stack': 3555, 'slide': 3556, 'loyal': 3557, 'oz': 3558, 'mayor': 3559, 'amanda': 3560, 'dismiss': 3561, 'rifl': 3562, 'declin': 3563, 'diana': 3564, 'psychic': 3565, 'fri': 3566, 'grandfath': 3567, 'span': 3568, 'recruit': 3569, 'spider': 3570, 'tempt': 3571, 'berlin': 3572, 'incomprehens': 3573, 'counter': 3574, 'blew': 3575, 'emphasi': 3576, 'craze': 3577, 'hartley': 3578, 'wont': 3579, 'tenant': 3580, 'dicken': 3581, 'scroog': 3582, 'soccer': 3583, 'topless': 3584, 'ethnic': 3585, 'riot': 3586, 'wet': 3587, 'lumet': 3588, 'faster': 3589, 'niro': 3590, 'parad': 3591, 'ration': 3592, 'shed': 3593, 'porno': 3594, 'revolt': 3595, 'trashi': 3596, 'sibl': 3597, 'woo': 3598, 'goer': 3599, 'sympath': 3600, 'justin': 3601, 'bitch': 3602, 'shaw': 3603, 'intim': 3604, 'resurrect': 3605, 'andr': 3606, 'jonathan': 3607, 'biographi': 3608, 'nephew': 3609, 'dealer': 3610, 'lena': 3611, '00': 3612, 'rider': 3613, 'ensur': 3614, 'weakest': 3615, 'feminist': 3616, 'partial': 3617, 'mario': 3618, 'worm': 3619, 'farmer': 3620, 'steam': 3621, 'gap': 3622, 'choru': 3623, 'patriot': 3624, 'enlighten': 3625, 'hopper': 3626, 'honesti': 3627, 'commend': 3628, 'hesit': 3629, 'wheel': 3630, 'immort': 3631, 'eager': 3632, 'region': 3633, 'unreal': 3634, 'ballet': 3635, 'slick': 3636, 'wendi': 3637, 'safeti': 3638, 'nostalg': 3639, 'vice': 3640, 'owen': 3641, 'psychopath': 3642, 'kingdom': 3643, 'skull': 3644, 'blunt': 3645, 'snap': 3646, 'charlott': 3647, 'properti': 3648, 'confin': 3649, 'franco': 3650, 'leo': 3651, 'mutant': 3652, 'sandra': 3653, 'repress': 3654, 'victori': 3655, 'prequel': 3656, 'hung': 3657, 'wore': 3658, 'similarli': 3659, 'composit': 3660, 'sappi': 3661, 'morri': 3662, 'macarthur': 3663, 'util': 3664, 'valuabl': 3665, 'recycl': 3666, 'tad': 3667, 'farrel': 3668, 'acquir': 3669, 'drum': 3670, 'tail': 3671, 'nervou': 3672, 'rocki': 3673, 'whoopi': 3674, 'pattern': 3675, 'compens': 3676, 'dust': 3677, 'deed': 3678, 'latin': 3679, 'strand': 3680, 'thru': 3681, 'montana': 3682, 'compass': 3683, 'del': 3684, 'repli': 3685, 'bergman': 3686, 'exit': 3687, 'heartbreak': 3688, 'bow': 3689, 'bumbl': 3690, 'drain': 3691, 'cg': 3692, 'snl': 3693, 'despair': 3694, 'bonu': 3695, 'miseri': 3696, 'speci': 3697, 'kyle': 3698, 'rope': 3699, 'rambl': 3700, '1972': 3701, 'dalton': 3702, 'emperor': 3703, 'hyde': 3704, 'campbel': 3705, 'rapist': 3706, 'rotten': 3707, 'da': 3708, 'tonight': 3709, 'downhil': 3710, 'roth': 3711, 'wacki': 3712, 'orson': 3713, 'oppress': 3714, 'carradin': 3715, 'radic': 3716, 'martian': 3717, 'olli': 3718, 'percept': 3719, '35': 3720, 'contempl': 3721, 'romp': 3722, 'gimmick': 3723, 'gal': 3724, 'bleed': 3725, 'chess': 3726, 'airport': 3727, 'slug': 3728, 'pour': 3729, 'mistress': 3730, 'taught': 3731, 'pursuit': 3732, 'champion': 3733, 'stilt': 3734, 'tackl': 3735, 'tooth': 3736, 'banal': 3737, 'heal': 3738, '1983': 3739, 'belt': 3740, 'melodi': 3741, 'pervers': 3742, 'preach': 3743, 'arguabl': 3744, 'shelley': 3745, 'dazzl': 3746, 'unpredict': 3747, 'programm': 3748, 'mislead': 3749, 'slash': 3750, 'pervert': 3751, 'arc': 3752, 'paltrow': 3753, 'attorney': 3754, 'edgar': 3755, 'maid': 3756, 'chicken': 3757, 'conneri': 3758, 'employe': 3759, 'cleverli': 3760, 'graham': 3761, 'bela': 3762, 'rubi': 3763, 'gambl': 3764, 'marti': 3765, 'sensat': 3766, 'vocal': 3767, 'virginia': 3768, 'orang': 3769, 'tiresom': 3770, 'mesmer': 3771, 'duval': 3772, 'uplift': 3773, 'vengeanc': 3774, 'plight': 3775, 'poem': 3776, 'raymond': 3777, 'franki': 3778, 'closest': 3779, 'passeng': 3780, 'dixon': 3781, 'swallow': 3782, 'abraham': 3783, 'scottish': 3784, 'inject': 3785, 'numb': 3786, 'lundgren': 3787, 'tube': 3788, 'crystal': 3789, 'mute': 3790, 'clone': 3791, 'quarter': 3792, 'suffic': 3793, 'whine': 3794, 'convincingli': 3795, 'sirk': 3796, 'habit': 3797, 'paranoia': 3798, 'amitabh': 3799, 'iran': 3800, 'gerard': 3801, 'bay': 3802, 'monologu': 3803, 'engross': 3804, 'profan': 3805, '1968': 3806, 'calm': 3807, 'extens': 3808, 'secretli': 3809, 'volum': 3810, 'yawn': 3811, 'climact': 3812, 'giggl': 3813, 'outing': 3814, 'pokemon': 3815, 'fed': 3816, 'trend': 3817, 'ethan': 3818, 'richardson': 3819, 'meander': 3820, 'plod': 3821, 'bend': 3822, 'nichola': 3823, 'taxi': 3824, 'expand': 3825, 'abort': 3826, 'grotesqu': 3827, 'dispos': 3828, 'chicago': 3829, 'underst': 3830, 'profess': 3831, 'frankenstein': 3832, 'backward': 3833, 'linger': 3834, 'septemb': 3835, 'surpass': 3836, 'poetri': 3837, 'earl': 3838, 'junior': 3839, 'austen': 3840, 'franci': 3841, 'lowest': 3842, 'im': 3843, 'spock': 3844, 'greedi': 3845, 'spoke': 3846, 'descent': 3847, 'simplic': 3848, 'household': 3849, 'waitress': 3850, 'catchi': 3851, 'myth': 3852, 'stallon': 3853, 'rubber': 3854, 'mundan': 3855, 'instrument': 3856, 'tourist': 3857, 'nostalgia': 3858, 'dysfunct': 3859, 'econom': 3860, 'compliment': 3861, 'rant': 3862, 'muddl': 3863, 'eugen': 3864, 'sue': 3865, 'hum': 3866, 'cannon': 3867, 'literatur': 3868, 'lure': 3869, 'der': 3870, 'equival': 3871, 'louis': 3872, 'molli': 3873, 'alongsid': 3874, 'insur': 3875, 'dictat': 3876, 'occupi': 3877, 'dement': 3878, 'mankind': 3879, 'phoni': 3880, 'furi': 3881, 'irrelev': 3882, 'damon': 3883, 'recognit': 3884, 'lang': 3885, 'deaf': 3886, 'duck': 3887, 'eaten': 3888, 'phantom': 3889, 'cent': 3890, 'bacal': 3891, 'crucial': 3892, 'hello': 3893, 'omen': 3894, 'mortal': 3895, 'carel': 3896, 'stale': 3897, 'flee': 3898, 'june': 3899, 'map': 3900, 'firstli': 3901, 'recognis': 3902, 'sissi': 3903, 'coast': 3904, 'randi': 3905, 'blackmail': 3906, 'bump': 3907, 'bike': 3908, 'labor': 3909, 'newli': 3910, 'damm': 3911, '1973': 3912, 'drake': 3913, 'distinguish': 3914, 'wisdom': 3915, 'reign': 3916, 'freez': 3917, 'heel': 3918, 'daisi': 3919, 'ashley': 3920, 'cyborg': 3921, 'likewis': 3922, 'onlin': 3923, 'twilight': 3924, 'buffalo': 3925, 'lengthi': 3926, 'dreari': 3927, 'biko': 3928, 'rooney': 3929, 'rude': 3930, 'loyalti': 3931, 'grayson': 3932, 'antwon': 3933, 'incorpor': 3934, 'pink': 3935, 'emphas': 3936, 'nineti': 3937, 'proce': 3938, 'analysi': 3939, 'prey': 3940, 'vein': 3941, 'barrymor': 3942, 'inher': 3943, 'exposur': 3944, 'provoc': 3945, 'unorigin': 3946, 'chronicl': 3947, 'attribut': 3948, 'boxer': 3949, 'startl': 3950, 'butler': 3951, 'sailor': 3952, 'interior': 3953, 'tunnel': 3954, 'ridden': 3955, 'keith': 3956, 'approv': 3957, 'worn': 3958, 'basketbal': 3959, 'baddi': 3960, 'nicol': 3961, 'bunni': 3962, 'unrel': 3963, 'predat': 3964, 'condemn': 3965, 'undeni': 3966, 'indiffer': 3967, 'stalker': 3968, 'meyer': 3969, 'er': 3970, 'degrad': 3971, 'mighti': 3972, 'underli': 3973, 'drift': 3974, 'fleet': 3975, 'julian': 3976, 'improvis': 3977, 'millionair': 3978, 'othello': 3979, 'substitut': 3980, 'simmon': 3981, 'elm': 3982, 'belushi': 3983, 'barrel': 3984, 'mormon': 3985, 'hypnot': 3986, 'meg': 3987, 'carla': 3988, 'walsh': 3989, 'robbin': 3990, 'priceless': 3991, 'enthusiasm': 3992, 'firm': 3993, 'rukh': 3994, 'agenda': 3995, 'edgi': 3996, '3d': 3997, 'novak': 3998, 'palac': 3999, 'reid': 4000, 'shove': 4001, 'vital': 4002, 'warmth': 4003, 'dolph': 4004, 'disord': 4005, 'nyc': 4006, 'roof': 4007, 'unawar': 4008, 'watson': 4009, 'greed': 4010, 'exquisit': 4011, 'marion': 4012, 'hay': 4013, 'alarm': 4014, 'mtv': 4015, 'errol': 4016, 'lampoon': 4017, 'alison': 4018, 'petti': 4019, '1933': 4020, 'peck': 4021, 'coup': 4022, 'showdown': 4023, 'distort': 4024, 'spain': 4025, 'minimum': 4026, 'ponder': 4027, 'simultan': 4028, 'iraq': 4029, 'gestur': 4030, 'profit': 4031, 'pamela': 4032, 'angela': 4033, 'testament': 4034, '13th': 4035, 'crown': 4036, 'glanc': 4037, 'session': 4038, 'sergeant': 4039, 'israel': 4040, 'campaign': 4041, 'randomli': 4042, 'eastern': 4043, 'valentin': 4044, 'championship': 4045, 'preserv': 4046, 'nun': 4047, 'orlean': 4048, 'unleash': 4049, 'drip': 4050, 'thompson': 4051, 'what': 4052, 'cassidi': 4053, 'peril': 4054, 'zizek': 4055, 'beatl': 4056, 'stroke': 4057, 'han': 4058, 'contradict': 4059, 'jan': 4060, 'regist': 4061, 'restrain': 4062, 'bro': 4063, 'cream': 4064, 'calib': 4065, '1984': 4066, 'empathi': 4067, 'realm': 4068, 'valley': 4069, 'represent': 4070, 'kurosawa': 4071, 'mon': 4072, 'wig': 4073, 'stake': 4074, 'quinn': 4075, 'travesti': 4076, 'crawl': 4077, 'exposit': 4078, 'brenda': 4079, 'miyazaki': 4080, 'shootout': 4081, 'cooki': 4082, 'climat': 4083, 'gentleman': 4084, 'reson': 4085, 'scotland': 4086, 'rout': 4087, 'unimagin': 4088, 'sabrina': 4089, 'perpetu': 4090, 'buster': 4091, 'crow': 4092, 'fido': 4093, 'din': 4094, 'mclaglen': 4095, 'perceiv': 4096, 'delic': 4097, 'businessman': 4098, 'traumat': 4099, 'absent': 4100, 'passabl': 4101, 'soderbergh': 4102, 'darren': 4103, '1997': 4104, 'fuller': 4105, 'abomin': 4106, 'tacki': 4107, 'greg': 4108, 'unsatisfi': 4109, 'crawford': 4110, 'pole': 4111, 'cloud': 4112, 'warrant': 4113, 'geek': 4114, 'demis': 4115, 'painter': 4116, 'censor': 4117, 'femm': 4118, 'compromis': 4119, 'meryl': 4120, 'shaki': 4121, 'stargat': 4122, 'ustinov': 4123, 'monoton': 4124, 'ross': 4125, 'unseen': 4126, 'distress': 4127, 'shoddi': 4128, 'wax': 4129, 'josh': 4130, 'spacey': 4131, 'sucker': 4132, 'pretens': 4133, 'derang': 4134, 'dana': 4135, '1987': 4136, 'baldwin': 4137, 'sammi': 4138, 'norm': 4139, 'deceas': 4140, 'anchor': 4141, 'exclus': 4142, 'polici': 4143, 'wholli': 4144, 'click': 4145, 'jewel': 4146, 'antonioni': 4147, 'expedit': 4148, 'kumar': 4149, 'unravel': 4150, '1993': 4151, 'judgment': 4152, 'correctli': 4153, 'primit': 4154, 'clash': 4155, 'reluct': 4156, 'furiou': 4157, 'accuraci': 4158, 'fenc': 4159, 'tech': 4160, 'tarantino': 4161, 'seal': 4162, 'fog': 4163, 'uncov': 4164, 'verbal': 4165, 'nathan': 4166, 'dee': 4167, 'valid': 4168, 'deniro': 4169, 'austin': 4170, 'sid': 4171, 'unfair': 4172, 'mode': 4173, 'fart': 4174, 'enforc': 4175, 'behold': 4176, 'debt': 4177, '2008': 4178, 'trait': 4179, 'pocket': 4180, 'dreck': 4181, 'tax': 4182, 'crippl': 4183, 'patienc': 4184, 'sand': 4185, 'hallucin': 4186, 'murray': 4187, 'wretch': 4188, 'shanghai': 4189, 'joel': 4190, 'conduct': 4191, '3000': 4192, 'bake': 4193, 'ritual': 4194, 'temper': 4195, 'wang': 4196, 'alec': 4197, 'seldom': 4198, 'sustain': 4199, 'slam': 4200, 'malon': 4201, 'nicola': 4202, 'darn': 4203, 'clerk': 4204, 'fabric': 4205, 'logan': 4206, 'vanc': 4207, 'fought': 4208, '1995': 4209, 'sheet': 4210, '1971': 4211, 'sunni': 4212, 'roller': 4213, 'technicolor': 4214, 'phil': 4215, 'helpless': 4216, 'stark': 4217, 'grief': 4218, 'scriptwrit': 4219, 'legaci': 4220, 'tactic': 4221, 'robber': 4222, 'runner': 4223, 'sweep': 4224, 'fundament': 4225, 'bias': 4226, 'guitar': 4227, 'critiqu': 4228, 'clau': 4229, 'divid': 4230, 'despis': 4231, 'conscious': 4232, 'schedul': 4233, 'outlin': 4234, 'pete': 4235, 'stuart': 4236, 'soup': 4237, 'exhaust': 4238, 'isabel': 4239, 'squad': 4240, 'preston': 4241, 'preposter': 4242, 'canyon': 4243, 'shell': 4244, 'rita': 4245, 'penni': 4246, 'bridget': 4247, 'connor': 4248, 'sugar': 4249, 'implic': 4250, 'consciou': 4251, 'inabl': 4252, 'bloom': 4253, 'gregori': 4254, 'delv': 4255, 'lacklust': 4256, 'passag': 4257, 'sniper': 4258, 'restrict': 4259, 'russia': 4260, 'culmin': 4261, 'propos': 4262, 'agenc': 4263, 'invad': 4264, 'kansa': 4265, 'vomit': 4266, 'drove': 4267, 'alley': 4268, 'unexpectedli': 4269, 'boyl': 4270, 'flair': 4271, 'liberti': 4272, 'rear': 4273, 'jodi': 4274, 'rehash': 4275, 'jacket': 4276, 'marc': 4277, 'newman': 4278, 'cigarett': 4279, 'downey': 4280, 'palanc': 4281, 'sentinel': 4282, 'alicia': 4283, '1936': 4284, 'aesthet': 4285, 'awhil': 4286, 'ladder': 4287, 'improb': 4288, 'foxx': 4289, 'tripe': 4290, 'vet': 4291, 'behaviour': 4292, 'delet': 4293, 'rehears': 4294, 'horn': 4295, 'lush': 4296, 'mccoy': 4297, 'wrench': 4298, 'feat': 4299, 'arrow': 4300, 'chainsaw': 4301, 'tendenc': 4302, 'pale': 4303, 'asylum': 4304, 'rod': 4305, 'sharon': 4306, 'cap': 4307, 'rampag': 4308, '22': 4309, 'bacon': 4310, 'kolchak': 4311, 'karl': 4312, 'yeti': 4313, 'tasteless': 4314, 'underneath': 4315, 'lurk': 4316, '1920': 4317, 'newcom': 4318, 'financ': 4319, 'paradis': 4320, 'stream': 4321, '1978': 4322, 'loneli': 4323, 'tomorrow': 4324, 'hulk': 4325, 'wildli': 4326, 'prank': 4327, 'elit': 4328, 'hungri': 4329, 'sung': 4330, 'rumor': 4331, 'suspicion': 4332, 'filler': 4333, 'weav': 4334, 'amazon': 4335, 'suffici': 4336, '1988': 4337, 'minu': 4338, 'globe': 4339, 'aristocrat': 4340, 'el': 4341, 'fright': 4342, 'visitor': 4343, 'hackney': 4344, 'scoop': 4345, 'paramount': 4346, 'thunderbird': 4347, 'spice': 4348, 'shortcom': 4349, 'conscienc': 4350, 'rhythm': 4351, 'coaster': 4352, '19th': 4353, 'basing': 4354, 'wagner': 4355, 'chamberlain': 4356, 'standout': 4357, 'posey': 4358, 'lectur': 4359, 'penn': 4360, 'chavez': 4361, 'dirt': 4362, 'naughti': 4363, 'choppi': 4364, 'impos': 4365, 'smell': 4366, 'beverli': 4367, 'ram': 4368, 'brit': 4369, 'curli': 4370, 'literari': 4371, 'paxton': 4372, 'abrupt': 4373, 'worship': 4374, 'atroc': 4375, 'secondari': 4376, 'couch': 4377, '1989': 4378, '1939': 4379, 'counterpart': 4380, 'rub': 4381, 'ingeni': 4382, 'en': 4383, 'heist': 4384, 'springer': 4385, 'quietli': 4386, 'cancer': 4387, 'straightforward': 4388, 'minist': 4389, 'recogniz': 4390, 'bread': 4391, '75': 4392, 'entranc': 4393, 'hopkin': 4394, 'immers': 4395, 'teas': 4396, 'iv': 4397, 'leigh': 4398, 'wwe': 4399, 'tierney': 4400, 'inmat': 4401, 'grudg': 4402, 'entitl': 4403, 'sublim': 4404, 'attenborough': 4405, 'bernard': 4406, 'lindsay': 4407, 'moreov': 4408, 'net': 4409, 'nolan': 4410, 'clan': 4411, 'skeptic': 4412, 'laurenc': 4413, 'cattl': 4414, 'sassi': 4415, 'enthral': 4416, 'missil': 4417, 'yearn': 4418, 'watcher': 4419, 'transcend': 4420, 'misguid': 4421, 'policeman': 4422, '1986': 4423, 'morbid': 4424, 'injuri': 4425, 'convert': 4426, 'quaid': 4427, 'ace': 4428, 'variat': 4429, 'heartfelt': 4430, 'geni': 4431, 'nemesi': 4432, 'duel': 4433, 'esther': 4434, 'ratso': 4435, 'steadi': 4436, 'spiral': 4437, 'diari': 4438, 'dont': 4439, 'mytholog': 4440, 'brood': 4441, 'grin': 4442, 'egg': 4443, 'bean': 4444, 'youngest': 4445, 'cruelti': 4446, 'graini': 4447, 'hopelessli': 4448, 'buzz': 4449, 'carlito': 4450, 'setup': 4451, 'artsi': 4452, 'reliabl': 4453, 'rosemari': 4454, 'obstacl': 4455, 'out': 4456, 'characteris': 4457, 'vader': 4458, 'facil': 4459, 'enabl': 4460, 'unexplain': 4461, 'kitti': 4462, '1979': 4463, 'hk': 4464, 'kidman': 4465, 'moder': 4466, 'poe': 4467, 'uncut': 4468, 'bye': 4469, 'puppi': 4470, 'tyler': 4471, 'decept': 4472, 'disastr': 4473, 'underworld': 4474, 'acquaint': 4475, 'martha': 4476, 'patricia': 4477, 'gillian': 4478, '1969': 4479, 'oblig': 4480, 'bewar': 4481, 'baffl': 4482, 'effici': 4483, 'preming': 4484, 'athlet': 4485, 'christin': 4486, 'clueless': 4487, 'sweat': 4488, 'hammi': 4489, 'spontan': 4490, 'narrow': 4491, 'despic': 4492, 'exterior': 4493, 'bronson': 4494, 'gina': 4495, 'hain': 4496, 'weather': 4497, 'kline': 4498, 'bounc': 4499, 'niec': 4500, 'fuel': 4501, 'heap': 4502, 'brendan': 4503, 'outlaw': 4504, 'lester': 4505, 'enlist': 4506, 'trigger': 4507, 'sooner': 4508, 'insipid': 4509, 'taboo': 4510, 'virtu': 4511, 'tick': 4512, 'candl': 4513, 'uh': 4514, 'suprem': 4515, 'circu': 4516, 'harmless': 4517, 'dandi': 4518, 'viewpoint': 4519, 'scar': 4520, '19': 4521, 'shatter': 4522, 'mayhem': 4523, 'astound': 4524, 'mermaid': 4525, 'biker': 4526, 'angst': 4527, 'sleepwalk': 4528, 'rome': 4529, 'housewif': 4530, 'renaiss': 4531, 'goof': 4532, 'loi': 4533, '73': 4534, 'dilemma': 4535, 'headach': 4536, 'analyz': 4537, 'injur': 4538, 'fontain': 4539, 'loath': 4540, 'preachi': 4541, 'hepburn': 4542, 'macho': 4543, 'bent': 4544, 'phenomenon': 4545, 'surgeri': 4546, 'claustrophob': 4547, 'slimi': 4548, 'overlong': 4549, 'tripl': 4550, 'filth': 4551, 'camcord': 4552, 'contempt': 4553, 'dish': 4554, 'immatur': 4555, 'idol': 4556, 'scorses': 4557, 'oldest': 4558, 'redund': 4559, 'steer': 4560, 'stair': 4561, 'intric': 4562, 'ebert': 4563, 'fluff': 4564, 'glorifi': 4565, 'zoom': 4566, 'hokey': 4567, 'foolish': 4568, 'hostag': 4569, 'spade': 4570, 'ariel': 4571, 'hooker': 4572, 'dismal': 4573, 'guin': 4574, 'whore': 4575, 'amor': 4576, 'gere': 4577, 'cassavet': 4578, 'salt': 4579, 'stimul': 4580, 'boston': 4581, 'corbett': 4582, 'sox': 4583, 'flirt': 4584, 'cohen': 4585, 'flashi': 4586, 'rhyme': 4587, 'harold': 4588, 'transplant': 4589, 'conquer': 4590, 'faint': 4591, '1976': 4592, 'shred': 4593, 'fascist': 4594, 'keen': 4595, '1981': 4596, 'zane': 4597, 'radiat': 4598, 'nolt': 4599, 'gasp': 4600, 'flag': 4601, 'assert': 4602, 'spree': 4603, 'gabl': 4604, 'remad': 4605, 'margin': 4606, 'cow': 4607, 'corman': 4608, 'frantic': 4609, 'widescreen': 4610, 'obligatori': 4611, 'spinal': 4612, 'strongest': 4613, 'alvin': 4614, 'antagonist': 4615, 'trivia': 4616, 'preced': 4617, 'down': 4618, 'messi': 4619, 'perman': 4620, 'naschi': 4621, 'mount': 4622, 'cush': 4623, 'proport': 4624, 'beard': 4625, 'mutual': 4626, 'schlock': 4627, 'dwarf': 4628, 'shield': 4629, 'astronaut': 4630, 'muscl': 4631, 'joker': 4632, 'persuad': 4633, '28': 4634, '95': 4635, 'someday': 4636, 'repris': 4637, 'barn': 4638, 'bachelor': 4639, 'raj': 4640, 'interestingli': 4641, 'boob': 4642, 'inflict': 4643, 'fishburn': 4644, 'resum': 4645, 'info': 4646, 'ritchi': 4647, 'departur': 4648, 'deer': 4649, 'sensual': 4650, 'www': 4651, 'bitten': 4652, 'wield': 4653, 'divin': 4654, '1945': 4655, 'mobil': 4656, 'archiv': 4657, 'neurot': 4658, 'strive': 4659, 'mol': 4660, 'vaniti': 4661, 'off': 4662, 'danish': 4663, 'discern': 4664, 'scandal': 4665, 'triangl': 4666, 'hara': 4667, 'instruct': 4668, 'carey': 4669, 'brush': 4670, 'claud': 4671, 'flock': 4672, 'aborigin': 4673, 'ish': 4674, 'proclaim': 4675, 'colin': 4676, 'fragil': 4677, 'kathryn': 4678, 'pacif': 4679, 'miracul': 4680, 'dim': 4681, 'neill': 4682, 'artwork': 4683, 'pixar': 4684, 'biblic': 4685, 'mobster': 4686, 'clad': 4687, 'submit': 4688, 'loretta': 4689, 'dame': 4690, 'luka': 4691, 'senior': 4692, 'rot': 4693, 'cliffhang': 4694, 'hug': 4695, 'cb': 4696, 'cycl': 4697, 'hilar': 4698, 'helm': 4699, 'harrison': 4700, 'dylan': 4701, 'melissa': 4702, 'hapless': 4703, 'jade': 4704, 'prophet': 4705, 'casino': 4706, 'traffic': 4707, 'earnest': 4708, 'heartwarm': 4709, 'recit': 4710, 'frontier': 4711, 'axe': 4712, 'timberlak': 4713, 'undermin': 4714, 'vibrant': 4715, 'anton': 4716, 'bate': 4717, 'cher': 4718, 'banter': 4719, 'carlo': 4720, 'parson': 4721, 'pickford': 4722, 'wendigo': 4723, 'europa': 4724, 'foil': 4725, 'seedi': 4726, 'antholog': 4727, 'aris': 4728, 'marlon': 4729, 'token': 4730, 'milo': 4731, 'orphan': 4732, 'akin': 4733, 'jo': 4734, 'vanessa': 4735, 'articl': 4736, 'nope': 4737, 'redneck': 4738, 'blatantli': 4739, 'lui': 4740, 'eli': 4741, 'choke': 4742, 'toronto': 4743, 'estrang': 4744, 'flavor': 4745, 'http': 4746, 'northern': 4747, 'alexandr': 4748, 'lucil': 4749, 'cerebr': 4750, 'bondag': 4751, 'rooki': 4752, 'pc': 4753, 'holocaust': 4754, 'misfortun': 4755, 'mason': 4756, 'legitim': 4757, 'illus': 4758, 'mathieu': 4759, 'sicken': 4760, 'feast': 4761, 'static': 4762, 'breakfast': 4763, 'trier': 4764, 'wardrob': 4765, 'shepherd': 4766, 'electron': 4767, 'winchest': 4768, 'razor': 4769, 'vile': 4770, 'jordan': 4771, 'bikini': 4772, 'venom': 4773, 'uma': 4774, 'isra': 4775, 'charlton': 4776, 'fifth': 4777, 'psych': 4778, 'ceremoni': 4779, 'swept': 4780, 'shorter': 4781, 'feminin': 4782, 'linear': 4783, 'glare': 4784, 'smack': 4785, 'nightclub': 4786, 'tack': 4787, 'wrestler': 4788, 'ideolog': 4789, 'deem': 4790, 'peer': 4791, 'turd': 4792, 'dudley': 4793, 'oppon': 4794, 'cartoonish': 4795, 'outdat': 4796, 'boyer': 4797, 'huston': 4798, 'audrey': 4799, 'leather': 4800, 'retriev': 4801, 'affleck': 4802, 'howl': 4803, 'disregard': 4804, 'abund': 4805, 'clinic': 4806, 'knightley': 4807, 'comprehend': 4808, 'highway': 4809, 'frog': 4810, 'styliz': 4811, 'gunga': 4812, 'gilbert': 4813, 'magician': 4814, 'breakdown': 4815, 'btw': 4816, 'sleaz': 4817, 'energet': 4818, 'plate': 4819, 'chip': 4820, 'salman': 4821, 'evolut': 4822, 'newer': 4823, 'uniformli': 4824, 'spawn': 4825, 'moe': 4826, 'potter': 4827, 'greet': 4828, '1991': 4829, 'senat': 4830, 'compris': 4831, 'spine': 4832, 'boo': 4833, 'cemeteri': 4834, 'lavish': 4835, 'corn': 4836, 'whack': 4837, 'monument': 4838, 'mitch': 4839, 'cuban': 4840, 'phenomen': 4841, 'durat': 4842, 'tara': 4843, 'snatch': 4844, 'summar': 4845, 'toe': 4846, 'goldsworthi': 4847, '1994': 4848, 'bogu': 4849, 'conrad': 4850, 'collector': 4851, 'deliver': 4852, 'einstein': 4853, '4th': 4854, 'lighter': 4855, 'lifeless': 4856, 'client': 4857, 'bastard': 4858, 'braveheart': 4859, 'wtf': 4860, 'jedi': 4861, 'gilliam': 4862, 'belli': 4863, 'firmli': 4864, 'appl': 4865, 'bori': 4866, 'eleven': 4867, 'constitut': 4868, 'replay': 4869, 'ie': 4870, 'trauma': 4871, 'outright': 4872, 'mcqueen': 4873, 'undead': 4874, 'undertak': 4875, 'judd': 4876, 'randolph': 4877, 'fluid': 4878, 'luxuri': 4879, 'ol': 4880, 'historian': 4881, 'kent': 4882, 'creek': 4883, 'neatli': 4884, 'jam': 4885, 'healthi': 4886, 'nina': 4887, 'jule': 4888, 'inaccuraci': 4889, 'alleg': 4890, 'spectacl': 4891, 'signal': 4892, 'clara': 4893, '1974': 4894, 'occup': 4895, 'capot': 4896, 'cecil': 4897, 'sorrow': 4898, 'bulk': 4899, '1977': 4900, 'embark': 4901, 'kazan': 4902, 'pronounc': 4903, 'jare': 4904, 'lex': 4905, 'liu': 4906, 'evelyn': 4907, 'armstrong': 4908, 'relentless': 4909, 'palm': 4910, 'inaccur': 4911, 'porter': 4912, 'roar': 4913, 'tokyo': 4914, 'inclus': 4915, 'unattract': 4916, 'genet': 4917, 'carmen': 4918, 'meal': 4919, 'paula': 4920, 'mum': 4921, 'vain': 4922, 'forgiven': 4923, 'kiddi': 4924, 'curtain': 4925, 'blur': 4926, 'knee': 4927, 'unsuspect': 4928, 'sidewalk': 4929, 'lauren': 4930, 'propheci': 4931, 'groan': 4932, 'miami': 4933, 'antonio': 4934, 'comprehens': 4935, 'pepper': 4936, 'pioneer': 4937, 'conan': 4938, 'walt': 4939, 'aussi': 4940, 'ash': 4941, 'decapit': 4942, 'spray': 4943, 'congratul': 4944, 'truman': 4945, 'fruit': 4946, 'cape': 4947, 'miniseri': 4948, 'subtli': 4949, 'poker': 4950, 'abound': 4951, 'sacrif': 4952, 'id': 4953, 'galaxi': 4954, 'lanc': 4955, 'vignett': 4956, '1985': 4957, 'rosario': 4958, 'bait': 4959, 'comb': 4960, 'basket': 4961, 'goldblum': 4962, 'bsg': 4963, 'sophi': 4964, 'jill': 4965, 'reincarn': 4966, 'ingrid': 4967, 'vastli': 4968, 'hostil': 4969, 'verg': 4970, 'turtl': 4971, 'macabr': 4972, 'weari': 4973, 'evan': 4974, 'motorcycl': 4975, '21st': 4976, 'weaker': 4977, 'spill': 4978, 'modest': 4979, 'epitom': 4980, 'growth': 4981, 'asset': 4982, 'substanti': 4983, 'optimist': 4984, 'handicap': 4985, 'detach': 4986, 'scarfac': 4987, 'bach': 4988, 'assort': 4989, 'scariest': 4990, 'monti': 4991, 'incorrect': 4992, 'sparkl': 4993, 'bravo': 4994, 'playboy': 4995, 'frontal': 4996, 'drone': 4997, 'hackman': 4998, 'orchestr': 4999}\n"
     ]
    }
   ],
   "source": [
    "# TODO: Use this space to determine the five most frequently appearing words in the training set.\n",
    "print(dict(list(word_dict.items())[0: ]))"
   ]
  },
  {
   "cell_type": "markdown",
   "metadata": {},
   "source": [
    "### Save `word_dict`\n",
    "\n",
    "Later on when we construct an endpoint which processes a submitted review we will need to make use of the `word_dict` which we have created. As such, we will save it to a file now for future use."
   ]
  },
  {
   "cell_type": "code",
   "execution_count": 13,
   "metadata": {},
   "outputs": [],
   "source": [
    "import os\n",
    "import pickle\n",
    "\n",
    "data_dir = '../data/pytorch' # The folder we will use for storing data\n",
    "if not os.path.exists(data_dir): # Make sure that the folder exists\n",
    "    os.makedirs(data_dir)"
   ]
  },
  {
   "cell_type": "code",
   "execution_count": 14,
   "metadata": {},
   "outputs": [],
   "source": [
    "with open(os.path.join(data_dir, 'word_dict.pkl'), \"wb\") as f:\n",
    "    pickle.dump(word_dict, f)"
   ]
  },
  {
   "cell_type": "markdown",
   "metadata": {},
   "source": [
    "### Transform the reviews\n",
    "\n",
    "Now that we have our word dictionary which allows us to transform the words appearing in the reviews into integers, it is time to make use of it and convert our reviews to their integer sequence representation, making sure to pad or truncate to a fixed length, which in our case is `500`."
   ]
  },
  {
   "cell_type": "code",
   "execution_count": 15,
   "metadata": {},
   "outputs": [],
   "source": [
    "def convert_and_pad(word_dict, sentence, pad=500):\n",
    "    NOWORD = 0 # We will use 0 to represent the 'no word' category\n",
    "    INFREQ = 1 # and we use 1 to represent the infrequent words, i.e., words not appearing in word_dict\n",
    "    \n",
    "    working_sentence = [NOWORD] * pad\n",
    "    \n",
    "    for word_index, word in enumerate(sentence[:pad]):\n",
    "        if word in word_dict:\n",
    "            working_sentence[word_index] = word_dict[word]\n",
    "        else:\n",
    "            working_sentence[word_index] = INFREQ\n",
    "            \n",
    "    return working_sentence, min(len(sentence), pad)\n",
    "\n",
    "def convert_and_pad_data(word_dict, data, pad=500):\n",
    "    result = []\n",
    "    lengths = []\n",
    "    \n",
    "    for sentence in data:\n",
    "        converted, leng = convert_and_pad(word_dict, sentence, pad)\n",
    "        result.append(converted)\n",
    "        lengths.append(leng)\n",
    "        \n",
    "    return np.array(result), np.array(lengths)"
   ]
  },
  {
   "cell_type": "code",
   "execution_count": 16,
   "metadata": {},
   "outputs": [],
   "source": [
    "train_X, train_X_len = convert_and_pad_data(word_dict, train_X)\n",
    "test_X, test_X_len = convert_and_pad_data(word_dict, test_X)"
   ]
  },
  {
   "cell_type": "markdown",
   "metadata": {},
   "source": [
    "As a quick check to make sure that things are working as intended, check to see what one of the reviews in the training set looks like after having been processeed. Does this look reasonable? What is the length of a review in the training set?"
   ]
  },
  {
   "cell_type": "code",
   "execution_count": 17,
   "metadata": {},
   "outputs": [
    {
     "data": {
      "text/plain": [
       "array([2032, 1823,  322, 2473, 1041,    3, 1180,   26,  791,  909,  284,\n",
       "        128,  882,  727,  475,   23, 1038,  189, 2599,  469,  149,  249,\n",
       "       1225, 1769,  516,  371, 1702,   61,   31,    1,  463, 3965,   75,\n",
       "          1,    1,    1, 1032,  124,  616, 1485, 1108, 1389, 1263,  524,\n",
       "        107,  965,  183,  308,    1,    1, 1038,  898,  559, 2316, 2884,\n",
       "        582,  110,   10,    4,  126, 2680,  305,  251,  222,  481,   15,\n",
       "         88,  484, 1892,  151,  343,  588,  261,   13, 3199, 2387, 4727,\n",
       "        426,  331,  647,  813,   39, 1880,  295,  153,  129, 1872,   74,\n",
       "       1176, 1195,  267, 2424,   13,  535, 2793,  163,  881, 2315,  373,\n",
       "        965,  851,  328,  317,   62,  965,   90,    1,   52,  200, 2277,\n",
       "       4590,   92,  114,  743,   12,  469,   95,    1,  522,  136,  588,\n",
       "          1,  676, 3421,  763,  942,    1, 3297, 1986, 4507,   51,   22,\n",
       "        420, 1204,    1, 1059,   29,    1, 3489,    1,    1,   89,   54,\n",
       "       1018,   97,    1, 1178,   27,  592, 1052, 1077,  632, 1586, 3298,\n",
       "          1,   74,   21, 2938,   50, 1872,  127,  462,  126, 2266,  162,\n",
       "         21, 3313,  441,    1,  442,  419,  511,    1,  715,   61,  691,\n",
       "         40,  481,  284,   29,  137,   61,  145, 2199,    5,  737,   48,\n",
       "          1,   95,  259,   61, 1084,   42,  217,    9,   60,    1,    1,\n",
       "       4676, 3668,   40,  420,  306, 2389, 1943,   62,    1,   74,    1,\n",
       "          9,  509, 3668, 2412, 1225,    1, 1175, 1587,  459,    9,    1,\n",
       "         27,  178, 1037,    9,  626,    1,    1,   65,   96,  815,    1,\n",
       "       1717, 2274,    1,    9, 4215,    1,  330,   15,  300,  944, 3668,\n",
       "         58,   74,   19, 1068,  667,  818,   39,  359,   54,   61, 4677,\n",
       "         92, 1502,   44,   72,    1, 1834, 1465,   29, 1066,  205,   62,\n",
       "       1022,   12,   42,  166,  113,  420,  156, 1118,    5,    1,    1,\n",
       "        129, 2340,  151,   71, 1175,   62,  773,  372,  887,  488,  791,\n",
       "         69,  125,    7,   43,  224,   95, 2536,  770,  451, 1426,    0,\n",
       "          0,    0,    0,    0,    0,    0,    0,    0,    0,    0,    0,\n",
       "          0,    0,    0,    0,    0,    0,    0,    0,    0,    0,    0,\n",
       "          0,    0,    0,    0,    0,    0,    0,    0,    0,    0,    0,\n",
       "          0,    0,    0,    0,    0,    0,    0,    0,    0,    0,    0,\n",
       "          0,    0,    0,    0,    0,    0,    0,    0,    0,    0,    0,\n",
       "          0,    0,    0,    0,    0,    0,    0,    0,    0,    0,    0,\n",
       "          0,    0,    0,    0,    0,    0,    0,    0,    0,    0,    0,\n",
       "          0,    0,    0,    0,    0,    0,    0,    0,    0,    0,    0,\n",
       "          0,    0,    0,    0,    0,    0,    0,    0,    0,    0,    0,\n",
       "          0,    0,    0,    0,    0,    0,    0,    0,    0,    0,    0,\n",
       "          0,    0,    0,    0,    0,    0,    0,    0,    0,    0,    0,\n",
       "          0,    0,    0,    0,    0,    0,    0,    0,    0,    0,    0,\n",
       "          0,    0,    0,    0,    0,    0,    0,    0,    0,    0,    0,\n",
       "          0,    0,    0,    0,    0,    0,    0,    0,    0,    0,    0,\n",
       "          0,    0,    0,    0,    0,    0,    0,    0,    0,    0,    0,\n",
       "          0,    0,    0,    0,    0,    0,    0,    0,    0,    0,    0,\n",
       "          0,    0,    0,    0,    0,    0,    0,    0,    0,    0,    0,\n",
       "          0,    0,    0,    0,    0,    0,    0,    0,    0,    0,    0,\n",
       "          0,    0,    0,    0,    0])"
      ]
     },
     "execution_count": 17,
     "metadata": {},
     "output_type": "execute_result"
    }
   ],
   "source": [
    "# Use this cell to examine one of the processed reviews to make sure everything is working as intended.\n",
    "train_X[25]"
   ]
  },
  {
   "cell_type": "markdown",
   "metadata": {},
   "source": [
    "**Question:** In the cells above we use the `preprocess_data` and `convert_and_pad_data` methods to process both the training and testing set. Why or why not might this be a problem?"
   ]
  },
  {
   "cell_type": "markdown",
   "metadata": {},
   "source": [
    "**Answer:**"
   ]
  },
  {
   "cell_type": "markdown",
   "metadata": {},
   "source": [
    "## Step 3: Upload the data to S3\n",
    "\n",
    "As in the XGBoost notebook, we will need to upload the training dataset to S3 in order for our training code to access it. For now we will save it locally and we will upload to S3 later on.\n",
    "\n",
    "### Save the processed training dataset locally\n",
    "\n",
    "It is important to note the format of the data that we are saving as we will need to know it when we write the training code. In our case, each row of the dataset has the form `label`, `length`, `review[500]` where `review[500]` is a sequence of `500` integers representing the words in the review."
   ]
  },
  {
   "cell_type": "code",
   "execution_count": 18,
   "metadata": {},
   "outputs": [],
   "source": [
    "import pandas as pd\n",
    "    \n",
    "pd.concat([pd.DataFrame(train_y), pd.DataFrame(train_X_len), pd.DataFrame(train_X)], axis=1) \\\n",
    "        .to_csv(os.path.join(data_dir, 'train.csv'), header=False, index=False)"
   ]
  },
  {
   "cell_type": "markdown",
   "metadata": {},
   "source": [
    "### Uploading the training data\n",
    "\n",
    "\n",
    "Next, we need to upload the training data to the SageMaker default S3 bucket so that we can provide access to it while training our model."
   ]
  },
  {
   "cell_type": "code",
   "execution_count": 19,
   "metadata": {},
   "outputs": [],
   "source": [
    "import sagemaker\n",
    "\n",
    "sagemaker_session = sagemaker.Session()\n",
    "\n",
    "bucket = sagemaker_session.default_bucket()\n",
    "prefix = 'sagemaker/sentiment_rnn'\n",
    "\n",
    "role = sagemaker.get_execution_role()"
   ]
  },
  {
   "cell_type": "code",
   "execution_count": 20,
   "metadata": {},
   "outputs": [],
   "source": [
    "input_data = sagemaker_session.upload_data(path=data_dir, bucket=bucket, key_prefix=prefix)"
   ]
  },
  {
   "cell_type": "markdown",
   "metadata": {},
   "source": [
    "**NOTE:** The cell above uploads the entire contents of our data directory. This includes the `word_dict.pkl` file. This is fortunate as we will need this later on when we create an endpoint that accepts an arbitrary review. For now, we will just take note of the fact that it resides in the data directory (and so also in the S3 training bucket) and that we will need to make sure it gets saved in the model directory."
   ]
  },
  {
   "cell_type": "markdown",
   "metadata": {},
   "source": [
    "## Step 4: Build and Train the PyTorch Model\n",
    "\n",
    "In the XGBoost notebook we discussed what a model is in the SageMaker framework. In particular, a model comprises three objects\n",
    "\n",
    " - Model Artifacts,\n",
    " - Training Code, and\n",
    " - Inference Code,\n",
    " \n",
    "each of which interact with one another. In the XGBoost example we used training and inference code that was provided by Amazon. Here we will still be using containers provided by Amazon with the added benefit of being able to include our own custom code.\n",
    "\n",
    "We will start by implementing our own neural network in PyTorch along with a training script. For the purposes of this project we have provided the necessary model object in the `model.py` file, inside of the `train` folder. You can see the provided implementation by running the cell below."
   ]
  },
  {
   "cell_type": "code",
   "execution_count": 21,
   "metadata": {},
   "outputs": [
    {
     "name": "stdout",
     "output_type": "stream",
     "text": [
      "\u001b[34mimport\u001b[39;49;00m \u001b[04m\u001b[36mtorch.nn\u001b[39;49;00m \u001b[34mas\u001b[39;49;00m \u001b[04m\u001b[36mnn\u001b[39;49;00m\r\n",
      "\r\n",
      "\u001b[34mclass\u001b[39;49;00m \u001b[04m\u001b[32mLSTMClassifier\u001b[39;49;00m(nn.Module):\r\n",
      "    \u001b[33m\"\"\"\u001b[39;49;00m\r\n",
      "\u001b[33m    This is the simple RNN model we will be using to perform Sentiment Analysis.\u001b[39;49;00m\r\n",
      "\u001b[33m    \"\"\"\u001b[39;49;00m\r\n",
      "\r\n",
      "    \u001b[34mdef\u001b[39;49;00m \u001b[32m__init__\u001b[39;49;00m(\u001b[36mself\u001b[39;49;00m, embedding_dim, hidden_dim, vocab_size):\r\n",
      "        \u001b[33m\"\"\"\u001b[39;49;00m\r\n",
      "\u001b[33m        Initialize the model by settingg up the various layers.\u001b[39;49;00m\r\n",
      "\u001b[33m        \"\"\"\u001b[39;49;00m\r\n",
      "        \u001b[36msuper\u001b[39;49;00m(LSTMClassifier, \u001b[36mself\u001b[39;49;00m).\u001b[32m__init__\u001b[39;49;00m()\r\n",
      "\r\n",
      "        \u001b[36mself\u001b[39;49;00m.embedding = nn.Embedding(vocab_size, embedding_dim, padding_idx=\u001b[34m0\u001b[39;49;00m)\r\n",
      "        \u001b[36mself\u001b[39;49;00m.lstm = nn.LSTM(embedding_dim, hidden_dim)\r\n",
      "        \u001b[36mself\u001b[39;49;00m.dense = nn.Linear(in_features=hidden_dim, out_features=\u001b[34m1\u001b[39;49;00m)\r\n",
      "        \u001b[36mself\u001b[39;49;00m.sig = nn.Sigmoid()\r\n",
      "        \r\n",
      "        \u001b[36mself\u001b[39;49;00m.word_dict = \u001b[36mNone\u001b[39;49;00m\r\n",
      "\r\n",
      "    \u001b[34mdef\u001b[39;49;00m \u001b[32mforward\u001b[39;49;00m(\u001b[36mself\u001b[39;49;00m, x):\r\n",
      "        \u001b[33m\"\"\"\u001b[39;49;00m\r\n",
      "\u001b[33m        Perform a forward pass of our model on some input.\u001b[39;49;00m\r\n",
      "\u001b[33m        \"\"\"\u001b[39;49;00m\r\n",
      "        x = x.t()\r\n",
      "        lengths = x[\u001b[34m0\u001b[39;49;00m,:]\r\n",
      "        reviews = x[\u001b[34m1\u001b[39;49;00m:,:]\r\n",
      "        embeds = \u001b[36mself\u001b[39;49;00m.embedding(reviews)\r\n",
      "        lstm_out, _ = \u001b[36mself\u001b[39;49;00m.lstm(embeds)\r\n",
      "        out = \u001b[36mself\u001b[39;49;00m.dense(lstm_out)\r\n",
      "        out = out[lengths - \u001b[34m1\u001b[39;49;00m, \u001b[36mrange\u001b[39;49;00m(\u001b[36mlen\u001b[39;49;00m(lengths))]\r\n",
      "        \u001b[34mreturn\u001b[39;49;00m \u001b[36mself\u001b[39;49;00m.sig(out.squeeze())\r\n"
     ]
    }
   ],
   "source": [
    "!pygmentize train/model.py"
   ]
  },
  {
   "cell_type": "markdown",
   "metadata": {},
   "source": [
    "The important takeaway from the implementation provided is that there are three parameters that we may wish to tweak to improve the performance of our model. These are the embedding dimension, the hidden dimension and the size of the vocabulary. We will likely want to make these parameters configurable in the training script so that if we wish to modify them we do not need to modify the script itself. We will see how to do this later on. To start we will write some of the training code in the notebook so that we can more easily diagnose any issues that arise.\n",
    "\n",
    "First we will load a small portion of the training data set to use as a sample. It would be very time consuming to try and train the model completely in the notebook as we do not have access to a gpu and the compute instance that we are using is not particularly powerful. However, we can work on a small bit of the data to get a feel for how our training script is behaving."
   ]
  },
  {
   "cell_type": "code",
   "execution_count": 22,
   "metadata": {},
   "outputs": [],
   "source": [
    "import torch\n",
    "import torch.utils.data\n",
    "\n",
    "# Read in only the first 250 rows\n",
    "train_sample = pd.read_csv(os.path.join(data_dir, 'train.csv'), header=None, names=None, nrows=250)\n",
    "\n",
    "# Turn the input pandas dataframe into tensors\n",
    "train_sample_y = torch.from_numpy(train_sample[[0]].values).float().squeeze()\n",
    "train_sample_X = torch.from_numpy(train_sample.drop([0], axis=1).values).long()\n",
    "\n",
    "# Build the dataset\n",
    "train_sample_ds = torch.utils.data.TensorDataset(train_sample_X, train_sample_y)\n",
    "# Build the dataloader\n",
    "train_sample_dl = torch.utils.data.DataLoader(train_sample_ds, batch_size=50)"
   ]
  },
  {
   "cell_type": "markdown",
   "metadata": {},
   "source": [
    "### (TODO) Writing the training method\n",
    "\n",
    "Next we need to write the training code itself. This should be very similar to training methods that you have written before to train PyTorch models. We will leave any difficult aspects such as model saving / loading and parameter loading until a little later."
   ]
  },
  {
   "cell_type": "code",
   "execution_count": 23,
   "metadata": {},
   "outputs": [],
   "source": [
    "def train(model, train_loader, epochs, optimizer, loss_fn, device):\n",
    "    for epoch in range(1, epochs + 1):\n",
    "        model.train()\n",
    "        total_loss = 0\n",
    "        for batch in train_loader:         \n",
    "            batch_X, batch_y = batch\n",
    "            \n",
    "            batch_X = batch_X.to(device)\n",
    "            batch_y = batch_y.to(device)\n",
    "            \n",
    "            # TODO: Complete this train method to train the model provided.\n",
    "            optimizer.zero_grad()\n",
    "            output = model(batch_X)\n",
    "            loss = loss_fn(output, batch_y)\n",
    "            loss.backward()\n",
    "            optimizer.step()\n",
    "            \n",
    "            total_loss += loss.data.item()\n",
    "        print(\"Epoch: {}, BCELoss: {}\".format(epoch, total_loss / len(train_loader)))"
   ]
  },
  {
   "cell_type": "markdown",
   "metadata": {},
   "source": [
    "Supposing we have the training method above, we will test that it is working by writing a bit of code in the notebook that executes our training method on the small sample training set that we loaded earlier. The reason for doing this in the notebook is so that we have an opportunity to fix any errors that arise early when they are easier to diagnose."
   ]
  },
  {
   "cell_type": "code",
   "execution_count": 24,
   "metadata": {},
   "outputs": [
    {
     "name": "stdout",
     "output_type": "stream",
     "text": [
      "Epoch: 1, BCELoss: 0.694908881187439\n",
      "Epoch: 2, BCELoss: 0.6859315752983093\n",
      "Epoch: 3, BCELoss: 0.6779794692993164\n",
      "Epoch: 4, BCELoss: 0.6690748929977417\n",
      "Epoch: 5, BCELoss: 0.6579372763633728\n"
     ]
    }
   ],
   "source": [
    "import torch.optim as optim\n",
    "from train.model import LSTMClassifier\n",
    "\n",
    "device = torch.device(\"cuda\" if torch.cuda.is_available() else \"cpu\")\n",
    "model = LSTMClassifier(32, 100, 5000).to(device)\n",
    "optimizer = optim.Adam(model.parameters())\n",
    "loss_fn = torch.nn.BCELoss()\n",
    "\n",
    "train(model, train_sample_dl, 5, optimizer, loss_fn, device)"
   ]
  },
  {
   "cell_type": "markdown",
   "metadata": {},
   "source": [
    "In order to construct a PyTorch model using SageMaker we must provide SageMaker with a training script. We may optionally include a directory which will be copied to the container and from which our training code will be run. When the training container is executed it will check the uploaded directory (if there is one) for a `requirements.txt` file and install any required Python libraries, after which the training script will be run."
   ]
  },
  {
   "cell_type": "markdown",
   "metadata": {},
   "source": [
    "### (TODO) Training the model\n",
    "\n",
    "When a PyTorch model is constructed in SageMaker, an entry point must be specified. This is the Python file which will be executed when the model is trained. Inside of the `train` directory is a file called `train.py` which has been provided and which contains most of the necessary code to train our model. The only thing that is missing is the implementation of the `train()` method which you wrote earlier in this notebook.\n",
    "\n",
    "**TODO**: Copy the `train()` method written above and paste it into the `train/train.py` file where required.\n",
    "\n",
    "The way that SageMaker passes hyperparameters to the training script is by way of arguments. These arguments can then be parsed and used in the training script. To see how this is done take a look at the provided `train/train.py` file."
   ]
  },
  {
   "cell_type": "code",
   "execution_count": 25,
   "metadata": {},
   "outputs": [],
   "source": [
    "from sagemaker.pytorch import PyTorch\n",
    "\n",
    "estimator = PyTorch(entry_point=\"train.py\",\n",
    "                    source_dir=\"train\",\n",
    "                    role=role,\n",
    "                    framework_version='0.4.0',\n",
    "                    train_instance_count=1,\n",
    "                    train_instance_type='ml.p2.xlarge',\n",
    "                    hyperparameters={\n",
    "                        'epochs': 10,\n",
    "                        'hidden_dim': 200,\n",
    "                    })"
   ]
  },
  {
   "cell_type": "code",
   "execution_count": 26,
   "metadata": {},
   "outputs": [
    {
     "name": "stdout",
     "output_type": "stream",
     "text": [
      "2020-05-27 07:03:10 Starting - Starting the training job...\n",
      "2020-05-27 07:03:11 Starting - Launching requested ML instances......\n",
      "2020-05-27 07:04:13 Starting - Preparing the instances for training......\n",
      "2020-05-27 07:05:16 Downloading - Downloading input data...\n",
      "2020-05-27 07:05:53 Training - Downloading the training image..\u001b[34mbash: cannot set terminal process group (-1): Inappropriate ioctl for device\u001b[0m\n",
      "\u001b[34mbash: no job control in this shell\u001b[0m\n",
      "\u001b[34m2020-05-27 07:06:23,403 sagemaker-containers INFO     Imported framework sagemaker_pytorch_container.training\u001b[0m\n",
      "\u001b[34m2020-05-27 07:06:23,428 sagemaker_pytorch_container.training INFO     Block until all host DNS lookups succeed.\u001b[0m\n",
      "\u001b[34m2020-05-27 07:06:26,453 sagemaker_pytorch_container.training INFO     Invoking user training script.\u001b[0m\n",
      "\u001b[34m2020-05-27 07:06:26,704 sagemaker-containers INFO     Module train does not provide a setup.py. \u001b[0m\n",
      "\u001b[34mGenerating setup.py\u001b[0m\n",
      "\u001b[34m2020-05-27 07:06:26,704 sagemaker-containers INFO     Generating setup.cfg\u001b[0m\n",
      "\u001b[34m2020-05-27 07:06:26,705 sagemaker-containers INFO     Generating MANIFEST.in\u001b[0m\n",
      "\u001b[34m2020-05-27 07:06:26,705 sagemaker-containers INFO     Installing module with the following command:\u001b[0m\n",
      "\u001b[34m/usr/bin/python -m pip install -U . -r requirements.txt\u001b[0m\n",
      "\n",
      "2020-05-27 07:06:22 Training - Training image download completed. Training in progress.\u001b[34mProcessing /opt/ml/code\u001b[0m\n",
      "\u001b[34mCollecting pandas (from -r requirements.txt (line 1))\n",
      "  Downloading https://files.pythonhosted.org/packages/74/24/0cdbf8907e1e3bc5a8da03345c23cbed7044330bb8f73bb12e711a640a00/pandas-0.24.2-cp35-cp35m-manylinux1_x86_64.whl (10.0MB)\u001b[0m\n",
      "\u001b[34mCollecting numpy (from -r requirements.txt (line 2))\u001b[0m\n",
      "\u001b[34m  Downloading https://files.pythonhosted.org/packages/38/92/fa5295d9755c7876cb8490eab866e1780154033fa45978d9cf74ffbd4c68/numpy-1.18.4-cp35-cp35m-manylinux1_x86_64.whl (20.0MB)\u001b[0m\n",
      "\u001b[34mCollecting nltk (from -r requirements.txt (line 3))\u001b[0m\n",
      "\u001b[34m  Downloading https://files.pythonhosted.org/packages/92/75/ce35194d8e3022203cca0d2f896dbb88689f9b3fce8e9f9cff942913519d/nltk-3.5.zip (1.4MB)\u001b[0m\n",
      "\u001b[34mCollecting beautifulsoup4 (from -r requirements.txt (line 4))\n",
      "  Downloading https://files.pythonhosted.org/packages/66/25/ff030e2437265616a1e9b25ccc864e0371a0bc3adb7c5a404fd661c6f4f6/beautifulsoup4-4.9.1-py3-none-any.whl (115kB)\u001b[0m\n",
      "\u001b[34mCollecting html5lib (from -r requirements.txt (line 5))\n",
      "  Downloading https://files.pythonhosted.org/packages/a5/62/bbd2be0e7943ec8504b517e62bab011b4946e1258842bc159e5dfde15b96/html5lib-1.0.1-py2.py3-none-any.whl (117kB)\u001b[0m\n",
      "\u001b[34mRequirement already satisfied, skipping upgrade: python-dateutil>=2.5.0 in /usr/local/lib/python3.5/dist-packages (from pandas->-r requirements.txt (line 1)) (2.7.5)\u001b[0m\n",
      "\u001b[34mCollecting pytz>=2011k (from pandas->-r requirements.txt (line 1))\n",
      "  Downloading https://files.pythonhosted.org/packages/4f/a4/879454d49688e2fad93e59d7d4efda580b783c745fd2ec2a3adf87b0808d/pytz-2020.1-py2.py3-none-any.whl (510kB)\u001b[0m\n",
      "\u001b[34mRequirement already satisfied, skipping upgrade: click in /usr/local/lib/python3.5/dist-packages (from nltk->-r requirements.txt (line 3)) (7.0)\u001b[0m\n",
      "\u001b[34mCollecting joblib (from nltk->-r requirements.txt (line 3))\u001b[0m\n",
      "\u001b[34m  Downloading https://files.pythonhosted.org/packages/28/5c/cf6a2b65a321c4a209efcdf64c2689efae2cb62661f8f6f4bb28547cf1bf/joblib-0.14.1-py2.py3-none-any.whl (294kB)\u001b[0m\n",
      "\u001b[34mCollecting regex (from nltk->-r requirements.txt (line 3))\n",
      "  Downloading https://files.pythonhosted.org/packages/14/8d/d44863d358e9dba3bdfb06099bbbeddbac8fb360773ba73250a849af4b01/regex-2020.5.14.tar.gz (696kB)\u001b[0m\n",
      "\u001b[34mCollecting tqdm (from nltk->-r requirements.txt (line 3))\n",
      "  Downloading https://files.pythonhosted.org/packages/c9/40/058b12e8ba10e35f89c9b1fdfc2d4c7f8c05947df2d5eb3c7b258019fda0/tqdm-4.46.0-py2.py3-none-any.whl (63kB)\u001b[0m\n",
      "\u001b[34mCollecting soupsieve>1.2 (from beautifulsoup4->-r requirements.txt (line 4))\n",
      "  Downloading https://files.pythonhosted.org/packages/6f/8f/457f4a5390eeae1cc3aeab89deb7724c965be841ffca6cfca9197482e470/soupsieve-2.0.1-py3-none-any.whl\u001b[0m\n",
      "\u001b[34mRequirement already satisfied, skipping upgrade: six>=1.9 in /usr/local/lib/python3.5/dist-packages (from html5lib->-r requirements.txt (line 5)) (1.11.0)\u001b[0m\n",
      "\u001b[34mCollecting webencodings (from html5lib->-r requirements.txt (line 5))\n",
      "  Downloading https://files.pythonhosted.org/packages/f4/24/2a3e3df732393fed8b3ebf2ec078f05546de641fe1b667ee316ec1dcf3b7/webencodings-0.5.1-py2.py3-none-any.whl\u001b[0m\n",
      "\u001b[34mBuilding wheels for collected packages: nltk, train, regex\n",
      "  Running setup.py bdist_wheel for nltk: started\u001b[0m\n",
      "\u001b[34m  Running setup.py bdist_wheel for nltk: finished with status 'done'\n",
      "  Stored in directory: /root/.cache/pip/wheels/ae/8c/3f/b1fe0ba04555b08b57ab52ab7f86023639a526d8bc8d384306\n",
      "  Running setup.py bdist_wheel for train: started\n",
      "  Running setup.py bdist_wheel for train: finished with status 'done'\n",
      "  Stored in directory: /tmp/pip-ephem-wheel-cache-qbyv9pj7/wheels/35/24/16/37574d11bf9bde50616c67372a334f94fa8356bc7164af8ca3\n",
      "  Running setup.py bdist_wheel for regex: started\u001b[0m\n",
      "\u001b[34m  Running setup.py bdist_wheel for regex: finished with status 'done'\n",
      "  Stored in directory: /root/.cache/pip/wheels/ee/3a/5c/1f0ce151d6ddeee56e03e933603e21b5b8dcc727989fde82f5\u001b[0m\n",
      "\u001b[34mSuccessfully built nltk train regex\u001b[0m\n",
      "\u001b[34mInstalling collected packages: pytz, numpy, pandas, joblib, regex, tqdm, nltk, soupsieve, beautifulsoup4, webencodings, html5lib, train\n",
      "  Found existing installation: numpy 1.15.4\n",
      "    Uninstalling numpy-1.15.4:\u001b[0m\n",
      "\u001b[34m      Successfully uninstalled numpy-1.15.4\u001b[0m\n",
      "\u001b[34mSuccessfully installed beautifulsoup4-4.9.1 html5lib-1.0.1 joblib-0.14.1 nltk-3.5 numpy-1.18.4 pandas-0.24.2 pytz-2020.1 regex-2020.5.14 soupsieve-2.0.1 tqdm-4.46.0 train-1.0.0 webencodings-0.5.1\u001b[0m\n",
      "\u001b[34mYou are using pip version 18.1, however version 20.2b1 is available.\u001b[0m\n",
      "\u001b[34mYou should consider upgrading via the 'pip install --upgrade pip' command.\u001b[0m\n",
      "\u001b[34m2020-05-27 07:06:49,065 sagemaker-containers INFO     Invoking user script\n",
      "\u001b[0m\n",
      "\u001b[34mTraining Env:\n",
      "\u001b[0m\n",
      "\u001b[34m{\n",
      "    \"module_dir\": \"s3://sagemaker-us-east-2-953698043474/sagemaker-pytorch-2020-05-27-07-03-09-725/source/sourcedir.tar.gz\",\n",
      "    \"user_entry_point\": \"train.py\",\n",
      "    \"additional_framework_parameters\": {},\n",
      "    \"framework_module\": \"sagemaker_pytorch_container.training:main\",\n",
      "    \"channel_input_dirs\": {\n",
      "        \"training\": \"/opt/ml/input/data/training\"\n",
      "    },\n",
      "    \"hosts\": [\n",
      "        \"algo-1\"\n",
      "    ],\n",
      "    \"log_level\": 20,\n",
      "    \"input_config_dir\": \"/opt/ml/input/config\",\n",
      "    \"module_name\": \"train\",\n",
      "    \"output_intermediate_dir\": \"/opt/ml/output/intermediate\",\n",
      "    \"network_interface_name\": \"eth0\",\n",
      "    \"num_cpus\": 4,\n",
      "    \"output_dir\": \"/opt/ml/output\",\n",
      "    \"current_host\": \"algo-1\",\n",
      "    \"resource_config\": {\n",
      "        \"current_host\": \"algo-1\",\n",
      "        \"network_interface_name\": \"eth0\",\n",
      "        \"hosts\": [\n",
      "            \"algo-1\"\n",
      "        ]\n",
      "    },\n",
      "    \"job_name\": \"sagemaker-pytorch-2020-05-27-07-03-09-725\",\n",
      "    \"hyperparameters\": {\n",
      "        \"epochs\": 10,\n",
      "        \"hidden_dim\": 200\n",
      "    },\n",
      "    \"num_gpus\": 1,\n",
      "    \"output_data_dir\": \"/opt/ml/output/data\",\n",
      "    \"model_dir\": \"/opt/ml/model\",\n",
      "    \"input_data_config\": {\n",
      "        \"training\": {\n",
      "            \"RecordWrapperType\": \"None\",\n",
      "            \"S3DistributionType\": \"FullyReplicated\",\n",
      "            \"TrainingInputMode\": \"File\"\n",
      "        }\n",
      "    },\n",
      "    \"input_dir\": \"/opt/ml/input\"\u001b[0m\n",
      "\u001b[34m}\n",
      "\u001b[0m\n",
      "\u001b[34mEnvironment variables:\n",
      "\u001b[0m\n",
      "\u001b[34mSM_LOG_LEVEL=20\u001b[0m\n",
      "\u001b[34mSM_MODEL_DIR=/opt/ml/model\u001b[0m\n",
      "\u001b[34mPYTHONPATH=/usr/local/bin:/usr/lib/python35.zip:/usr/lib/python3.5:/usr/lib/python3.5/plat-x86_64-linux-gnu:/usr/lib/python3.5/lib-dynload:/usr/local/lib/python3.5/dist-packages:/usr/lib/python3/dist-packages\u001b[0m\n",
      "\u001b[34mSM_HP_EPOCHS=10\u001b[0m\n",
      "\u001b[34mSM_INPUT_CONFIG_DIR=/opt/ml/input/config\u001b[0m\n",
      "\u001b[34mSM_NUM_GPUS=1\u001b[0m\n",
      "\u001b[34mSM_NUM_CPUS=4\u001b[0m\n",
      "\u001b[34mSM_OUTPUT_DATA_DIR=/opt/ml/output/data\u001b[0m\n",
      "\u001b[34mSM_USER_ARGS=[\"--epochs\",\"10\",\"--hidden_dim\",\"200\"]\u001b[0m\n",
      "\u001b[34mSM_HPS={\"epochs\":10,\"hidden_dim\":200}\u001b[0m\n",
      "\u001b[34mSM_FRAMEWORK_PARAMS={}\u001b[0m\n",
      "\u001b[34mSM_USER_ENTRY_POINT=train.py\u001b[0m\n",
      "\u001b[34mSM_NETWORK_INTERFACE_NAME=eth0\u001b[0m\n",
      "\u001b[34mSM_OUTPUT_INTERMEDIATE_DIR=/opt/ml/output/intermediate\u001b[0m\n",
      "\u001b[34mSM_INPUT_DIR=/opt/ml/input\u001b[0m\n",
      "\u001b[34mSM_TRAINING_ENV={\"additional_framework_parameters\":{},\"channel_input_dirs\":{\"training\":\"/opt/ml/input/data/training\"},\"current_host\":\"algo-1\",\"framework_module\":\"sagemaker_pytorch_container.training:main\",\"hosts\":[\"algo-1\"],\"hyperparameters\":{\"epochs\":10,\"hidden_dim\":200},\"input_config_dir\":\"/opt/ml/input/config\",\"input_data_config\":{\"training\":{\"RecordWrapperType\":\"None\",\"S3DistributionType\":\"FullyReplicated\",\"TrainingInputMode\":\"File\"}},\"input_dir\":\"/opt/ml/input\",\"job_name\":\"sagemaker-pytorch-2020-05-27-07-03-09-725\",\"log_level\":20,\"model_dir\":\"/opt/ml/model\",\"module_dir\":\"s3://sagemaker-us-east-2-953698043474/sagemaker-pytorch-2020-05-27-07-03-09-725/source/sourcedir.tar.gz\",\"module_name\":\"train\",\"network_interface_name\":\"eth0\",\"num_cpus\":4,\"num_gpus\":1,\"output_data_dir\":\"/opt/ml/output/data\",\"output_dir\":\"/opt/ml/output\",\"output_intermediate_dir\":\"/opt/ml/output/intermediate\",\"resource_config\":{\"current_host\":\"algo-1\",\"hosts\":[\"algo-1\"],\"network_interface_name\":\"eth0\"},\"user_entry_point\":\"train.py\"}\u001b[0m\n",
      "\u001b[34mSM_MODULE_NAME=train\u001b[0m\n",
      "\u001b[34mSM_INPUT_DATA_CONFIG={\"training\":{\"RecordWrapperType\":\"None\",\"S3DistributionType\":\"FullyReplicated\",\"TrainingInputMode\":\"File\"}}\u001b[0m\n",
      "\u001b[34mSM_FRAMEWORK_MODULE=sagemaker_pytorch_container.training:main\u001b[0m\n",
      "\u001b[34mSM_HOSTS=[\"algo-1\"]\u001b[0m\n",
      "\u001b[34mSM_CHANNELS=[\"training\"]\u001b[0m\n",
      "\u001b[34mSM_HP_HIDDEN_DIM=200\u001b[0m\n",
      "\u001b[34mSM_MODULE_DIR=s3://sagemaker-us-east-2-953698043474/sagemaker-pytorch-2020-05-27-07-03-09-725/source/sourcedir.tar.gz\u001b[0m\n",
      "\u001b[34mSM_OUTPUT_DIR=/opt/ml/output\u001b[0m\n",
      "\u001b[34mSM_CURRENT_HOST=algo-1\u001b[0m\n",
      "\u001b[34mSM_CHANNEL_TRAINING=/opt/ml/input/data/training\u001b[0m\n",
      "\u001b[34mSM_RESOURCE_CONFIG={\"current_host\":\"algo-1\",\"hosts\":[\"algo-1\"],\"network_interface_name\":\"eth0\"}\n",
      "\u001b[0m\n",
      "\u001b[34mInvoking script with the following command:\n",
      "\u001b[0m\n",
      "\u001b[34m/usr/bin/python -m train --epochs 10 --hidden_dim 200\n",
      "\n",
      "\u001b[0m\n",
      "\u001b[34mUsing device cuda.\u001b[0m\n",
      "\u001b[34mGet train data loader.\u001b[0m\n"
     ]
    },
    {
     "name": "stdout",
     "output_type": "stream",
     "text": [
      "\u001b[34mModel loaded with embedding_dim 32, hidden_dim 200, vocab_size 5000.\u001b[0m\n",
      "\u001b[34mEpoch: 1, BCELoss: 0.6638613805478933\u001b[0m\n",
      "\u001b[34mEpoch: 2, BCELoss: 0.5759222057400918\u001b[0m\n",
      "\u001b[34mEpoch: 3, BCELoss: 0.5031838757651192\u001b[0m\n",
      "\u001b[34mEpoch: 4, BCELoss: 0.4515110892908914\u001b[0m\n",
      "\u001b[34mEpoch: 5, BCELoss: 0.3978556881145555\u001b[0m\n",
      "\u001b[34mEpoch: 6, BCELoss: 0.3542699448916377\u001b[0m\n",
      "\u001b[34mEpoch: 7, BCELoss: 0.3262021365214367\u001b[0m\n",
      "\u001b[34mEpoch: 8, BCELoss: 0.3229236712261122\u001b[0m\n",
      "\u001b[34mEpoch: 9, BCELoss: 0.3017192011585041\u001b[0m\n",
      "\u001b[34mEpoch: 10, BCELoss: 0.2852462907226718\u001b[0m\n",
      "\u001b[34m2020-05-27 07:09:45,576 sagemaker-containers INFO     Reporting training SUCCESS\u001b[0m\n",
      "\n",
      "2020-05-27 07:09:56 Uploading - Uploading generated training model\n",
      "2020-05-27 07:09:56 Completed - Training job completed\n",
      "Training seconds: 280\n",
      "Billable seconds: 280\n"
     ]
    }
   ],
   "source": [
    "estimator.fit({'training': input_data})"
   ]
  },
  {
   "cell_type": "markdown",
   "metadata": {},
   "source": [
    "## Step 5: Testing the model\n",
    "\n",
    "As mentioned at the top of this notebook, we will be testing this model by first deploying it and then sending the testing data to the deployed endpoint. We will do this so that we can make sure that the deployed model is working correctly.\n",
    "\n",
    "## Step 6: Deploy the model for testing\n",
    "\n",
    "Now that we have trained our model, we would like to test it to see how it performs. Currently our model takes input of the form `review_length, review[500]` where `review[500]` is a sequence of `500` integers which describe the words present in the review, encoded using `word_dict`. Fortunately for us, SageMaker provides built-in inference code for models with simple inputs such as this.\n",
    "\n",
    "There is one thing that we need to provide, however, and that is a function which loads the saved model. This function must be called `model_fn()` and takes as its only parameter a path to the directory where the model artifacts are stored. This function must also be present in the python file which we specified as the entry point. In our case the model loading function has been provided and so no changes need to be made.\n",
    "\n",
    "**NOTE**: When the built-in inference code is run it must import the `model_fn()` method from the `train.py` file. This is why the training code is wrapped in a main guard ( ie, `if __name__ == '__main__':` )\n",
    "\n",
    "Since we don't need to change anything in the code that was uploaded during training, we can simply deploy the current model as-is.\n",
    "\n",
    "**NOTE:** When deploying a model you are asking SageMaker to launch an compute instance that will wait for data to be sent to it. As a result, this compute instance will continue to run until *you* shut it down. This is important to know since the cost of a deployed endpoint depends on how long it has been running for.\n",
    "\n",
    "In other words **If you are no longer using a deployed endpoint, shut it down!**\n",
    "\n",
    "**TODO:** Deploy the trained model."
   ]
  },
  {
   "cell_type": "code",
   "execution_count": 27,
   "metadata": {},
   "outputs": [
    {
     "name": "stdout",
     "output_type": "stream",
     "text": [
      "---------------!"
     ]
    }
   ],
   "source": [
    "# TODO: Deploy the trained model\n",
    "predictor = estimator.deploy(initial_instance_count = 1, instance_type = 'ml.m4.xlarge')"
   ]
  },
  {
   "cell_type": "markdown",
   "metadata": {},
   "source": [
    "## Step 7 - Use the model for testing\n",
    "\n",
    "Once deployed, we can read in the test data and send it off to our deployed model to get some results. Once we collect all of the results we can determine how accurate our model is."
   ]
  },
  {
   "cell_type": "code",
   "execution_count": 28,
   "metadata": {},
   "outputs": [],
   "source": [
    "test_X = pd.concat([pd.DataFrame(test_X_len), pd.DataFrame(test_X)], axis=1)"
   ]
  },
  {
   "cell_type": "code",
   "execution_count": 29,
   "metadata": {},
   "outputs": [],
   "source": [
    "# We split the data into chunks and send each chunk seperately, accumulating the results.\n",
    "\n",
    "def predict(data, rows=512):\n",
    "    split_array = np.array_split(data, int(data.shape[0] / float(rows) + 1))\n",
    "    predictions = np.array([])\n",
    "    for array in split_array:\n",
    "        predictions = np.append(predictions, predictor.predict(array))\n",
    "    \n",
    "    return predictions"
   ]
  },
  {
   "cell_type": "code",
   "execution_count": 30,
   "metadata": {},
   "outputs": [],
   "source": [
    "predictions = predict(test_X.values)\n",
    "predictions = [round(num) for num in predictions]"
   ]
  },
  {
   "cell_type": "code",
   "execution_count": 31,
   "metadata": {},
   "outputs": [
    {
     "data": {
      "text/plain": [
       "0.85188"
      ]
     },
     "execution_count": 31,
     "metadata": {},
     "output_type": "execute_result"
    }
   ],
   "source": [
    "from sklearn.metrics import accuracy_score\n",
    "accuracy_score(test_y, predictions)"
   ]
  },
  {
   "cell_type": "markdown",
   "metadata": {},
   "source": [
    "**Question:** How does this model compare to the XGBoost model you created earlier? Why might these two models perform differently on this dataset? Which do *you* think is better for sentiment analysis?"
   ]
  },
  {
   "cell_type": "markdown",
   "metadata": {},
   "source": [
    "**Answer:**"
   ]
  },
  {
   "cell_type": "markdown",
   "metadata": {},
   "source": [
    "### (TODO) More testing\n",
    "\n",
    "We now have a trained model which has been deployed and which we can send processed reviews to and which returns the predicted sentiment. However, ultimately we would like to be able to send our model an unprocessed review. That is, we would like to send the review itself as a string. For example, suppose we wish to send the following review to our model."
   ]
  },
  {
   "cell_type": "code",
   "execution_count": 32,
   "metadata": {},
   "outputs": [],
   "source": [
    "test_review = 'The simplest pleasures in life are the best, and this film is one of them. Combining a rather basic storyline of love and adventure this movie transcends the usual weekend fair with wit and unmitigated charm.'"
   ]
  },
  {
   "cell_type": "markdown",
   "metadata": {},
   "source": [
    "The question we now need to answer is, how do we send this review to our model?\n",
    "\n",
    "Recall in the first section of this notebook we did a bunch of data processing to the IMDb dataset. In particular, we did two specific things to the provided reviews.\n",
    " - Removed any html tags and stemmed the input\n",
    " - Encoded the review as a sequence of integers using `word_dict`\n",
    " \n",
    "In order process the review we will need to repeat these two steps.\n",
    "\n",
    "**TODO**: Using the `review_to_words` and `convert_and_pad` methods from section one, convert `test_review` into a numpy array `test_data` suitable to send to our model. Remember that our model expects input of the form `review_length, review[500]`."
   ]
  },
  {
   "cell_type": "code",
   "execution_count": 33,
   "metadata": {},
   "outputs": [],
   "source": [
    "# TODO: Convert test_review into a form usable by the model and save the results in test_data\n",
    "#test_data = None\n",
    "clean_test_review = review_to_words(test_review)\n",
    "test_data = [np.array(convert_and_pad(word_dict, clean_test_review)[0])]"
   ]
  },
  {
   "cell_type": "code",
   "execution_count": 34,
   "metadata": {},
   "outputs": [
    {
     "name": "stdout",
     "output_type": "stream",
     "text": [
      "[array([   1, 1376,   50,   53,    3,    4,  878,  173,  392,  682,   29,\n",
      "        723,    2, 4420,  275, 2080, 1061,  760,    1,  582,    0,    0,\n",
      "          0,    0,    0,    0,    0,    0,    0,    0,    0,    0,    0,\n",
      "          0,    0,    0,    0,    0,    0,    0,    0,    0,    0,    0,\n",
      "          0,    0,    0,    0,    0,    0,    0,    0,    0,    0,    0,\n",
      "          0,    0,    0,    0,    0,    0,    0,    0,    0,    0,    0,\n",
      "          0,    0,    0,    0,    0,    0,    0,    0,    0,    0,    0,\n",
      "          0,    0,    0,    0,    0,    0,    0,    0,    0,    0,    0,\n",
      "          0,    0,    0,    0,    0,    0,    0,    0,    0,    0,    0,\n",
      "          0,    0,    0,    0,    0,    0,    0,    0,    0,    0,    0,\n",
      "          0,    0,    0,    0,    0,    0,    0,    0,    0,    0,    0,\n",
      "          0,    0,    0,    0,    0,    0,    0,    0,    0,    0,    0,\n",
      "          0,    0,    0,    0,    0,    0,    0,    0,    0,    0,    0,\n",
      "          0,    0,    0,    0,    0,    0,    0,    0,    0,    0,    0,\n",
      "          0,    0,    0,    0,    0,    0,    0,    0,    0,    0,    0,\n",
      "          0,    0,    0,    0,    0,    0,    0,    0,    0,    0,    0,\n",
      "          0,    0,    0,    0,    0,    0,    0,    0,    0,    0,    0,\n",
      "          0,    0,    0,    0,    0,    0,    0,    0,    0,    0,    0,\n",
      "          0,    0,    0,    0,    0,    0,    0,    0,    0,    0,    0,\n",
      "          0,    0,    0,    0,    0,    0,    0,    0,    0,    0,    0,\n",
      "          0,    0,    0,    0,    0,    0,    0,    0,    0,    0,    0,\n",
      "          0,    0,    0,    0,    0,    0,    0,    0,    0,    0,    0,\n",
      "          0,    0,    0,    0,    0,    0,    0,    0,    0,    0,    0,\n",
      "          0,    0,    0,    0,    0,    0,    0,    0,    0,    0,    0,\n",
      "          0,    0,    0,    0,    0,    0,    0,    0,    0,    0,    0,\n",
      "          0,    0,    0,    0,    0,    0,    0,    0,    0,    0,    0,\n",
      "          0,    0,    0,    0,    0,    0,    0,    0,    0,    0,    0,\n",
      "          0,    0,    0,    0,    0,    0,    0,    0,    0,    0,    0,\n",
      "          0,    0,    0,    0,    0,    0,    0,    0,    0,    0,    0,\n",
      "          0,    0,    0,    0,    0,    0,    0,    0,    0,    0,    0,\n",
      "          0,    0,    0,    0,    0,    0,    0,    0,    0,    0,    0,\n",
      "          0,    0,    0,    0,    0,    0,    0,    0,    0,    0,    0,\n",
      "          0,    0,    0,    0,    0,    0,    0,    0,    0,    0,    0,\n",
      "          0,    0,    0,    0,    0,    0,    0,    0,    0,    0,    0,\n",
      "          0,    0,    0,    0,    0,    0,    0,    0,    0,    0,    0,\n",
      "          0,    0,    0,    0,    0,    0,    0,    0,    0,    0,    0,\n",
      "          0,    0,    0,    0,    0,    0,    0,    0,    0,    0,    0,\n",
      "          0,    0,    0,    0,    0,    0,    0,    0,    0,    0,    0,\n",
      "          0,    0,    0,    0,    0,    0,    0,    0,    0,    0,    0,\n",
      "          0,    0,    0,    0,    0,    0,    0,    0,    0,    0,    0,\n",
      "          0,    0,    0,    0,    0,    0,    0,    0,    0,    0,    0,\n",
      "          0,    0,    0,    0,    0,    0,    0,    0,    0,    0,    0,\n",
      "          0,    0,    0,    0,    0,    0,    0,    0,    0,    0,    0,\n",
      "          0,    0,    0,    0,    0,    0,    0,    0,    0,    0,    0,\n",
      "          0,    0,    0,    0,    0,    0,    0,    0,    0,    0,    0,\n",
      "          0,    0,    0,    0,    0])]\n"
     ]
    }
   ],
   "source": [
    "print(test_data[:1])"
   ]
  },
  {
   "cell_type": "markdown",
   "metadata": {},
   "source": [
    "Now that we have processed the review, we can send the resulting array to our model to predict the sentiment of the review."
   ]
  },
  {
   "cell_type": "code",
   "execution_count": 35,
   "metadata": {},
   "outputs": [
    {
     "data": {
      "text/plain": [
       "array(0.6371069, dtype=float32)"
      ]
     },
     "execution_count": 35,
     "metadata": {},
     "output_type": "execute_result"
    }
   ],
   "source": [
    "predictor.predict(test_data)"
   ]
  },
  {
   "cell_type": "markdown",
   "metadata": {},
   "source": [
    "Since the return value of our model is close to `1`, we can be certain that the review we submitted is positive."
   ]
  },
  {
   "cell_type": "markdown",
   "metadata": {},
   "source": [
    "### Delete the endpoint\n",
    "\n",
    "Of course, just like in the XGBoost notebook, once we've deployed an endpoint it continues to run until we tell it to shut down. Since we are done using our endpoint for now, we can delete it."
   ]
  },
  {
   "cell_type": "code",
   "execution_count": 36,
   "metadata": {},
   "outputs": [],
   "source": [
    "estimator.delete_endpoint()"
   ]
  },
  {
   "cell_type": "markdown",
   "metadata": {},
   "source": [
    "## Step 6 (again) - Deploy the model for the web app\n",
    "\n",
    "Now that we know that our model is working, it's time to create some custom inference code so that we can send the model a review which has not been processed and have it determine the sentiment of the review.\n",
    "\n",
    "As we saw above, by default the estimator which we created, when deployed, will use the entry script and directory which we provided when creating the model. However, since we now wish to accept a string as input and our model expects a processed review, we need to write some custom inference code.\n",
    "\n",
    "We will store the code that we write in the `serve` directory. Provided in this directory is the `model.py` file that we used to construct our model, a `utils.py` file which contains the `review_to_words` and `convert_and_pad` pre-processing functions which we used during the initial data processing, and `predict.py`, the file which will contain our custom inference code. Note also that `requirements.txt` is present which will tell SageMaker what Python libraries are required by our custom inference code.\n",
    "\n",
    "When deploying a PyTorch model in SageMaker, you are expected to provide four functions which the SageMaker inference container will use.\n",
    " - `model_fn`: This function is the same function that we used in the training script and it tells SageMaker how to load our model.\n",
    " - `input_fn`: This function receives the raw serialized input that has been sent to the model's endpoint and its job is to de-serialize and make the input available for the inference code.\n",
    " - `output_fn`: This function takes the output of the inference code and its job is to serialize this output and return it to the caller of the model's endpoint.\n",
    " - `predict_fn`: The heart of the inference script, this is where the actual prediction is done and is the function which you will need to complete.\n",
    "\n",
    "For the simple website that we are constructing during this project, the `input_fn` and `output_fn` methods are relatively straightforward. We only require being able to accept a string as input and we expect to return a single value as output. You might imagine though that in a more complex application the input or output may be image data or some other binary data which would require some effort to serialize.\n",
    "\n",
    "### (TODO) Writing inference code\n",
    "\n",
    "Before writing our custom inference code, we will begin by taking a look at the code which has been provided."
   ]
  },
  {
   "cell_type": "code",
   "execution_count": 37,
   "metadata": {},
   "outputs": [
    {
     "name": "stdout",
     "output_type": "stream",
     "text": [
      "\u001b[34mimport\u001b[39;49;00m \u001b[04m\u001b[36margparse\u001b[39;49;00m\r\n",
      "\u001b[34mimport\u001b[39;49;00m \u001b[04m\u001b[36mjson\u001b[39;49;00m\r\n",
      "\u001b[34mimport\u001b[39;49;00m \u001b[04m\u001b[36mos\u001b[39;49;00m\r\n",
      "\u001b[34mimport\u001b[39;49;00m \u001b[04m\u001b[36mpickle\u001b[39;49;00m\r\n",
      "\u001b[34mimport\u001b[39;49;00m \u001b[04m\u001b[36msys\u001b[39;49;00m\r\n",
      "\u001b[34mimport\u001b[39;49;00m \u001b[04m\u001b[36msagemaker_containers\u001b[39;49;00m\r\n",
      "\u001b[34mimport\u001b[39;49;00m \u001b[04m\u001b[36mpandas\u001b[39;49;00m \u001b[34mas\u001b[39;49;00m \u001b[04m\u001b[36mpd\u001b[39;49;00m\r\n",
      "\u001b[34mimport\u001b[39;49;00m \u001b[04m\u001b[36mnumpy\u001b[39;49;00m \u001b[34mas\u001b[39;49;00m \u001b[04m\u001b[36mnp\u001b[39;49;00m\r\n",
      "\u001b[34mimport\u001b[39;49;00m \u001b[04m\u001b[36mtorch\u001b[39;49;00m\r\n",
      "\u001b[34mimport\u001b[39;49;00m \u001b[04m\u001b[36mtorch.nn\u001b[39;49;00m \u001b[34mas\u001b[39;49;00m \u001b[04m\u001b[36mnn\u001b[39;49;00m\r\n",
      "\u001b[34mimport\u001b[39;49;00m \u001b[04m\u001b[36mtorch.optim\u001b[39;49;00m \u001b[34mas\u001b[39;49;00m \u001b[04m\u001b[36moptim\u001b[39;49;00m\r\n",
      "\u001b[34mimport\u001b[39;49;00m \u001b[04m\u001b[36mtorch.utils.data\u001b[39;49;00m\r\n",
      "\r\n",
      "\u001b[34mfrom\u001b[39;49;00m \u001b[04m\u001b[36mmodel\u001b[39;49;00m \u001b[34mimport\u001b[39;49;00m LSTMClassifier\r\n",
      "\r\n",
      "\u001b[34mfrom\u001b[39;49;00m \u001b[04m\u001b[36mutils\u001b[39;49;00m \u001b[34mimport\u001b[39;49;00m review_to_words, convert_and_pad\r\n",
      "\r\n",
      "\u001b[34mdef\u001b[39;49;00m \u001b[32mmodel_fn\u001b[39;49;00m(model_dir):\r\n",
      "    \u001b[33m\"\"\"Load the PyTorch model from the `model_dir` directory.\"\"\"\u001b[39;49;00m\r\n",
      "    \u001b[34mprint\u001b[39;49;00m(\u001b[33m\"\u001b[39;49;00m\u001b[33mLoading model.\u001b[39;49;00m\u001b[33m\"\u001b[39;49;00m)\r\n",
      "\r\n",
      "    \u001b[37m# First, load the parameters used to create the model.\u001b[39;49;00m\r\n",
      "    model_info = {}\r\n",
      "    model_info_path = os.path.join(model_dir, \u001b[33m'\u001b[39;49;00m\u001b[33mmodel_info.pth\u001b[39;49;00m\u001b[33m'\u001b[39;49;00m)\r\n",
      "    \u001b[34mwith\u001b[39;49;00m \u001b[36mopen\u001b[39;49;00m(model_info_path, \u001b[33m'\u001b[39;49;00m\u001b[33mrb\u001b[39;49;00m\u001b[33m'\u001b[39;49;00m) \u001b[34mas\u001b[39;49;00m f:\r\n",
      "        model_info = torch.load(f)\r\n",
      "\r\n",
      "    \u001b[34mprint\u001b[39;49;00m(\u001b[33m\"\u001b[39;49;00m\u001b[33mmodel_info: {}\u001b[39;49;00m\u001b[33m\"\u001b[39;49;00m.format(model_info))\r\n",
      "\r\n",
      "    \u001b[37m# Determine the device and construct the model.\u001b[39;49;00m\r\n",
      "    device = torch.device(\u001b[33m\"\u001b[39;49;00m\u001b[33mcuda\u001b[39;49;00m\u001b[33m\"\u001b[39;49;00m \u001b[34mif\u001b[39;49;00m torch.cuda.is_available() \u001b[34melse\u001b[39;49;00m \u001b[33m\"\u001b[39;49;00m\u001b[33mcpu\u001b[39;49;00m\u001b[33m\"\u001b[39;49;00m)\r\n",
      "    model = LSTMClassifier(model_info[\u001b[33m'\u001b[39;49;00m\u001b[33membedding_dim\u001b[39;49;00m\u001b[33m'\u001b[39;49;00m], model_info[\u001b[33m'\u001b[39;49;00m\u001b[33mhidden_dim\u001b[39;49;00m\u001b[33m'\u001b[39;49;00m], model_info[\u001b[33m'\u001b[39;49;00m\u001b[33mvocab_size\u001b[39;49;00m\u001b[33m'\u001b[39;49;00m])\r\n",
      "\r\n",
      "    \u001b[37m# Load the store model parameters.\u001b[39;49;00m\r\n",
      "    model_path = os.path.join(model_dir, \u001b[33m'\u001b[39;49;00m\u001b[33mmodel.pth\u001b[39;49;00m\u001b[33m'\u001b[39;49;00m)\r\n",
      "    \u001b[34mwith\u001b[39;49;00m \u001b[36mopen\u001b[39;49;00m(model_path, \u001b[33m'\u001b[39;49;00m\u001b[33mrb\u001b[39;49;00m\u001b[33m'\u001b[39;49;00m) \u001b[34mas\u001b[39;49;00m f:\r\n",
      "        model.load_state_dict(torch.load(f))\r\n",
      "\r\n",
      "    \u001b[37m# Load the saved word_dict.\u001b[39;49;00m\r\n",
      "    word_dict_path = os.path.join(model_dir, \u001b[33m'\u001b[39;49;00m\u001b[33mword_dict.pkl\u001b[39;49;00m\u001b[33m'\u001b[39;49;00m)\r\n",
      "    \u001b[34mwith\u001b[39;49;00m \u001b[36mopen\u001b[39;49;00m(word_dict_path, \u001b[33m'\u001b[39;49;00m\u001b[33mrb\u001b[39;49;00m\u001b[33m'\u001b[39;49;00m) \u001b[34mas\u001b[39;49;00m f:\r\n",
      "        model.word_dict = pickle.load(f)\r\n",
      "\r\n",
      "    model.to(device).eval()\r\n",
      "\r\n",
      "    \u001b[34mprint\u001b[39;49;00m(\u001b[33m\"\u001b[39;49;00m\u001b[33mDone loading model.\u001b[39;49;00m\u001b[33m\"\u001b[39;49;00m)\r\n",
      "    \u001b[34mreturn\u001b[39;49;00m model\r\n",
      "\r\n",
      "\u001b[34mdef\u001b[39;49;00m \u001b[32minput_fn\u001b[39;49;00m(serialized_input_data, content_type):\r\n",
      "    \u001b[34mprint\u001b[39;49;00m(\u001b[33m'\u001b[39;49;00m\u001b[33mDeserializing the input data.\u001b[39;49;00m\u001b[33m'\u001b[39;49;00m)\r\n",
      "    \u001b[34mif\u001b[39;49;00m content_type == \u001b[33m'\u001b[39;49;00m\u001b[33mtext/plain\u001b[39;49;00m\u001b[33m'\u001b[39;49;00m:\r\n",
      "        data = serialized_input_data.decode(\u001b[33m'\u001b[39;49;00m\u001b[33mutf-8\u001b[39;49;00m\u001b[33m'\u001b[39;49;00m)\r\n",
      "        \u001b[34mreturn\u001b[39;49;00m data\r\n",
      "    \u001b[34mraise\u001b[39;49;00m \u001b[36mException\u001b[39;49;00m(\u001b[33m'\u001b[39;49;00m\u001b[33mRequested unsupported ContentType in content_type: \u001b[39;49;00m\u001b[33m'\u001b[39;49;00m + content_type)\r\n",
      "\r\n",
      "\u001b[34mdef\u001b[39;49;00m \u001b[32moutput_fn\u001b[39;49;00m(prediction_output, accept):\r\n",
      "    \u001b[34mprint\u001b[39;49;00m(\u001b[33m'\u001b[39;49;00m\u001b[33mSerializing the generated output.\u001b[39;49;00m\u001b[33m'\u001b[39;49;00m)\r\n",
      "    \u001b[34mreturn\u001b[39;49;00m \u001b[36mstr\u001b[39;49;00m(prediction_output)\r\n",
      "\r\n",
      "\u001b[34mdef\u001b[39;49;00m \u001b[32mpredict_fn\u001b[39;49;00m(input_data, model):\r\n",
      "    \u001b[34mprint\u001b[39;49;00m(\u001b[33m'\u001b[39;49;00m\u001b[33mInferring sentiment of input data.\u001b[39;49;00m\u001b[33m'\u001b[39;49;00m)\r\n",
      "\r\n",
      "    device = torch.device(\u001b[33m\"\u001b[39;49;00m\u001b[33mcuda\u001b[39;49;00m\u001b[33m\"\u001b[39;49;00m \u001b[34mif\u001b[39;49;00m torch.cuda.is_available() \u001b[34melse\u001b[39;49;00m \u001b[33m\"\u001b[39;49;00m\u001b[33mcpu\u001b[39;49;00m\u001b[33m\"\u001b[39;49;00m)\r\n",
      "    \r\n",
      "    \u001b[34mif\u001b[39;49;00m model.word_dict \u001b[35mis\u001b[39;49;00m \u001b[36mNone\u001b[39;49;00m:\r\n",
      "        \u001b[34mraise\u001b[39;49;00m \u001b[36mException\u001b[39;49;00m(\u001b[33m'\u001b[39;49;00m\u001b[33mModel has not been loaded properly, no word_dict.\u001b[39;49;00m\u001b[33m'\u001b[39;49;00m)\r\n",
      "    \r\n",
      "    \u001b[37m# TODO: Process input_data so that it is ready to be sent to our model.\u001b[39;49;00m\r\n",
      "    \u001b[37m#       You should produce two variables:\u001b[39;49;00m\r\n",
      "    \u001b[37m#         data_X   - A sequence of length 500 which represents the converted review\u001b[39;49;00m\r\n",
      "    \u001b[37m#         data_len - The length of the review\u001b[39;49;00m\r\n",
      "    clean_data = review_to_words(input_data)\r\n",
      "    \u001b[37m#test_data = convert_and_pad(word_dict, clean_data)\u001b[39;49;00m\r\n",
      "\r\n",
      "    data_X, data_len = convert_and_pad(model.word_dict, clean_data) \u001b[37m##convert and pad function returns these two values\u001b[39;49;00m\r\n",
      "    \u001b[37m#data_len = None\u001b[39;49;00m\r\n",
      "\r\n",
      "    \u001b[37m# Using data_X and data_len we construct an appropriate input tensor. Remember\u001b[39;49;00m\r\n",
      "    \u001b[37m# that our model expects input data of the form 'len, review[500]'.\u001b[39;49;00m\r\n",
      "    data_pack = np.hstack((data_len, data_X))\r\n",
      "    data_pack = data_pack.reshape(\u001b[34m1\u001b[39;49;00m, -\u001b[34m1\u001b[39;49;00m)\r\n",
      "    \r\n",
      "    data = torch.from_numpy(data_pack)\r\n",
      "    data = data.to(device)\r\n",
      "\r\n",
      "    \u001b[37m# Make sure to put the model into evaluation mode\u001b[39;49;00m\r\n",
      "    model.eval()\r\n",
      "\r\n",
      "    \u001b[37m# TODO: Compute the result of applying the model to the input data. The variable `result` should\u001b[39;49;00m\r\n",
      "    \u001b[37m#       be a numpy array which contains a single integer which is either 1 or 0\u001b[39;49;00m\r\n",
      "\r\n",
      "    pred = model.forward(data)\r\n",
      "    result = np.round(out.numpy())\r\n",
      "\r\n",
      "    \u001b[34mreturn\u001b[39;49;00m result\r\n"
     ]
    }
   ],
   "source": [
    "!pygmentize serve/predict.py"
   ]
  },
  {
   "cell_type": "markdown",
   "metadata": {},
   "source": [
    "As mentioned earlier, the `model_fn` method is the same as the one provided in the training code and the `input_fn` and `output_fn` methods are very simple and your task will be to complete the `predict_fn` method. Make sure that you save the completed file as `predict.py` in the `serve` directory.\n",
    "\n",
    "**TODO**: Complete the `predict_fn()` method in the `serve/predict.py` file."
   ]
  },
  {
   "cell_type": "markdown",
   "metadata": {},
   "source": [
    "### Deploying the model\n",
    "\n",
    "Now that the custom inference code has been written, we will create and deploy our model. To begin with, we need to construct a new PyTorchModel object which points to the model artifacts created during training and also points to the inference code that we wish to use. Then we can call the deploy method to launch the deployment container.\n",
    "\n",
    "**NOTE**: The default behaviour for a deployed PyTorch model is to assume that any input passed to the predictor is a `numpy` array. In our case we want to send a string so we need to construct a simple wrapper around the `RealTimePredictor` class to accomodate simple strings. In a more complicated situation you may want to provide a serialization object, for example if you wanted to sent image data."
   ]
  },
  {
   "cell_type": "code",
   "execution_count": 38,
   "metadata": {},
   "outputs": [
    {
     "name": "stdout",
     "output_type": "stream",
     "text": [
      "---------------!"
     ]
    }
   ],
   "source": [
    "from sagemaker.predictor import RealTimePredictor\n",
    "from sagemaker.pytorch import PyTorchModel\n",
    "\n",
    "class StringPredictor(RealTimePredictor):\n",
    "    def __init__(self, endpoint_name, sagemaker_session):\n",
    "        super(StringPredictor, self).__init__(endpoint_name, sagemaker_session, content_type='text/plain')\n",
    "\n",
    "model = PyTorchModel(model_data=estimator.model_data,\n",
    "                     role = role,\n",
    "                     framework_version='0.4.0',\n",
    "                     entry_point='predict.py',\n",
    "                     source_dir='serve',\n",
    "                     predictor_cls=StringPredictor)\n",
    "predictor = model.deploy(initial_instance_count=1, instance_type='ml.m4.xlarge')"
   ]
  },
  {
   "cell_type": "markdown",
   "metadata": {},
   "source": [
    "### Testing the model\n",
    "\n",
    "Now that we have deployed our model with the custom inference code, we should test to see if everything is working. Here we test our model by loading the first `250` positive and negative reviews and send them to the endpoint, then collect the results. The reason for only sending some of the data is that the amount of time it takes for our model to process the input and then perform inference is quite long and so testing the entire data set would be prohibitive."
   ]
  },
  {
   "cell_type": "code",
   "execution_count": 39,
   "metadata": {},
   "outputs": [],
   "source": [
    "import glob\n",
    "\n",
    "def test_reviews(data_dir='../data/aclImdb', stop=250):\n",
    "    \n",
    "    results = []\n",
    "    ground = []\n",
    "    \n",
    "    # We make sure to test both positive and negative reviews    \n",
    "    for sentiment in ['pos', 'neg']:\n",
    "        \n",
    "        path = os.path.join(data_dir, 'test', sentiment, '*.txt')\n",
    "        files = glob.glob(path)\n",
    "        \n",
    "        files_read = 0\n",
    "        \n",
    "        print('Starting ', sentiment, ' files')\n",
    "        \n",
    "        # Iterate through the files and send them to the predictor\n",
    "        for f in files:\n",
    "            with open(f) as review:\n",
    "                # First, we store the ground truth (was the review positive or negative)\n",
    "                if sentiment == 'pos':\n",
    "                    ground.append(1)\n",
    "                else:\n",
    "                    ground.append(0)\n",
    "                # Read in the review and convert to 'utf-8' for transmission via HTTP\n",
    "                review_input = review.read().encode('utf-8')\n",
    "                # Send the review to the predictor and store the results\n",
    "                results.append(int(predictor.predict(review_input)))\n",
    "                \n",
    "            # Sending reviews to our endpoint one at a time takes a while so we\n",
    "            # only send a small number of reviews\n",
    "            files_read += 1\n",
    "            if files_read == stop:\n",
    "                break\n",
    "            \n",
    "    return ground, results"
   ]
  },
  {
   "cell_type": "code",
   "execution_count": 40,
   "metadata": {},
   "outputs": [
    {
     "name": "stdout",
     "output_type": "stream",
     "text": [
      "Starting  pos  files\n"
     ]
    },
    {
     "ename": "ModelError",
     "evalue": "An error occurred (ModelError) when calling the InvokeEndpoint operation: Received server error (500) from model with message \"<!DOCTYPE HTML PUBLIC \"-//W3C//DTD HTML 3.2 Final//EN\">\n<title>500 Internal Server Error</title>\n<h1>Internal Server Error</h1>\n<p>The server encountered an internal error and was unable to complete your request.  Either the server is overloaded or there is an error in the application.</p>\n\". See https://us-east-2.console.aws.amazon.com/cloudwatch/home?region=us-east-2#logEventViewer:group=/aws/sagemaker/Endpoints/sagemaker-pytorch-2020-05-27-07-21-40-389 in account 953698043474 for more information.",
     "output_type": "error",
     "traceback": [
      "\u001b[0;31m---------------------------------------------------------------------------\u001b[0m",
      "\u001b[0;31mModelError\u001b[0m                                Traceback (most recent call last)",
      "\u001b[0;32m<ipython-input-40-27d1fd4b7c7b>\u001b[0m in \u001b[0;36m<module>\u001b[0;34m()\u001b[0m\n\u001b[0;32m----> 1\u001b[0;31m \u001b[0mground\u001b[0m\u001b[0;34m,\u001b[0m \u001b[0mresults\u001b[0m \u001b[0;34m=\u001b[0m \u001b[0mtest_reviews\u001b[0m\u001b[0;34m(\u001b[0m\u001b[0;34m)\u001b[0m\u001b[0;34m\u001b[0m\u001b[0m\n\u001b[0m",
      "\u001b[0;32m<ipython-input-39-4c56d4ff716b>\u001b[0m in \u001b[0;36mtest_reviews\u001b[0;34m(data_dir, stop)\u001b[0m\n\u001b[1;32m     27\u001b[0m                 \u001b[0mreview_input\u001b[0m \u001b[0;34m=\u001b[0m \u001b[0mreview\u001b[0m\u001b[0;34m.\u001b[0m\u001b[0mread\u001b[0m\u001b[0;34m(\u001b[0m\u001b[0;34m)\u001b[0m\u001b[0;34m.\u001b[0m\u001b[0mencode\u001b[0m\u001b[0;34m(\u001b[0m\u001b[0;34m'utf-8'\u001b[0m\u001b[0;34m)\u001b[0m\u001b[0;34m\u001b[0m\u001b[0m\n\u001b[1;32m     28\u001b[0m                 \u001b[0;31m# Send the review to the predictor and store the results\u001b[0m\u001b[0;34m\u001b[0m\u001b[0;34m\u001b[0m\u001b[0m\n\u001b[0;32m---> 29\u001b[0;31m                 \u001b[0mresults\u001b[0m\u001b[0;34m.\u001b[0m\u001b[0mappend\u001b[0m\u001b[0;34m(\u001b[0m\u001b[0mint\u001b[0m\u001b[0;34m(\u001b[0m\u001b[0mpredictor\u001b[0m\u001b[0;34m.\u001b[0m\u001b[0mpredict\u001b[0m\u001b[0;34m(\u001b[0m\u001b[0mreview_input\u001b[0m\u001b[0;34m)\u001b[0m\u001b[0;34m)\u001b[0m\u001b[0;34m)\u001b[0m\u001b[0;34m\u001b[0m\u001b[0m\n\u001b[0m\u001b[1;32m     30\u001b[0m \u001b[0;34m\u001b[0m\u001b[0m\n\u001b[1;32m     31\u001b[0m             \u001b[0;31m# Sending reviews to our endpoint one at a time takes a while so we\u001b[0m\u001b[0;34m\u001b[0m\u001b[0;34m\u001b[0m\u001b[0m\n",
      "\u001b[0;32m~/anaconda3/envs/pytorch_p36/lib/python3.6/site-packages/sagemaker/predictor.py\u001b[0m in \u001b[0;36mpredict\u001b[0;34m(self, data, initial_args, target_model)\u001b[0m\n\u001b[1;32m    108\u001b[0m \u001b[0;34m\u001b[0m\u001b[0m\n\u001b[1;32m    109\u001b[0m         \u001b[0mrequest_args\u001b[0m \u001b[0;34m=\u001b[0m \u001b[0mself\u001b[0m\u001b[0;34m.\u001b[0m\u001b[0m_create_request_args\u001b[0m\u001b[0;34m(\u001b[0m\u001b[0mdata\u001b[0m\u001b[0;34m,\u001b[0m \u001b[0minitial_args\u001b[0m\u001b[0;34m,\u001b[0m \u001b[0mtarget_model\u001b[0m\u001b[0;34m)\u001b[0m\u001b[0;34m\u001b[0m\u001b[0m\n\u001b[0;32m--> 110\u001b[0;31m         \u001b[0mresponse\u001b[0m \u001b[0;34m=\u001b[0m \u001b[0mself\u001b[0m\u001b[0;34m.\u001b[0m\u001b[0msagemaker_session\u001b[0m\u001b[0;34m.\u001b[0m\u001b[0msagemaker_runtime_client\u001b[0m\u001b[0;34m.\u001b[0m\u001b[0minvoke_endpoint\u001b[0m\u001b[0;34m(\u001b[0m\u001b[0;34m**\u001b[0m\u001b[0mrequest_args\u001b[0m\u001b[0;34m)\u001b[0m\u001b[0;34m\u001b[0m\u001b[0m\n\u001b[0m\u001b[1;32m    111\u001b[0m         \u001b[0;32mreturn\u001b[0m \u001b[0mself\u001b[0m\u001b[0;34m.\u001b[0m\u001b[0m_handle_response\u001b[0m\u001b[0;34m(\u001b[0m\u001b[0mresponse\u001b[0m\u001b[0;34m)\u001b[0m\u001b[0;34m\u001b[0m\u001b[0m\n\u001b[1;32m    112\u001b[0m \u001b[0;34m\u001b[0m\u001b[0m\n",
      "\u001b[0;32m~/anaconda3/envs/pytorch_p36/lib/python3.6/site-packages/botocore/client.py\u001b[0m in \u001b[0;36m_api_call\u001b[0;34m(self, *args, **kwargs)\u001b[0m\n\u001b[1;32m    314\u001b[0m                     \"%s() only accepts keyword arguments.\" % py_operation_name)\n\u001b[1;32m    315\u001b[0m             \u001b[0;31m# The \"self\" in this scope is referring to the BaseClient.\u001b[0m\u001b[0;34m\u001b[0m\u001b[0;34m\u001b[0m\u001b[0m\n\u001b[0;32m--> 316\u001b[0;31m             \u001b[0;32mreturn\u001b[0m \u001b[0mself\u001b[0m\u001b[0;34m.\u001b[0m\u001b[0m_make_api_call\u001b[0m\u001b[0;34m(\u001b[0m\u001b[0moperation_name\u001b[0m\u001b[0;34m,\u001b[0m \u001b[0mkwargs\u001b[0m\u001b[0;34m)\u001b[0m\u001b[0;34m\u001b[0m\u001b[0m\n\u001b[0m\u001b[1;32m    317\u001b[0m \u001b[0;34m\u001b[0m\u001b[0m\n\u001b[1;32m    318\u001b[0m         \u001b[0m_api_call\u001b[0m\u001b[0;34m.\u001b[0m\u001b[0m__name__\u001b[0m \u001b[0;34m=\u001b[0m \u001b[0mstr\u001b[0m\u001b[0;34m(\u001b[0m\u001b[0mpy_operation_name\u001b[0m\u001b[0;34m)\u001b[0m\u001b[0;34m\u001b[0m\u001b[0m\n",
      "\u001b[0;32m~/anaconda3/envs/pytorch_p36/lib/python3.6/site-packages/botocore/client.py\u001b[0m in \u001b[0;36m_make_api_call\u001b[0;34m(self, operation_name, api_params)\u001b[0m\n\u001b[1;32m    624\u001b[0m             \u001b[0merror_code\u001b[0m \u001b[0;34m=\u001b[0m \u001b[0mparsed_response\u001b[0m\u001b[0;34m.\u001b[0m\u001b[0mget\u001b[0m\u001b[0;34m(\u001b[0m\u001b[0;34m\"Error\"\u001b[0m\u001b[0;34m,\u001b[0m \u001b[0;34m{\u001b[0m\u001b[0;34m}\u001b[0m\u001b[0;34m)\u001b[0m\u001b[0;34m.\u001b[0m\u001b[0mget\u001b[0m\u001b[0;34m(\u001b[0m\u001b[0;34m\"Code\"\u001b[0m\u001b[0;34m)\u001b[0m\u001b[0;34m\u001b[0m\u001b[0m\n\u001b[1;32m    625\u001b[0m             \u001b[0merror_class\u001b[0m \u001b[0;34m=\u001b[0m \u001b[0mself\u001b[0m\u001b[0;34m.\u001b[0m\u001b[0mexceptions\u001b[0m\u001b[0;34m.\u001b[0m\u001b[0mfrom_code\u001b[0m\u001b[0;34m(\u001b[0m\u001b[0merror_code\u001b[0m\u001b[0;34m)\u001b[0m\u001b[0;34m\u001b[0m\u001b[0m\n\u001b[0;32m--> 626\u001b[0;31m             \u001b[0;32mraise\u001b[0m \u001b[0merror_class\u001b[0m\u001b[0;34m(\u001b[0m\u001b[0mparsed_response\u001b[0m\u001b[0;34m,\u001b[0m \u001b[0moperation_name\u001b[0m\u001b[0;34m)\u001b[0m\u001b[0;34m\u001b[0m\u001b[0m\n\u001b[0m\u001b[1;32m    627\u001b[0m         \u001b[0;32melse\u001b[0m\u001b[0;34m:\u001b[0m\u001b[0;34m\u001b[0m\u001b[0m\n\u001b[1;32m    628\u001b[0m             \u001b[0;32mreturn\u001b[0m \u001b[0mparsed_response\u001b[0m\u001b[0;34m\u001b[0m\u001b[0m\n",
      "\u001b[0;31mModelError\u001b[0m: An error occurred (ModelError) when calling the InvokeEndpoint operation: Received server error (500) from model with message \"<!DOCTYPE HTML PUBLIC \"-//W3C//DTD HTML 3.2 Final//EN\">\n<title>500 Internal Server Error</title>\n<h1>Internal Server Error</h1>\n<p>The server encountered an internal error and was unable to complete your request.  Either the server is overloaded or there is an error in the application.</p>\n\". See https://us-east-2.console.aws.amazon.com/cloudwatch/home?region=us-east-2#logEventViewer:group=/aws/sagemaker/Endpoints/sagemaker-pytorch-2020-05-27-07-21-40-389 in account 953698043474 for more information."
     ]
    }
   ],
   "source": [
    "ground, results = test_reviews()"
   ]
  },
  {
   "cell_type": "code",
   "execution_count": null,
   "metadata": {},
   "outputs": [],
   "source": [
    "from sklearn.metrics import accuracy_score\n",
    "accuracy_score(ground, results)"
   ]
  },
  {
   "cell_type": "markdown",
   "metadata": {},
   "source": [
    "As an additional test, we can try sending the `test_review` that we looked at earlier."
   ]
  },
  {
   "cell_type": "code",
   "execution_count": null,
   "metadata": {},
   "outputs": [],
   "source": [
    "predictor.predict(test_review)"
   ]
  },
  {
   "cell_type": "markdown",
   "metadata": {},
   "source": [
    "Now that we know our endpoint is working as expected, we can set up the web page that will interact with it. If you don't have time to finish the project now, make sure to skip down to the end of this notebook and shut down your endpoint. You can deploy it again when you come back."
   ]
  },
  {
   "cell_type": "markdown",
   "metadata": {},
   "source": [
    "## Step 7 (again): Use the model for the web app\n",
    "\n",
    "> **TODO:** This entire section and the next contain tasks for you to complete, mostly using the AWS console.\n",
    "\n",
    "So far we have been accessing our model endpoint by constructing a predictor object which uses the endpoint and then just using the predictor object to perform inference. What if we wanted to create a web app which accessed our model? The way things are set up currently makes that not possible since in order to access a SageMaker endpoint the app would first have to authenticate with AWS using an IAM role which included access to SageMaker endpoints. However, there is an easier way! We just need to use some additional AWS services.\n",
    "\n",
    "<img src=\"Web App Diagram.svg\">\n",
    "\n",
    "The diagram above gives an overview of how the various services will work together. On the far right is the model which we trained above and which is deployed using SageMaker. On the far left is our web app that collects a user's movie review, sends it off and expects a positive or negative sentiment in return.\n",
    "\n",
    "In the middle is where some of the magic happens. We will construct a Lambda function, which you can think of as a straightforward Python function that can be executed whenever a specified event occurs. We will give this function permission to send and recieve data from a SageMaker endpoint.\n",
    "\n",
    "Lastly, the method we will use to execute the Lambda function is a new endpoint that we will create using API Gateway. This endpoint will be a url that listens for data to be sent to it. Once it gets some data it will pass that data on to the Lambda function and then return whatever the Lambda function returns. Essentially it will act as an interface that lets our web app communicate with the Lambda function.\n",
    "\n",
    "### Setting up a Lambda function\n",
    "\n",
    "The first thing we are going to do is set up a Lambda function. This Lambda function will be executed whenever our public API has data sent to it. When it is executed it will receive the data, perform any sort of processing that is required, send the data (the review) to the SageMaker endpoint we've created and then return the result.\n",
    "\n",
    "#### Part A: Create an IAM Role for the Lambda function\n",
    "\n",
    "Since we want the Lambda function to call a SageMaker endpoint, we need to make sure that it has permission to do so. To do this, we will construct a role that we can later give the Lambda function.\n",
    "\n",
    "Using the AWS Console, navigate to the **IAM** page and click on **Roles**. Then, click on **Create role**. Make sure that the **AWS service** is the type of trusted entity selected and choose **Lambda** as the service that will use this role, then click **Next: Permissions**.\n",
    "\n",
    "In the search box type `sagemaker` and select the check box next to the **AmazonSageMakerFullAccess** policy. Then, click on **Next: Review**.\n",
    "\n",
    "Lastly, give this role a name. Make sure you use a name that you will remember later on, for example `LambdaSageMakerRole`. Then, click on **Create role**.\n",
    "\n",
    "#### Part B: Create a Lambda function\n",
    "\n",
    "Now it is time to actually create the Lambda function.\n",
    "\n",
    "Using the AWS Console, navigate to the AWS Lambda page and click on **Create a function**. When you get to the next page, make sure that **Author from scratch** is selected. Now, name your Lambda function, using a name that you will remember later on, for example `sentiment_analysis_func`. Make sure that the **Python 3.6** runtime is selected and then choose the role that you created in the previous part. Then, click on **Create Function**.\n",
    "\n",
    "On the next page you will see some information about the Lambda function you've just created. If you scroll down you should see an editor in which you can write the code that will be executed when your Lambda function is triggered. In our example, we will use the code below. \n",
    "\n",
    "```python\n",
    "# We need to use the low-level library to interact with SageMaker since the SageMaker API\n",
    "# is not available natively through Lambda.\n",
    "import boto3\n",
    "\n",
    "def lambda_handler(event, context):\n",
    "\n",
    "    # The SageMaker runtime is what allows us to invoke the endpoint that we've created.\n",
    "    runtime = boto3.Session().client('sagemaker-runtime')\n",
    "\n",
    "    # Now we use the SageMaker runtime to invoke our endpoint, sending the review we were given\n",
    "    response = runtime.invoke_endpoint(EndpointName = '**ENDPOINT NAME HERE**',    # The name of the endpoint we created\n",
    "                                       ContentType = 'text/plain',                 # The data format that is expected\n",
    "                                       Body = event['body'])                       # The actual review\n",
    "\n",
    "    # The response is an HTTP response whose body contains the result of our inference\n",
    "    result = response['Body'].read().decode('utf-8')\n",
    "\n",
    "    return {\n",
    "        'statusCode' : 200,\n",
    "        'headers' : { 'Content-Type' : 'text/plain', 'Access-Control-Allow-Origin' : '*' },\n",
    "        'body' : result\n",
    "    }\n",
    "```\n",
    "\n",
    "Once you have copy and pasted the code above into the Lambda code editor, replace the `**ENDPOINT NAME HERE**` portion with the name of the endpoint that we deployed earlier. You can determine the name of the endpoint using the code cell below."
   ]
  },
  {
   "cell_type": "code",
   "execution_count": null,
   "metadata": {},
   "outputs": [],
   "source": [
    "predictor.endpoint"
   ]
  },
  {
   "cell_type": "markdown",
   "metadata": {},
   "source": [
    "Once you have added the endpoint name to the Lambda function, click on **Save**. Your Lambda function is now up and running. Next we need to create a way for our web app to execute the Lambda function.\n",
    "\n",
    "### Setting up API Gateway\n",
    "\n",
    "Now that our Lambda function is set up, it is time to create a new API using API Gateway that will trigger the Lambda function we have just created.\n",
    "\n",
    "Using AWS Console, navigate to **Amazon API Gateway** and then click on **Get started**.\n",
    "\n",
    "On the next page, make sure that **New API** is selected and give the new api a name, for example, `sentiment_analysis_api`. Then, click on **Create API**.\n",
    "\n",
    "Now we have created an API, however it doesn't currently do anything. What we want it to do is to trigger the Lambda function that we created earlier.\n",
    "\n",
    "Select the **Actions** dropdown menu and click **Create Method**. A new blank method will be created, select its dropdown menu and select **POST**, then click on the check mark beside it.\n",
    "\n",
    "For the integration point, make sure that **Lambda Function** is selected and click on the **Use Lambda Proxy integration**. This option makes sure that the data that is sent to the API is then sent directly to the Lambda function with no processing. It also means that the return value must be a proper response object as it will also not be processed by API Gateway.\n",
    "\n",
    "Type the name of the Lambda function you created earlier into the **Lambda Function** text entry box and then click on **Save**. Click on **OK** in the pop-up box that then appears, giving permission to API Gateway to invoke the Lambda function you created.\n",
    "\n",
    "The last step in creating the API Gateway is to select the **Actions** dropdown and click on **Deploy API**. You will need to create a new Deployment stage and name it anything you like, for example `prod`.\n",
    "\n",
    "You have now successfully set up a public API to access your SageMaker model. Make sure to copy or write down the URL provided to invoke your newly created public API as this will be needed in the next step. This URL can be found at the top of the page, highlighted in blue next to the text **Invoke URL**."
   ]
  },
  {
   "cell_type": "markdown",
   "metadata": {},
   "source": [
    "## Step 4: Deploying our web app\n",
    "\n",
    "Now that we have a publicly available API, we can start using it in a web app. For our purposes, we have provided a simple static html file which can make use of the public api you created earlier.\n",
    "\n",
    "In the `website` folder there should be a file called `index.html`. Download the file to your computer and open that file up in a text editor of your choice. There should be a line which contains **\\*\\*REPLACE WITH PUBLIC API URL\\*\\***. Replace this string with the url that you wrote down in the last step and then save the file.\n",
    "\n",
    "Now, if you open `index.html` on your local computer, your browser will behave as a local web server and you can use the provided site to interact with your SageMaker model.\n",
    "\n",
    "If you'd like to go further, you can host this html file anywhere you'd like, for example using github or hosting a static site on Amazon's S3. Once you have done this you can share the link with anyone you'd like and have them play with it too!\n",
    "\n",
    "> **Important Note** In order for the web app to communicate with the SageMaker endpoint, the endpoint has to actually be deployed and running. This means that you are paying for it. Make sure that the endpoint is running when you want to use the web app but that you shut it down when you don't need it, otherwise you will end up with a surprisingly large AWS bill.\n",
    "\n",
    "**TODO:** Make sure that you include the edited `index.html` file in your project submission."
   ]
  },
  {
   "cell_type": "markdown",
   "metadata": {},
   "source": [
    "Now that your web app is working, trying playing around with it and see how well it works.\n",
    "\n",
    "**Question**: Give an example of a review that you entered into your web app. What was the predicted sentiment of your example review?"
   ]
  },
  {
   "cell_type": "markdown",
   "metadata": {},
   "source": [
    "**Answer:**"
   ]
  },
  {
   "cell_type": "markdown",
   "metadata": {},
   "source": [
    "### Delete the endpoint\n",
    "\n",
    "Remember to always shut down your endpoint if you are no longer using it. You are charged for the length of time that the endpoint is running so if you forget and leave it on you could end up with an unexpectedly large bill."
   ]
  },
  {
   "cell_type": "code",
   "execution_count": null,
   "metadata": {},
   "outputs": [],
   "source": [
    "predictor.delete_endpoint()"
   ]
  },
  {
   "cell_type": "code",
   "execution_count": null,
   "metadata": {},
   "outputs": [],
   "source": []
  }
 ],
 "metadata": {
  "kernelspec": {
   "display_name": "conda_pytorch_p36",
   "language": "python",
   "name": "conda_pytorch_p36"
  },
  "language_info": {
   "codemirror_mode": {
    "name": "ipython",
    "version": 3
   },
   "file_extension": ".py",
   "mimetype": "text/x-python",
   "name": "python",
   "nbconvert_exporter": "python",
   "pygments_lexer": "ipython3",
   "version": "3.6.5"
  }
 },
 "nbformat": 4,
 "nbformat_minor": 2
}
